{
 "cells": [
  {
   "cell_type": "code",
   "execution_count": 35,
   "id": "cellular-mauritius",
   "metadata": {},
   "outputs": [],
   "source": [
    "from qiskit import BasicAer,Aer, transpile\n",
    "from qiskit import QuantumRegister,ClassicalRegister,QuantumCircuit"
   ]
  },
  {
   "cell_type": "code",
   "execution_count": 39,
   "id": "occasional-virgin",
   "metadata": {},
   "outputs": [
    {
     "name": "stdout",
     "output_type": "stream",
     "text": [
      "{'00': 2, '11': 8}\n"
     ]
    }
   ],
   "source": [
    "\n",
    "# Create circuit\n",
    "circ = QuantumCircuit(2)\n",
    "circ.h(0)\n",
    "circ.cx(0, 1)\n",
    "circ.measure_all()\n",
    "\n",
    "backend = Aer.get_backend(\"qasm_simulator\")\n",
    "result= execute(circ, backend=backend, shots=10).result()\n",
    "counts=result.get_counts()\n",
    "print(counts)"
   ]
  },
  {
   "cell_type": "code",
   "execution_count": null,
   "id": "published-table",
   "metadata": {},
   "outputs": [],
   "source": []
  }
 ],
 "metadata": {
  "kernelspec": {
   "display_name": "Python 3",
   "language": "python",
   "name": "python3"
  },
  "language_info": {
   "codemirror_mode": {
    "name": "ipython",
    "version": 3
   },
   "file_extension": ".py",
   "mimetype": "text/x-python",
   "name": "python",
   "nbconvert_exporter": "python",
   "pygments_lexer": "ipython3",
   "version": "3.7.10"
  }
 },
 "nbformat": 4,
 "nbformat_minor": 5
}
