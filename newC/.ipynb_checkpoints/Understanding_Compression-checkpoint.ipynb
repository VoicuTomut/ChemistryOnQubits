{
 "cells": [
  {
   "cell_type": "code",
   "execution_count": 3,
   "id": "mechanical-eclipse",
   "metadata": {},
   "outputs": [],
   "source": [
    "import matplotlib.pyplot as plt"
   ]
  },
  {
   "cell_type": "code",
   "execution_count": 24,
   "id": "intimate-dance",
   "metadata": {},
   "outputs": [],
   "source": [
    "from qiskit import BasicAer, Aer\n",
    "from qiskit import QuantumRegister ,ClassicalRegister,QuantumCircuit\n",
    "from qiskit import execute"
   ]
  },
  {
   "cell_type": "code",
   "execution_count": 15,
   "id": "several-cologne",
   "metadata": {},
   "outputs": [],
   "source": [
    "import pennylane as qml\n",
    "from pennylane import numpy as np"
   ]
  },
  {
   "cell_type": "code",
   "execution_count": null,
   "id": "loved-chemistry",
   "metadata": {},
   "outputs": [],
   "source": [
    "from math_sh import decompose,print_decompose"
   ]
  },
  {
   "cell_type": "code",
   "execution_count": 41,
   "id": "noticed-traveler",
   "metadata": {},
   "outputs": [],
   "source": [
    "#  Constants:\n",
    "\n",
    "# Pauli matrix\n",
    "I=np.array([[1,0],[0,1]],dtype=np.complex128)\n",
    "X=np.array([[0,1],[1,0]],dtype=np.complex128)\n",
    "Y=np.array([[0,-1.0j],[1.0j,0]],dtype=np.complex128)\n",
    "Z=np.array([[1,0],[0,-1]],dtype=np.complex128)"
   ]
  },
  {
   "cell_type": "code",
   "execution_count": 4,
   "id": "peaceful-national",
   "metadata": {},
   "outputs": [],
   "source": [
    "# Initial state \n",
    "# Gates \n",
    "# Observabile "
   ]
  },
  {
   "cell_type": "code",
   "execution_count": 5,
   "id": "prepared-identity",
   "metadata": {},
   "outputs": [],
   "source": [
    "# Gates\n",
    "\n",
    "# Initial n qubits circuit.\n",
    "# Initial gates: U=U_N...U_1\n",
    "# U_l=exp{ \\sum_{j,k=0}^{2n-1} ([h_l]_{j,k}c_jc_k) }\n",
    "\n",
    "# Copress m qubit circuit.\n",
    "# Copmress gates: R=R_N..R_1\n",
    "# R_l=exp{4h_l}\n"
   ]
  },
  {
   "cell_type": "code",
   "execution_count": 40,
   "id": "competent-castle",
   "metadata": {},
   "outputs": [
    {
     "name": "stdout",
     "output_type": "stream",
     "text": [
      "GZB matrix for t =7:\n",
      "\n",
      "[1, 0, 0, 0]\n",
      "[0, -0.7539022543433046, 0.6569865987187891, 0]\n",
      "[0, 0.6569865987187891, 0.7539022543433046]\n",
      "[0, 0, -1]\n",
      "circuit matrix:\n",
      "\n",
      "[[ 1.        +0.j  0.        -0.j  0.        -0.j  0.        -0.j]\n",
      " [ 0.        +0.j -0.75390225+0.j  0.6569866 +0.j  0.        +0.j]\n",
      " [ 0.        +0.j  0.6569866 +0.j  0.75390225+0.j  0.        +0.j]\n",
      " [ 0.        +0.j -0.        +0.j -0.        +0.j -1.        +0.j]]\n"
     ]
    },
    {
     "data": {
      "image/png": "[encoded data removed]",
      "text/plain": [
       "<Figure size 327.252x144.48 with 1 Axes>"
      ]
     },
     "execution_count": 40,
     "metadata": {},
     "output_type": "execute_result"
    }
   ],
   "source": [
    "# Initial gates:\n",
    "# -> matchgaes with the foolowing form :\n",
    "\n",
    "t=7\n",
    "\n",
    "def mat_GZB(theta):\n",
    "    mat=[[1, 0, 0, 0],\n",
    "         [0, -np.cos(theta), np.sin(theta), 0,],\n",
    "         [0, np.sin(theta), np.cos(theta),],\n",
    "         [0, 0, -1,]]\n",
    "    return mat\n",
    "\n",
    "print('GZB matrix for t ={}:\\n'.format(t))\n",
    "for i in mat_GZB(t):\n",
    "    print(i)\n",
    "\n",
    "# circuit form \n",
    "def qiskit_GZB(theta):\n",
    "    \n",
    "    gzb= QuantumCircuit(2,name='GZB('+str(theta)+')')\n",
    "    gzb.cx(0,1)\n",
    "    gzb.z(0)\n",
    "    gzb.cry(theta,1,0)\n",
    "    gzb.cx(0,1)\n",
    "    gate=gzb.to_gate()\n",
    "    return gate\n",
    "\n",
    "circ=QuantumCircuit(2)\n",
    "circ.append(qiskit_GZB(t*2),[0,1])\n",
    "circ=circ.decompose()\n",
    "\n",
    "backend = Aer.get_backend('unitary_simulator')\n",
    "job = execute(circ, backend)\n",
    "result = job.result()\n",
    "print(\"circuit matrix:\\n\")\n",
    "print(result.get_unitary(circ, decimals=3))\n",
    "\n",
    "circ.draw('mpl')\n",
    "\n"
   ]
  },
  {
   "cell_type": "code",
   "execution_count": 44,
   "id": "sensitive-textbook",
   "metadata": {},
   "outputs": [],
   "source": [
    "# Now let's decompose our matrix in products of c_i\n",
    "\n",
    "# Function to create c group\n",
    "\n",
    "# Operators for Jordan-Wigner mapping\n",
    "def get_c(nrq):\n",
    "    x=[]\n",
    "    for i in range (nrq):\n",
    "        x2=X\n",
    "        x21=Y\n",
    "        for k in range(i):\n",
    "            x2=np.kron(Z,x2)\n",
    "            x21=np.kron(Z,x21)\n",
    "        for k in range(i+1,nrq):\n",
    "            x2=np.kron(x2,I)\n",
    "            x21=np.kron(x21,I)\n",
    "        x.append(x2)\n",
    "        x.append(x21)\n",
    "    return x\n",
    "\n",
    "class c_op():\n",
    "    def __init__(self,size):\n",
    "        self.size=size\n",
    "        self.elements=get_c(size)\n",
    "        self.label,self.coef=self.labels()\n",
    "        self.etichet=self.et()\n",
    "    def et(self):\n",
    "        et=[]\n",
    "        for i in range(self.size*2):\n",
    "            et.append('c_'+str(i))\n",
    "        return et\n",
    "    def labels(self):\n",
    "        labels=[]\n",
    "        coef=[]\n",
    "        for j in self.elements:\n",
    "            l=[]\n",
    "            c=[]\n",
    "            x_j,x_label=decompose(j)\n",
    "            for i in range(len(x_j)):\n",
    "                if(abs(x_j[i])!=0):\n",
    "                    l.append(x_label[i])\n",
    "                    c.append(x_j[i])\n",
    "            labels.append(l)\n",
    "            coef.append(c)\n",
    "        return labels, coef\n",
    "    def info(self):\n",
    "        print('size:',self.size)\n",
    "        label=self.label\n",
    "        coef=self.coef\n",
    "        print('nr. elements:',len(label))\n",
    "        for i in range(len(label)):\n",
    "            print(self.etichet[i])\n",
    "            print('labels:',label[i])\n",
    "            print('coef:',coef[i])\n",
    "            print('matrix: \\n',self.elements[i])\n",
    "            print(\"#################################################\")"
   ]
  },
  {
   "cell_type": "code",
   "execution_count": 45,
   "id": "exotic-portable",
   "metadata": {},
   "outputs": [
    {
     "ename": "NameError",
     "evalue": "name 'decompose' is not defined",
     "output_type": "error",
     "traceback": [
      "\u001b[0;31m---------------------------------------------------------------------------\u001b[0m",
      "\u001b[0;31mNameError\u001b[0m                                 Traceback (most recent call last)",
      "\u001b[0;32m<ipython-input-45-c801287881e0>\u001b[0m in \u001b[0;36m<module>\u001b[0;34m\u001b[0m\n\u001b[1;32m      1\u001b[0m \u001b[0;31m# Example:\u001b[0m\u001b[0;34m\u001b[0m\u001b[0;34m\u001b[0m\u001b[0;34m\u001b[0m\u001b[0m\n\u001b[1;32m      2\u001b[0m \u001b[0;34m\u001b[0m\u001b[0m\n\u001b[0;32m----> 3\u001b[0;31m \u001b[0mC\u001b[0m\u001b[0;34m=\u001b[0m\u001b[0mc_op\u001b[0m\u001b[0;34m(\u001b[0m\u001b[0;36m2\u001b[0m\u001b[0;34m)\u001b[0m\u001b[0;34m\u001b[0m\u001b[0;34m\u001b[0m\u001b[0m\n\u001b[0m\u001b[1;32m      4\u001b[0m \u001b[0mC\u001b[0m\u001b[0;34m.\u001b[0m\u001b[0minfo\u001b[0m\u001b[0;34m(\u001b[0m\u001b[0;34m)\u001b[0m\u001b[0;34m\u001b[0m\u001b[0;34m\u001b[0m\u001b[0m\n",
      "\u001b[0;32m<ipython-input-44-9cda0ce205f2>\u001b[0m in \u001b[0;36m__init__\u001b[0;34m(self, size)\u001b[0m\n\u001b[1;32m     23\u001b[0m         \u001b[0mself\u001b[0m\u001b[0;34m.\u001b[0m\u001b[0msize\u001b[0m\u001b[0;34m=\u001b[0m\u001b[0msize\u001b[0m\u001b[0;34m\u001b[0m\u001b[0;34m\u001b[0m\u001b[0m\n\u001b[1;32m     24\u001b[0m         \u001b[0mself\u001b[0m\u001b[0;34m.\u001b[0m\u001b[0melements\u001b[0m\u001b[0;34m=\u001b[0m\u001b[0mget_c\u001b[0m\u001b[0;34m(\u001b[0m\u001b[0msize\u001b[0m\u001b[0;34m)\u001b[0m\u001b[0;34m\u001b[0m\u001b[0;34m\u001b[0m\u001b[0m\n\u001b[0;32m---> 25\u001b[0;31m         \u001b[0mself\u001b[0m\u001b[0;34m.\u001b[0m\u001b[0mlabel\u001b[0m\u001b[0;34m,\u001b[0m\u001b[0mself\u001b[0m\u001b[0;34m.\u001b[0m\u001b[0mcoef\u001b[0m\u001b[0;34m=\u001b[0m\u001b[0mself\u001b[0m\u001b[0;34m.\u001b[0m\u001b[0mlabels\u001b[0m\u001b[0;34m(\u001b[0m\u001b[0;34m)\u001b[0m\u001b[0;34m\u001b[0m\u001b[0;34m\u001b[0m\u001b[0m\n\u001b[0m\u001b[1;32m     26\u001b[0m         \u001b[0mself\u001b[0m\u001b[0;34m.\u001b[0m\u001b[0metichet\u001b[0m\u001b[0;34m=\u001b[0m\u001b[0mself\u001b[0m\u001b[0;34m.\u001b[0m\u001b[0met\u001b[0m\u001b[0;34m(\u001b[0m\u001b[0;34m)\u001b[0m\u001b[0;34m\u001b[0m\u001b[0;34m\u001b[0m\u001b[0m\n\u001b[1;32m     27\u001b[0m     \u001b[0;32mdef\u001b[0m \u001b[0met\u001b[0m\u001b[0;34m(\u001b[0m\u001b[0mself\u001b[0m\u001b[0;34m)\u001b[0m\u001b[0;34m:\u001b[0m\u001b[0;34m\u001b[0m\u001b[0;34m\u001b[0m\u001b[0m\n",
      "\u001b[0;32m<ipython-input-44-9cda0ce205f2>\u001b[0m in \u001b[0;36mlabels\u001b[0;34m(self)\u001b[0m\n\u001b[1;32m     36\u001b[0m             \u001b[0ml\u001b[0m\u001b[0;34m=\u001b[0m\u001b[0;34m[\u001b[0m\u001b[0;34m]\u001b[0m\u001b[0;34m\u001b[0m\u001b[0;34m\u001b[0m\u001b[0m\n\u001b[1;32m     37\u001b[0m             \u001b[0mc\u001b[0m\u001b[0;34m=\u001b[0m\u001b[0;34m[\u001b[0m\u001b[0;34m]\u001b[0m\u001b[0;34m\u001b[0m\u001b[0;34m\u001b[0m\u001b[0m\n\u001b[0;32m---> 38\u001b[0;31m             \u001b[0mx_j\u001b[0m\u001b[0;34m,\u001b[0m\u001b[0mx_label\u001b[0m\u001b[0;34m=\u001b[0m\u001b[0mdecompose\u001b[0m\u001b[0;34m(\u001b[0m\u001b[0mj\u001b[0m\u001b[0;34m)\u001b[0m\u001b[0;34m\u001b[0m\u001b[0;34m\u001b[0m\u001b[0m\n\u001b[0m\u001b[1;32m     39\u001b[0m             \u001b[0;32mfor\u001b[0m \u001b[0mi\u001b[0m \u001b[0;32min\u001b[0m \u001b[0mrange\u001b[0m\u001b[0;34m(\u001b[0m\u001b[0mlen\u001b[0m\u001b[0;34m(\u001b[0m\u001b[0mx_j\u001b[0m\u001b[0;34m)\u001b[0m\u001b[0;34m)\u001b[0m\u001b[0;34m:\u001b[0m\u001b[0;34m\u001b[0m\u001b[0;34m\u001b[0m\u001b[0m\n\u001b[1;32m     40\u001b[0m                 \u001b[0;32mif\u001b[0m\u001b[0;34m(\u001b[0m\u001b[0mabs\u001b[0m\u001b[0;34m(\u001b[0m\u001b[0mx_j\u001b[0m\u001b[0;34m[\u001b[0m\u001b[0mi\u001b[0m\u001b[0;34m]\u001b[0m\u001b[0;34m)\u001b[0m\u001b[0;34m!=\u001b[0m\u001b[0;36m0\u001b[0m\u001b[0;34m)\u001b[0m\u001b[0;34m:\u001b[0m\u001b[0;34m\u001b[0m\u001b[0;34m\u001b[0m\u001b[0m\n",
      "\u001b[0;31mNameError\u001b[0m: name 'decompose' is not defined"
     ]
    }
   ],
   "source": [
    "# Example:\n",
    "\n",
    "C=c_op(2)\n",
    "C.info()"
   ]
  },
  {
   "cell_type": "code",
   "execution_count": null,
   "id": "adaptive-indication",
   "metadata": {},
   "outputs": [],
   "source": []
  }
 ],
 "metadata": {
  "kernelspec": {
   "display_name": "Python 3",
   "language": "python",
   "name": "python3"
  },
  "language_info": {
   "codemirror_mode": {
    "name": "ipython",
    "version": 3
   },
   "file_extension": ".py",
   "mimetype": "text/x-python",
   "name": "python",
   "nbconvert_exporter": "python",
   "pygments_lexer": "ipython3",
   "version": "3.7.10"
  }
 },
 "nbformat": 4,
 "nbformat_minor": 5
}
