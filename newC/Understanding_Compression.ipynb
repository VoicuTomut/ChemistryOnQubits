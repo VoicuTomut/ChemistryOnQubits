{
 "cells": [
  {
   "cell_type": "code",
   "execution_count": 1,
   "id": "centered-waste",
   "metadata": {},
   "outputs": [],
   "source": [
    "import matplotlib.pyplot as plt\n",
    "from scipy.linalg import expm,logm, sinm, cosm"
   ]
  },
  {
   "cell_type": "code",
   "execution_count": 2,
   "id": "better-panel",
   "metadata": {},
   "outputs": [],
   "source": [
    "from qiskit import BasicAer, Aer\n",
    "from qiskit import QuantumRegister ,ClassicalRegister,QuantumCircuit\n",
    "from qiskit import execute"
   ]
  },
  {
   "cell_type": "code",
   "execution_count": 3,
   "id": "diverse-messaging",
   "metadata": {},
   "outputs": [],
   "source": [
    "import pennylane as qml\n",
    "from pennylane import numpy as np"
   ]
  },
  {
   "cell_type": "code",
   "execution_count": 4,
   "id": "sweet-thomson",
   "metadata": {},
   "outputs": [],
   "source": [
    "from math_sh import *"
   ]
  },
  {
   "cell_type": "code",
   "execution_count": 5,
   "id": "compatible-international",
   "metadata": {},
   "outputs": [],
   "source": [
    "# Initial state \n",
    "# Gates \n",
    "# Observabile "
   ]
  },
  {
   "cell_type": "code",
   "execution_count": 6,
   "id": "charged-bangladesh",
   "metadata": {},
   "outputs": [],
   "source": [
    "# Gates\n",
    "\n",
    "# Initial n qubits circuit.\n",
    "# Initial gates: U=U_N...U_1\n",
    "# U_l=exp{ \\sum_{j,k=0}^{2n-1} ([h_l]_{j,k}c_jc_k) }\n",
    "\n",
    "# Copress m qubit circuit.\n",
    "# Copmress gates: R=R_N..R_1\n",
    "# R_l=exp{4h_l}\n"
   ]
  },
  {
   "cell_type": "code",
   "execution_count": 7,
   "id": "coral-blanket",
   "metadata": {},
   "outputs": [
    {
     "name": "stdout",
     "output_type": "stream",
     "text": [
      "GZB matrix for t =7:\n",
      "\n",
      "[1, 0, 0, 0]\n",
      "[0, -0.7539022543433046, 0.6569865987187891, 0]\n",
      "[0, 0.6569865987187891, 0.7539022543433046]\n",
      "[0, 0, -1]\n",
      "circuit matrix:\n",
      "\n",
      "[[ 1.        +0.j  0.        -0.j  0.        -0.j  0.        -0.j]\n",
      " [ 0.        +0.j -0.75390225+0.j  0.6569866 +0.j  0.        +0.j]\n",
      " [ 0.        +0.j  0.6569866 +0.j  0.75390225+0.j  0.        +0.j]\n",
      " [ 0.        +0.j -0.        +0.j -0.        +0.j -1.        +0.j]]\n"
     ]
    },
    {
     "data": {
      "image/png": "[encoded data removed]",
      "text/plain": [
       "<Figure size 327.252x144.48 with 1 Axes>"
      ]
     },
     "execution_count": 7,
     "metadata": {},
     "output_type": "execute_result"
    }
   ],
   "source": [
    "# Initial gates:\n",
    "# -> matchgaes with the foolowing form :\n",
    "\n",
    "t=7\n",
    "\n",
    "def mat_GZB(theta):\n",
    "    mat=[[1, 0, 0, 0],\n",
    "         [0, -np.cos(theta), np.sin(theta), 0,],\n",
    "         [0, np.sin(theta), np.cos(theta),],\n",
    "         [0, 0, -1,]]\n",
    "    return mat\n",
    "\n",
    "print('GZB matrix for t ={}:\\n'.format(t))\n",
    "for i in mat_GZB(t):\n",
    "    print(i)\n",
    "\n",
    "# circuit form \n",
    "def qiskit_GZB(theta):\n",
    "    \n",
    "    gzb= QuantumCircuit(2,name='GZB('+str(theta)+')')\n",
    "    gzb.cx(0,1)\n",
    "    gzb.z(0)\n",
    "    gzb.cry(theta,1,0)\n",
    "    gzb.cx(0,1)\n",
    "    gate=gzb.to_gate()\n",
    "    return gate\n",
    "\n",
    "circ=QuantumCircuit(2)\n",
    "circ.append(qiskit_GZB(t*2),[0,1])\n",
    "circ=circ.decompose()\n",
    "\n",
    "backend = Aer.get_backend('unitary_simulator')\n",
    "job = execute(circ, backend)\n",
    "result = job.result()\n",
    "print(\"circuit matrix:\\n\")\n",
    "print(result.get_unitary(circ, decimals=3))\n",
    "\n",
    "circ.draw('mpl')\n",
    "\n"
   ]
  },
  {
   "cell_type": "code",
   "execution_count": 8,
   "id": "ethical-package",
   "metadata": {},
   "outputs": [],
   "source": [
    "# Now let's decompose our matrix in products of c_i\n",
    "\n",
    "# Function to create c group\n",
    "\n",
    "# Operators for Jordan-Wigner mapping\n",
    "def get_c(nrq):\n",
    "    x=[]\n",
    "    for i in range (nrq):\n",
    "        x2=X\n",
    "        x21=Y\n",
    "        for k in range(i):\n",
    "            x2=np.kron(Z,x2)\n",
    "            x21=np.kron(Z,x21)\n",
    "        for k in range(i+1,nrq):\n",
    "            x2=np.kron(x2,I)\n",
    "            x21=np.kron(x21,I)\n",
    "        x.append(x2)\n",
    "        x.append(x21)\n",
    "    return x\n",
    "\n",
    "class c_op():\n",
    "    def __init__(self,size):\n",
    "        self.size=size\n",
    "        self.elements=get_c(size)\n",
    "        self.label,self.coef=self.labels()\n",
    "        self.etichet=self.et()\n",
    "    def et(self):\n",
    "        et=[]\n",
    "        for i in range(self.size*2):\n",
    "            et.append('c_'+str(i))\n",
    "        return et\n",
    "    def labels(self):\n",
    "        labels=[]\n",
    "        coef=[]\n",
    "        for j in self.elements:\n",
    "            l=[]\n",
    "            c=[]\n",
    "            x_j,x_label=decompose(j)\n",
    "            for i in range(len(x_j)):\n",
    "                if(abs(x_j[i])!=0):\n",
    "                    l.append(x_label[i])\n",
    "                    c.append(x_j[i])\n",
    "            labels.append(l)\n",
    "            coef.append(c)\n",
    "        return labels, coef\n",
    "    def info(self):\n",
    "        print('size:',self.size)\n",
    "        label=self.label\n",
    "        coef=self.coef\n",
    "        print('nr. elements:',len(label))\n",
    "        for i in range(len(label)):\n",
    "            print(self.etichet[i])\n",
    "            print('labels:',label[i])\n",
    "            print('coef:',coef[i])\n",
    "            print('matrix: \\n',self.elements[i])\n",
    "            print(\"#################################################\")"
   ]
  },
  {
   "cell_type": "code",
   "execution_count": 9,
   "id": "missing-honolulu",
   "metadata": {},
   "outputs": [
    {
     "name": "stdout",
     "output_type": "stream",
     "text": [
      "size: 2\n",
      "nr. elements: 4\n",
      "c_0\n",
      "labels: ['XI']\n",
      "coef: [(1+0j)]\n",
      "matrix: \n",
      " [[0.+0.j 0.+0.j 1.+0.j 0.+0.j]\n",
      " [0.+0.j 0.+0.j 0.+0.j 1.+0.j]\n",
      " [1.+0.j 0.+0.j 0.+0.j 0.+0.j]\n",
      " [0.+0.j 1.+0.j 0.+0.j 0.+0.j]]\n",
      "#################################################\n",
      "c_1\n",
      "labels: ['YI']\n",
      "coef: [(1+0j)]\n",
      "matrix: \n",
      " [[0.+0.j 0.+0.j 0.-1.j 0.-0.j]\n",
      " [0.+0.j 0.+0.j 0.-0.j 0.-1.j]\n",
      " [0.+1.j 0.+0.j 0.+0.j 0.+0.j]\n",
      " [0.+0.j 0.+1.j 0.+0.j 0.+0.j]]\n",
      "#################################################\n",
      "c_2\n",
      "labels: ['ZX']\n",
      "coef: [(1+0j)]\n",
      "matrix: \n",
      " [[ 0.+0.j  1.+0.j  0.+0.j  0.+0.j]\n",
      " [ 1.+0.j  0.+0.j  0.+0.j  0.+0.j]\n",
      " [ 0.+0.j  0.+0.j -0.+0.j -1.+0.j]\n",
      " [ 0.+0.j  0.+0.j -1.+0.j -0.+0.j]]\n",
      "#################################################\n",
      "c_3\n",
      "labels: ['ZY']\n",
      "coef: [(1+0j)]\n",
      "matrix: \n",
      " [[ 0.+0.j  0.-1.j  0.+0.j  0.-0.j]\n",
      " [ 0.+1.j  0.+0.j  0.+0.j  0.+0.j]\n",
      " [ 0.+0.j  0.-0.j -0.+0.j  0.+1.j]\n",
      " [ 0.+0.j  0.+0.j -0.-1.j -0.+0.j]]\n",
      "#################################################\n"
     ]
    }
   ],
   "source": [
    "# Example:\n",
    "\n",
    "C=c_op(2)\n",
    "C.info()"
   ]
  },
  {
   "cell_type": "code",
   "execution_count": 10,
   "id": "existing-washer",
   "metadata": {},
   "outputs": [
    {
     "data": {
      "text/plain": [
       "array([[0.+1.j, 0.+0.j, 0.+0.j, 0.+0.j],\n",
       "       [0.+0.j, 0.+1.j, 0.+0.j, 0.+0.j],\n",
       "       [0.+0.j, 0.+0.j, 0.+1.j, 0.+0.j],\n",
       "       [0.+0.j, 0.+0.j, 0.+0.j, 0.+1.j]])"
      ]
     },
     "execution_count": 10,
     "metadata": {},
     "output_type": "execute_result"
    }
   ],
   "source": [
    "k_1=0\n",
    "k_2=1\n",
    "C=c_op(2).elements\n",
    "a=7\n",
    "B=1j*((1-np.cos(-a))/4*(np.matmul(C[2*k_1+1],C[2*k_1])-np.matmul(C[2*k_1],C[2*k_1+1]))\n",
    "         +np.sin(a)/4*(np.matmul(C[2*k_2],C[2*k_1+1])-np.matmul(C[2*k_1+1],C[2*k_2]))\n",
    "     +(np.cos(-a)+1)/4*(np.matmul(C[2*k_2+1],C[2*k_2])-np.matmul(C[2*k_2],C[2*k_2+1]))\n",
    "        -np.sin(a)/4*(np.matmul(C[2*k_2+1],C[2*k_1])-np.matmul(C[2*k_1],C[2*k_2+1])))\n",
    "\n",
    "\n",
    "\n",
    "B_diag= 1j/4*(np.matmul(C[2*k_1],C[2*k_1])+np.matmul(C[2*k_1+1],C[2*k_1+1])\n",
    "            +np.matmul(C[2*k_2],C[2*k_2])+np.matmul(C[2*k_2+1],C[2*k_2+1]))\n",
    "B_diag"
   ]
  },
  {
   "cell_type": "code",
   "execution_count": 11,
   "id": "smart-estimate",
   "metadata": {},
   "outputs": [
    {
     "name": "stdout",
     "output_type": "stream",
     "text": [
      "[[ 1.        +0.00000000e+00j  0.        +0.00000000e+00j\n",
      "   0.        +0.00000000e+00j  0.        +0.00000000e+00j]\n",
      " [ 0.        +0.00000000e+00j -0.75390225+1.24900090e-16j\n",
      "   0.6569866 -9.71445147e-17j  0.        +0.00000000e+00j]\n",
      " [ 0.        +0.00000000e+00j  0.6569866 -5.55111512e-17j\n",
      "   0.75390225-2.77555756e-17j  0.        +0.00000000e+00j]\n",
      " [ 0.        +0.00000000e+00j  0.        +0.00000000e+00j\n",
      "   0.        +0.00000000e+00j -1.        +2.35127499e-16j]]\n"
     ]
    }
   ],
   "source": [
    "e=expm(-1j*np.pi/2*B+np.pi/2*B_diag)\n",
    "print(e)"
   ]
  },
  {
   "cell_type": "code",
   "execution_count": null,
   "id": "cleared-twelve",
   "metadata": {},
   "outputs": [],
   "source": []
  },
  {
   "cell_type": "code",
   "execution_count": null,
   "id": "functional-march",
   "metadata": {},
   "outputs": [],
   "source": []
  }
 ],
 "metadata": {
  "kernelspec": {
   "display_name": "Python 3",
   "language": "python",
   "name": "python3"
  },
  "language_info": {
   "codemirror_mode": {
    "name": "ipython",
    "version": 3
   },
   "file_extension": ".py",
   "mimetype": "text/x-python",
   "name": "python",
   "nbconvert_exporter": "python",
   "pygments_lexer": "ipython3",
   "version": "3.7.10"
  }
 },
 "nbformat": 4,
 "nbformat_minor": 5
}
