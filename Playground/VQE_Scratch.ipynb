{
 "cells": [
  {
   "cell_type": "markdown",
   "metadata": {},
   "source": [
    "# VQE_Scratch \n",
    "## The optimizer will be replaced later maybe after I study more about QML because I suspect I will need it there too.\n",
    "\n",
    "This is support for: [VQE_Scretch](https://www.notion.so/VQE_Scratch-7d6ca0f3f44c4430a8e6202f7de779db)\n",
    "where I try to naively explain what I understood ( there are also presented: decompose, expected from tools). For math and clarity, I recommend reading the references. \n",
    "I really insist that it would be better to read the references before or after if you are interested."
   ]
  },
  {
   "cell_type": "code",
   "execution_count": 1,
   "metadata": {},
   "outputs": [],
   "source": [
    "import  numpy as np \n",
    "\n",
    "from qiskit import QuantumCircuit, ClassicalRegister, QuantumRegister \n",
    "from qiskit import Aer, execute\n",
    "from qiskit.aqua.algorithms import NumPyEigensolver"
   ]
  },
  {
   "cell_type": "code",
   "execution_count": 2,
   "metadata": {},
   "outputs": [],
   "source": [
    "# I put decompose and expected in tools to make the  notebook more readable.\n",
    "# But here are some key elements so I advice you to study them either there or in the references: ([4]), ([1][3]);\n",
    "# or on the page that accompanies this notebook: https://www.notion.so/VQE_Scratch-7d6ca0f3f44c4430a8e6202f7de779db\n",
    "\n",
    "from tools import decompose, expected"
   ]
  },
  {
   "cell_type": "code",
   "execution_count": 3,
   "metadata": {},
   "outputs": [],
   "source": [
    "# For the moment I will use scipy but i intend to create one in future. So is not so it's not really scratch.\n",
    "\n",
    "from scipy.optimize import minimize"
   ]
  },
  {
   "cell_type": "code",
   "execution_count": 4,
   "metadata": {},
   "outputs": [],
   "source": [
    "# Because I just want to show myself that it works, I will only use the simulator. \n",
    "# For more advanced experiments I will use what Qiskit already offers.\n",
    "\n",
    "backend=Aer.get_backend('qasm_simulator')"
   ]
  },
  {
   "cell_type": "code",
   "execution_count": 5,
   "metadata": {
    "scrolled": true
   },
   "outputs": [
    {
     "name": "stdout",
     "output_type": "stream",
     "text": [
      "[[-1.06+0.j  0.  +0.j  0.  +0.j  0.18+0.j]\n",
      " [ 0.  +0.j -1.82+0.j  0.18+0.j  0.  +0.j]\n",
      " [ 0.  +0.j  0.18+0.j -0.26+0.j  0.  +0.j]\n",
      " [ 0.18+0.j  0.  +0.j  0.  +0.j -1.06+0.j]]\n"
     ]
    }
   ],
   "source": [
    "# I will choose an operator with the result already known so that I can check myself.\n",
    "# Amazing resources: https://github.com/Cryoris/notebooks/blob/master/Circuit%20library%20%26%20native%20circuits.ipynb\n",
    "\n",
    "I=np.array([[1,0],[0,1]],dtype=np.complex128)\n",
    "X=np.array([[0,1],[1,0]],dtype=np.complex128)\n",
    "Y=np.array([[0,-1.0j],[1.0j,0]],dtype=np.complex128)\n",
    "Z=np.array([[1,0],[0,-1]],dtype=np.complex128)\n",
    "\n",
    "H=-1.05 * np.kron(I,I) + 0.39 * np.kron(I,Z) - 0.39 * np.kron(Z,I) - 0.01 * np.kron(Z,Z) + 0.18 * np.kron(X,X)\n",
    "ref=-1.85727503 \n",
    "print(H)"
   ]
  },
  {
   "cell_type": "code",
   "execution_count": 6,
   "metadata": {},
   "outputs": [
    {
     "name": "stdout",
     "output_type": "stream",
     "text": [
      "II\n",
      "(-1.0499999999999998+0j)\n",
      "IZ\n",
      "(0.38999999999999996+0j)\n",
      "XX\n",
      "(0.18+0j)\n",
      "ZI\n",
      "(-0.39+0j)\n",
      "ZZ\n",
      "(-0.009999999999999953+0j)\n"
     ]
    }
   ],
   "source": [
    "# Now we know how H shoul look like but usualy we  need to decompoe him in sum of paui product and these decomposition depend of the mapping.\n",
    "\n",
    "h,h_label=decompose(H)\n",
    "for i in range(len(h_label)):\n",
    "    if(h[i]!=0):\n",
    "        print(h_label[i])\n",
    "        print(h[i])"
   ]
  },
  {
   "cell_type": "code",
   "execution_count": 7,
   "metadata": {},
   "outputs": [
    {
     "data": {
      "image/png": "[encoded data removed]",
      "text/plain": [
       "<Figure size 659.792x204.68 with 1 Axes>"
      ]
     },
     "execution_count": 7,
     "metadata": {},
     "output_type": "execute_result"
    }
   ],
   "source": [
    "# Ansatz RZRY -> these is just an example of ansatz \n",
    "# Look at ref [2]\n",
    "\n",
    "def ryrz(H,parm,depth):\n",
    "    \n",
    "    nrq=int(np.log2(len(H)))\n",
    "    ansatz=QuantumCircuit(nrq,nrq)\n",
    "    it=iter(parm)\n",
    "    \n",
    "        \n",
    "    for i in range(nrq):\n",
    "        \n",
    "        ansatz.ry(next(it),i)\n",
    "        ansatz.rz(next(it),i)\n",
    "            \n",
    "            \n",
    "    for g in range(depth):\n",
    "        \n",
    "        for l in range(nrq-1):\n",
    "            ansatz.cx(l,l+1)\n",
    "            \n",
    "        for i in range(nrq):\n",
    "            ansatz.ry(next(it),i)\n",
    "            ansatz.rz(next(it),i)\n",
    "          \n",
    "        \n",
    "            \n",
    "    return ansatz\n",
    "\n",
    "depth=2\n",
    "pi=np.pi\n",
    "parm=np.array([pi/2, pi/2, pi/2,pi/2,  pi/2, pi/2, pi/2,pi/2,pi/2, pi/2, pi/2,pi/2,pi/2, pi/2, pi/2,pi/2])\n",
    "ansatz=ryrz(H,parm,depth=depth)\n",
    "ansatz.draw('mpl')"
   ]
  },
  {
   "cell_type": "code",
   "execution_count": 8,
   "metadata": {},
   "outputs": [
    {
     "name": "stdout",
     "output_type": "stream",
     "text": [
      "(-1.2299491999999999+0j)\n"
     ]
    }
   ],
   "source": [
    "# Caluclate final expected value as sum of h[i]<psi|h_obs|psi> where h_obs-> h_label[i].\n",
    "\n",
    "def value(h,h_label,ansatz,backend):\n",
    "    \n",
    "    val=0\n",
    "    for i in range(len(h)):\n",
    "        if h[i]!=0:\n",
    "            exp=expected(ansatz,h_label[i],shots=100000,backend=backend)\n",
    "            val=val+h[i]*exp\n",
    "            #print('exp for {} ={}'.format(h_label[i],exp))\n",
    "            \n",
    "    return (val)\n",
    "\n",
    "print(value(h,h_label,ansatz,backend))"
   ]
  },
  {
   "cell_type": "code",
   "execution_count": 9,
   "metadata": {},
   "outputs": [],
   "source": [
    "# I think this could be incorporated into VQE and pass the value to the optimizer but it's nicer to have a Cost function. \n",
    "\n",
    "def cost(parm,H,depth,backend):\n",
    "    \n",
    "    h,h_label=decompose(H)\n",
    "    ansatz=ryrz(H,parm,depth)\n",
    "   \n",
    "    return value(h,h_label,ansatz,backend)"
   ]
  },
  {
   "cell_type": "code",
   "execution_count": 10,
   "metadata": {},
   "outputs": [],
   "source": [
    "# Combine everything.\n",
    "\n",
    "def VQE(H,depth,backend):\n",
    "    \n",
    "    nrq=int(np.log2(len(H)))\n",
    "    parm=np.full(4*nrq+4*depth,np.pi/2 )\n",
    "    \n",
    "    optim=minimize(cost, parm,args=(H,depth,backend),method='COBYLA', options={'rhobeg': 1.0, 'maxiter': 2000, 'disp': True, 'catol': 0.0002})\n",
    "    \n",
    "    ansatz=ryrz(H,optim.x,depth)\n",
    "    eigval=value(h,h_label,ansatz,backend)\n",
    "    \n",
    "    return eigval"
   ]
  },
  {
   "cell_type": "code",
   "execution_count": null,
   "metadata": {},
   "outputs": [
    {
     "name": "stderr",
     "output_type": "stream",
     "text": [
      "C:\\Users\\tomut\\Anaconda3\\envs\\venvQ\\lib\\site-packages\\scipy\\optimize\\cobyla.py:262: ComplexWarning: Casting complex values to real discards the imaginary part\n",
      "  dinfo=info)\n"
     ]
    }
   ],
   "source": [
    "#Result.\n",
    "\n",
    "print(\"Result: \",VQE(H,depth=2,backend=backend))\n",
    "print(\"Reference:\",ref)"
   ]
  },
  {
   "cell_type": "markdown",
   "metadata": {},
   "source": [
    "## Resources"
   ]
  },
  {
   "cell_type": "markdown",
   "metadata": {},
   "source": [
    "<ul>\n",
    "    <li>[1] Qiskit QGSC lab 9 : https://youtu.be/Rs2TzarBX5I </li>\n",
    "    <li>[2] Hardware-efficient Variational Quantum Eigensolver for Small Molecules and\n",
    "Quantum Magnets : \tarXiv:1704.05018 \n",
    "</li>\n",
    "    <li>[3] General expectation value: https://quantumcomputing.stackexchange.com/questions/11408/qiskit-z-expectation-value-from-counts</li>\n",
    "    <li>[4] Decomposing Two-Qubit Hamiltonians into Pauli-Matrices. Michael Gores: https://michaelgoerz.net/notes/decomposing-two-qubit-hamiltonians-into-pauli-matrices.html</li>\n",
    "</ul>"
   ]
  },
  {
   "cell_type": "code",
   "execution_count": 12,
   "metadata": {},
   "outputs": [
    {
     "data": {
      "text/html": [
       "<h3>Version Information</h3><table><tr><th>Qiskit Software</th><th>Version</th></tr><tr><td>Qiskit</td><td>0.19.6</td></tr><tr><td>Terra</td><td>0.14.2</td></tr><tr><td>Aer</td><td>0.5.2</td></tr><tr><td>Ignis</td><td>0.3.3</td></tr><tr><td>Aqua</td><td>0.7.3</td></tr><tr><td>IBM Q Provider</td><td>0.7.2</td></tr><tr><th>System information</th></tr><tr><td>Python</td><td>3.7.7 (default, May  6 2020, 11:45:54) [MSC v.1916 64 bit (AMD64)]</td></tr><tr><td>OS</td><td>Windows</td></tr><tr><td>CPUs</td><td>4</td></tr><tr><td>Memory (Gb)</td><td>7.883815765380859</td></tr><tr><td colspan='2'>Mon Oct 12 03:24:09 2020 GTB Daylight Time</td></tr></table>"
      ],
      "text/plain": [
       "<IPython.core.display.HTML object>"
      ]
     },
     "metadata": {},
     "output_type": "display_data"
    },
    {
     "data": {
      "text/html": [
       "<div style='width: 100%; background-color:#d5d9e0;padding-left: 10px; padding-bottom: 10px; padding-right: 10px; padding-top: 5px'><h3>This code is a part of Qiskit</h3><p>&copy; Copyright IBM 2017, 2020.</p><p>This code is licensed under the Apache License, Version 2.0. You may<br>obtain a copy of this license in the LICENSE.txt file in the root directory<br> of this source tree or at http://www.apache.org/licenses/LICENSE-2.0.<p>Any modifications or derivative works of this code must retain this<br>copyright notice, and modified files need to carry a notice indicating<br>that they have been altered from the originals.</p></div>"
      ],
      "text/plain": [
       "<IPython.core.display.HTML object>"
      ]
     },
     "metadata": {},
     "output_type": "display_data"
    }
   ],
   "source": [
    "import qiskit.tools.jupyter\n",
    "%qiskit_version_table\n",
    "%qiskit_copyright"
   ]
  },
  {
   "cell_type": "code",
   "execution_count": null,
   "metadata": {},
   "outputs": [],
   "source": []
  }
 ],
 "metadata": {
  "kernelspec": {
   "display_name": "Python 3",
   "language": "python",
   "name": "python3"
  },
  "language_info": {
   "codemirror_mode": {
    "name": "ipython",
    "version": 3
   },
   "file_extension": ".py",
   "mimetype": "text/x-python",
   "name": "python",
   "nbconvert_exporter": "python",
   "pygments_lexer": "ipython3",
   "version": "3.7.7"
  }
 },
 "nbformat": 4,
 "nbformat_minor": 2
}
