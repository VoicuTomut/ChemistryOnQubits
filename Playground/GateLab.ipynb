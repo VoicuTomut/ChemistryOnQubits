{
 "cells": [
  {
   "cell_type": "code",
   "execution_count": 1,
   "metadata": {},
   "outputs": [],
   "source": [
    "#Here i try to bulid some possible useful Gates "
   ]
  },
  {
   "cell_type": "code",
   "execution_count": 23,
   "metadata": {},
   "outputs": [],
   "source": [
    "import  numpy as np \n",
    "from math import sin ,cos\n",
    "\n",
    "from qiskit import QuantumCircuit, ClassicalRegister, QuantumRegister \n",
    "from qiskit import Aer, execute\n",
    "\n",
    "from qiskit.aqua.algorithms import VQE, NumPyEigensolver\n",
    "\n",
    "from qiskit.aqua.operators import WeightedPauliOperator\n",
    "from qiskit.quantum_info import Pauli\n",
    "\n",
    "from qiskit.circuit import ParameterVector\n",
    "from qiskit.aqua.components.optimizers import  SPSA"
   ]
  },
  {
   "cell_type": "code",
   "execution_count": 3,
   "metadata": {},
   "outputs": [],
   "source": [
    "from tools import I,X,Y,Z\n",
    "from tools import Match_gate_test"
   ]
  },
  {
   "cell_type": "code",
   "execution_count": 4,
   "metadata": {},
   "outputs": [],
   "source": [
    "from tools import decompose"
   ]
  },
  {
   "cell_type": "code",
   "execution_count": 5,
   "metadata": {},
   "outputs": [],
   "source": [
    "def show_mat(m):\n",
    "    for i in m:\n",
    "        print ('[ {}  {}  {}  {} ]'.format(i[0],i[1],i[2],i[3]))"
   ]
  },
  {
   "cell_type": "code",
   "execution_count": 6,
   "metadata": {},
   "outputs": [],
   "source": [
    "#Exact solver for reference:\n",
    "def Exact_solver(qubitOp):\n",
    "    ex = NumPyEigensolver(qubitOp)\n",
    "    result = ex.run()\n",
    "    ref = result['eigenvalues']\n",
    "    return np.real(ref)[0]"
   ]
  },
  {
   "cell_type": "code",
   "execution_count": null,
   "metadata": {},
   "outputs": [],
   "source": []
  },
  {
   "cell_type": "code",
   "execution_count": 42,
   "metadata": {},
   "outputs": [
    {
     "ename": "SyntaxError",
     "evalue": "unexpected character after line continuation character (<ipython-input-42-062492e03ae0>, line 3)",
     "output_type": "error",
     "traceback": [
      "\u001b[1;36m  File \u001b[1;32m\"<ipython-input-42-062492e03ae0>\"\u001b[1;36m, line \u001b[1;32m3\u001b[0m\n\u001b[1;33m    return np.array([[cos(\\'theta'/2),        -1.0j*sin(theta/2)],\u001b[0m\n\u001b[1;37m                                                                  ^\u001b[0m\n\u001b[1;31mSyntaxError\u001b[0m\u001b[1;31m:\u001b[0m unexpected character after line continuation character\n"
     ]
    }
   ],
   "source": [
    "#Rx_theta matrix\n",
    "def Rx_m(theta):\n",
    "    return np.array([[cos(theta[0]/2),        -1.0j*sin(theta[0]/2)],\n",
    "                     [-1.j*sin(theta[0]/2),   cos(theta[0]/2)]],dtype=np.complex128)\n",
    "#Ry_theta matrix\n",
    "def Ry_m(theta):\n",
    "    return np.array([[cos(theta/2),      -sin(theta/2)],\n",
    "                     [sin(theta/2),   cos(theta/2)]],dtype=np.complex128)\n",
    "\n",
    "#Rz_theta matrix\n",
    "def Rz_m(theta):\n",
    "    return np.array([[exp(-1.0j*theta), 0],\n",
    "                     [0,                   exp(1.0j*theta)]],dtype=np.complex128)\n",
    "\n",
    "\n",
    "#Matchgate builder\n",
    "\n",
    "def G_m(m1,m2,norm):\n",
    "    return norm*np.array([[m1[0][0], 0, 0, m1[0][1]],\n",
    "                 [0, m2[0][0], m2[0][1], 0],\n",
    "                 [0, m2[1][0], m2[1][1],       0],\n",
    "                 [m1[1][0], 0, 0, m1[1][1]]],dtype=np.complex128)\n",
    "\n",
    "def G(m1,m2,norm,label):\n",
    "    Gm=G_m(m1,m2,norm)\n",
    "    G=QuantumCircuit(2,name=label)\n",
    "    G.unitary(Gm,[0,1])\n",
    "    return G.to_instruction()"
   ]
  },
  {
   "cell_type": "code",
   "execution_count": 31,
   "metadata": {},
   "outputs": [
    {
     "name": "stdout",
     "output_type": "stream",
     "text": [
      "X_1|00>=(1/sqrt(2)(|00>-i|11>)).\n",
      "[ (0.9238795325112867+0j)  0j  0j  -0.3826834323650898j ]\n",
      "[ 0j  (0.9238795325112867+0j)  -0.3826834323650898j  0j ]\n",
      "[ 0j  -0.3826834323650898j  (0.9238795325112867+0j)  0j ]\n",
      "[ -0.3826834323650898j  0j  0j  (0.9238795325112867+0j) ]\n",
      "X_1 is a matchgate: 1\n"
     ]
    }
   ],
   "source": [
    "#XX entengeler matchgate\n",
    "GX_1=G_m(Rx_m(np.pi/4),Rx_m(np.pi/4),1)\n",
    "print(\"X_1|00>=(1/sqrt(2)(|00>-i|11>)).\")\n",
    "show_mat(GX_1)\n",
    "print(\"X_1 is a matchgate:\",Match_gate_test(GX_1))\n"
   ]
  },
  {
   "cell_type": "code",
   "execution_count": 32,
   "metadata": {},
   "outputs": [
    {
     "data": {
      "text/html": [
       "<pre style=\"word-wrap: normal;white-space: pre;background: #fff0;line-height: 1.1;font-family: &quot;Courier New&quot;,Courier,monospace\">                 \n",
       "q_0: ────────────\n",
       "     ┌──────────┐\n",
       "q_1: ┤0         ├\n",
       "     │  GXX_ent │\n",
       "q_2: ┤1         ├\n",
       "     └──────────┘\n",
       "q_3: ────────────\n",
       "                 </pre>"
      ],
      "text/plain": [
       "                 \n",
       "q_0: ────────────\n",
       "     ┌──────────┐\n",
       "q_1: ┤0         ├\n",
       "     │  GXX_ent │\n",
       "q_2: ┤1         ├\n",
       "     └──────────┘\n",
       "q_3: ────────────\n",
       "                 "
      ]
     },
     "execution_count": 32,
     "metadata": {},
     "output_type": "execute_result"
    }
   ],
   "source": [
    "#inside a quantum circuit\n",
    "demo=QuantumCircuit(4)\n",
    "demo.append(G(Rx_m(np.pi/4),Rx_m(np.pi/4),1,'GXX_ent'),[1,2])\n",
    "demo.draw()\n"
   ]
  },
  {
   "cell_type": "code",
   "execution_count": 33,
   "metadata": {},
   "outputs": [],
   "source": [
    "# let's create an ansatz with GXX_1\n"
   ]
  },
  {
   "cell_type": "code",
   "execution_count": 34,
   "metadata": {},
   "outputs": [
    {
     "name": "stdout",
     "output_type": "stream",
     "text": [
      "II\n",
      "(-1.0499999999999998+0j)\n",
      "IZ\n",
      "(0.38999999999999996+0j)\n",
      "XX\n",
      "(0.18+0j)\n",
      "ZI\n",
      "(-0.39+0j)\n",
      "ZZ\n",
      "(-0.009999999999999953+0j)\n"
     ]
    }
   ],
   "source": [
    "#Teste Hamiltoninan\n",
    "H=-1.05 * np.kron(I,I) + 0.39 * np.kron(I,Z) - 0.39 * np.kron(Z,I) - 0.01 * np.kron(Z,Z) + 0.18 * np.kron(X,X)\n",
    "\n",
    "#Qubit Opperator\n",
    "h,h_label=decompose(H)\n",
    "pauli_list=[]\n",
    "for i in range(len(h)):\n",
    "    pauli_list.append([h[i],Pauli.from_label(h_label[i])])\n",
    "HOp=WeightedPauliOperator(pauli_list) \n",
    "###########################################################################################################\n",
    "\n",
    "for i in range(len(pauli_list)):\n",
    "    if(pauli_list[i][0]!=0):\n",
    "        print(pauli_list[i][1])\n",
    "        print(pauli_list[i][0])\n",
    "        "
   ]
  },
  {
   "cell_type": "code",
   "execution_count": 58,
   "metadata": {},
   "outputs": [
    {
     "data": {
      "text/html": [
       "<pre style=\"word-wrap: normal;white-space: pre;background: #fff0;line-height: 1.1;font-family: &quot;Courier New&quot;,Courier,monospace\">     ┌──────────────┐┌──────────────┐     ┌──────────────┐┌──────────────┐\n",
       "q_0: ┤ RY(theta[0]) ├┤ RZ(theta[1]) ├──■──┤ RY(theta[4]) ├┤ RZ(theta[5]) ├\n",
       "     ├──────────────┤├──────────────┤┌─┴─┐├──────────────┤├──────────────┤\n",
       "q_1: ┤ RY(theta[2]) ├┤ RZ(theta[3]) ├┤ X ├┤ RY(theta[6]) ├┤ RZ(theta[7]) ├\n",
       "     └──────────────┘└──────────────┘└───┘└──────────────┘└──────────────┘</pre>"
      ],
      "text/plain": [
       "     ┌──────────────┐┌──────────────┐     ┌──────────────┐┌──────────────┐\n",
       "q_0: ┤ RY(theta[0]) ├┤ RZ(theta[1]) ├──■──┤ RY(theta[4]) ├┤ RZ(theta[5]) ├\n",
       "     ├──────────────┤├──────────────┤┌─┴─┐├──────────────┤├──────────────┤\n",
       "q_1: ┤ RY(theta[2]) ├┤ RZ(theta[3]) ├┤ X ├┤ RY(theta[6]) ├┤ RZ(theta[7]) ├\n",
       "     └──────────────┘└──────────────┘└───┘└──────────────┘└──────────────┘"
      ]
     },
     "execution_count": 58,
     "metadata": {},
     "output_type": "execute_result"
    }
   ],
   "source": [
    "#ansatz\n",
    "\n",
    "ansatz = QuantumCircuit(2)\n",
    "\n",
    "params = ParameterVector('theta', length=4*2)\n",
    "\n",
    "    \n",
    "it = iter(params)\n",
    "\n",
    "#ansatz.append(G(Rx_m(next(it)),Rx_m(next(it)),1,'GXX_ent'),[0,1])\n",
    "#ansatz.append(G(Rx_m(next(it)),Rx_m(next(it)),1,'GXX_ent'),[0,1])\n",
    "\n",
    "\n",
    "ansatz.ry(next(it), 0)\n",
    "ansatz.rz(next(it), 0)\n",
    "ansatz.ry(next(it), 1)\n",
    "ansatz.rz(next(it), 1)\n",
    "ansatz.cx(0,1)\n",
    "ansatz.ry(next(it), 0)\n",
    "ansatz.rz(next(it), 0)\n",
    "ansatz.ry(next(it), 1)\n",
    "ansatz.rz(next(it), 1)\n",
    "\n",
    "\n",
    "ansatz.draw()"
   ]
  },
  {
   "cell_type": "code",
   "execution_count": 21,
   "metadata": {},
   "outputs": [
    {
     "data": {
      "text/plain": [
       "Parameter(theta[1])"
      ]
     },
     "execution_count": 21,
     "metadata": {},
     "output_type": "execute_result"
    }
   ],
   "source": [
    "params[1]"
   ]
  },
  {
   "cell_type": "code",
   "execution_count": 46,
   "metadata": {},
   "outputs": [
    {
     "name": "stdout",
     "output_type": "stream",
     "text": [
      "theta, ['theta[0]', 'theta[1]', 'theta[2]', 'theta[3]', 'theta[4]', 'theta[5]', 'theta[6]', 'theta[7]']\n",
      "<list_iterator object at 0x00000227ACD05E88>\n"
     ]
    }
   ],
   "source": [
    "param = ParameterVector('theta', length=4*2)\n",
    "i = iter(param)\n",
    "print(param)\n",
    "print(i)"
   ]
  },
  {
   "cell_type": "code",
   "execution_count": 52,
   "metadata": {},
   "outputs": [
    {
     "data": {
      "text/plain": [
       "[Parameter(theta[0]),\n",
       " Parameter(theta[1]),\n",
       " Parameter(theta[2]),\n",
       " Parameter(theta[3]),\n",
       " Parameter(theta[4]),\n",
       " Parameter(theta[5]),\n",
       " Parameter(theta[6]),\n",
       " Parameter(theta[7])]"
      ]
     },
     "execution_count": 52,
     "metadata": {},
     "output_type": "execute_result"
    }
   ],
   "source": [
    "param._params"
   ]
  },
  {
   "cell_type": "code",
   "execution_count": 45,
   "metadata": {},
   "outputs": [
    {
     "ename": "TypeError",
     "evalue": "ParameterExpression with unbound parameters ({Parameter(theta[0])}) cannot be cast to a float.",
     "output_type": "error",
     "traceback": [
      "\u001b[1;31m---------------------------------------------------------------------------\u001b[0m",
      "\u001b[1;31mTypeError\u001b[0m                                 Traceback (most recent call last)",
      "\u001b[1;32m<ipython-input-45-918cf127ad10>\u001b[0m in \u001b[0;36m<module>\u001b[1;34m\u001b[0m\n\u001b[1;32m----> 1\u001b[1;33m \u001b[0mcos\u001b[0m\u001b[1;33m(\u001b[0m\u001b[0mparam\u001b[0m\u001b[1;33m[\u001b[0m\u001b[1;36m0\u001b[0m\u001b[1;33m]\u001b[0m\u001b[1;33m)\u001b[0m\u001b[1;33m\u001b[0m\u001b[1;33m\u001b[0m\u001b[0m\n\u001b[0m",
      "\u001b[1;32m~\\Anaconda3\\envs\\venvQ\\lib\\site-packages\\qiskit\\circuit\\parameterexpression.py\u001b[0m in \u001b[0;36m__float__\u001b[1;34m(self)\u001b[0m\n\u001b[0;32m    239\u001b[0m         \u001b[1;32mif\u001b[0m \u001b[0mself\u001b[0m\u001b[1;33m.\u001b[0m\u001b[0mparameters\u001b[0m\u001b[1;33m:\u001b[0m\u001b[1;33m\u001b[0m\u001b[1;33m\u001b[0m\u001b[0m\n\u001b[0;32m    240\u001b[0m             raise TypeError('ParameterExpression with unbound parameters ({}) '\n\u001b[1;32m--> 241\u001b[1;33m                             'cannot be cast to a float.'.format(self.parameters))\n\u001b[0m\u001b[0;32m    242\u001b[0m         \u001b[1;32mreturn\u001b[0m \u001b[0mfloat\u001b[0m\u001b[1;33m(\u001b[0m\u001b[0mself\u001b[0m\u001b[1;33m.\u001b[0m\u001b[0m_symbol_expr\u001b[0m\u001b[1;33m)\u001b[0m\u001b[1;33m\u001b[0m\u001b[1;33m\u001b[0m\u001b[0m\n\u001b[0;32m    243\u001b[0m \u001b[1;33m\u001b[0m\u001b[0m\n",
      "\u001b[1;31mTypeError\u001b[0m: ParameterExpression with unbound parameters ({Parameter(theta[0])}) cannot be cast to a float."
     ]
    }
   ],
   "source": [
    "cos(param[0])"
   ]
  },
  {
   "cell_type": "code",
   "execution_count": null,
   "metadata": {},
   "outputs": [],
   "source": [
    "optimizer=SPSA(200)\n",
    "backend = Aer.get_backend('statevector_simulator')"
   ]
  },
  {
   "cell_type": "code",
   "execution_count": null,
   "metadata": {},
   "outputs": [],
   "source": [
    "vqe = VQE(HOp, ansatz, optimizer)\n",
    "result = vqe.run(backend)\n",
    "print('VQE:',result.eigenvalue.real ,'Reference:', Exact_solver(HOp))"
   ]
  },
  {
   "cell_type": "code",
   "execution_count": 33,
   "metadata": {},
   "outputs": [
    {
     "data": {
      "text/html": [
       "<h3>Version Information</h3><table><tr><th>Qiskit Software</th><th>Version</th></tr><tr><td>Qiskit</td><td>0.19.6</td></tr><tr><td>Terra</td><td>0.14.2</td></tr><tr><td>Aer</td><td>0.5.2</td></tr><tr><td>Ignis</td><td>0.3.3</td></tr><tr><td>Aqua</td><td>0.7.3</td></tr><tr><td>IBM Q Provider</td><td>0.7.2</td></tr><tr><th>System information</th></tr><tr><td>Python</td><td>3.7.7 (default, May  6 2020, 11:45:54) [MSC v.1916 64 bit (AMD64)]</td></tr><tr><td>OS</td><td>Windows</td></tr><tr><td>CPUs</td><td>4</td></tr><tr><td>Memory (Gb)</td><td>7.883815765380859</td></tr><tr><td colspan='2'>Fri Nov 06 20:47:07 2020 GTB Standard Time</td></tr></table>"
      ],
      "text/plain": [
       "<IPython.core.display.HTML object>"
      ]
     },
     "metadata": {},
     "output_type": "display_data"
    },
    {
     "data": {
      "text/html": [
       "<div style='width: 100%; background-color:#d5d9e0;padding-left: 10px; padding-bottom: 10px; padding-right: 10px; padding-top: 5px'><h3>This code is a part of Qiskit</h3><p>&copy; Copyright IBM 2017, 2020.</p><p>This code is licensed under the Apache License, Version 2.0. You may<br>obtain a copy of this license in the LICENSE.txt file in the root directory<br> of this source tree or at http://www.apache.org/licenses/LICENSE-2.0.<p>Any modifications or derivative works of this code must retain this<br>copyright notice, and modified files need to carry a notice indicating<br>that they have been altered from the originals.</p></div>"
      ],
      "text/plain": [
       "<IPython.core.display.HTML object>"
      ]
     },
     "metadata": {},
     "output_type": "display_data"
    }
   ],
   "source": [
    "import qiskit.tools.jupyter\n",
    "%qiskit_version_table\n",
    "%qiskit_copyright"
   ]
  },
  {
   "cell_type": "code",
   "execution_count": null,
   "metadata": {},
   "outputs": [],
   "source": []
  }
 ],
 "metadata": {
  "kernelspec": {
   "display_name": "Python 3",
   "language": "python",
   "name": "python3"
  },
  "language_info": {
   "codemirror_mode": {
    "name": "ipython",
    "version": 3
   },
   "file_extension": ".py",
   "mimetype": "text/x-python",
   "name": "python",
   "nbconvert_exporter": "python",
   "pygments_lexer": "ipython3",
   "version": "3.8.5"
  }
 },
 "nbformat": 4,
 "nbformat_minor": 4
}
