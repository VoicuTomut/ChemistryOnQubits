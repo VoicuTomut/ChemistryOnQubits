{
 "cells": [
  {
   "cell_type": "code",
   "execution_count": 1,
   "metadata": {},
   "outputs": [],
   "source": [
    "import  numpy as np\n",
    "import matplotlib as plt"
   ]
  },
  {
   "cell_type": "code",
   "execution_count": 15,
   "metadata": {},
   "outputs": [],
   "source": [
    "from qiskit import BasicAer, Aer, IBMQ\n",
    "from qiskit import QuantumRegister ,ClassicalRegister,QuantumCircuit\n",
    "\n",
    "from qiskit.circuit import ParameterVector\n",
    "from qiskit.aqua.operators import I, X, Y, Z\n",
    "\n",
    "from qiskit.aqua.algorithms import VQE, NumPyEigensolver\n",
    "from qiskit.aqua.components.optimizers import COBYLA\n",
    "\n",
    "from qiskit.chemistry import FermionicOperator\n",
    "from qiskit.chemistry.drivers import PySCFDriver, UnitsType\n",
    "\n",
    "from qiskit.transpiler import PassManager\n",
    "from qiskit.transpiler.passes import Unroller\n"
   ]
  },
  {
   "cell_type": "code",
   "execution_count": 3,
   "metadata": {},
   "outputs": [],
   "source": [
    "#Exact solver for reference:\n",
    "def Exact_solver(qubitOp):\n",
    "    ex = NumPyEigensolver(qubitOp)\n",
    "    result = ex.run()\n",
    "    ref = result['eigenvalues']\n",
    "    return ref"
   ]
  },
  {
   "cell_type": "code",
   "execution_count": 4,
   "metadata": {},
   "outputs": [
    {
     "name": "stdout",
     "output_type": "stream",
     "text": [
      "HF energy: -1.3194643767935124\n",
      "# nr. of electrons: 2\n",
      "# nr. of spin orbitals: 4\n"
     ]
    }
   ],
   "source": [
    "basis='sto3g'\n",
    "inter_dist=1.4\n",
    "# Molecule\n",
    "atoms = 'H .0 .0 .0; H .0 .0 '+str(inter_dist)\n",
    "driver = PySCFDriver(atoms, unit=UnitsType.ANGSTROM, charge=0, spin=0, basis=basis)\n",
    "\n",
    "#integral h_{lm} , h_{lmpq}\n",
    "molecule = driver.run()\n",
    "h1 = molecule.one_body_integrals\n",
    "h2 = molecule.two_body_integrals\n",
    "nuclear_repulsion_energy = molecule.nuclear_repulsion_energy\n",
    "\n",
    "num_particles = molecule.num_alpha + molecule.num_beta\n",
    "num_spin_orbitals = molecule.num_orbitals * 2\n",
    "print(\"HF energy: {}\".format(molecule.hf_energy - molecule.nuclear_repulsion_energy))\n",
    "print(\"# nr. of electrons: {}\".format(num_particles))\n",
    "print(\"# nr. of spin orbitals: {}\".format(num_spin_orbitals))\n",
    "#print('# one elctron integral:\\n',h1)\n",
    "#print('# two elctron integral:\\n',h2)"
   ]
  },
  {
   "cell_type": "code",
   "execution_count": 5,
   "metadata": {},
   "outputs": [],
   "source": [
    "ferOp = FermionicOperator(h1=h1, h2=h2)\n",
    "qubitOp = ferOp.mapping(map_type='jordan_wigner')"
   ]
  },
  {
   "cell_type": "code",
   "execution_count": 6,
   "metadata": {},
   "outputs": [
    {
     "name": "stdout",
     "output_type": "stream",
     "text": [
      "Representation: paulis, qubits: 4, size: 15\n",
      "IIII\t(-0.8517840380466501+0j)\n",
      "IIIZ\t(0.10053557435398452+0j)\n",
      "IIZI\t(-0.049032364414860446+0j)\n",
      "IZII\t(0.10053557435398452+0j)\n",
      "ZIII\t(-0.04903236441486046+0j)\n",
      "IIZZ\t(0.08678749878785741+0j)\n",
      "IZIZ\t(0.14120468151365048+0j)\n",
      "XXYY\t(0.05575552226867875+0j)\n",
      "YYYY\t(0.05575552226867875+0j)\n",
      "XXXX\t(0.05575552226867875+0j)\n",
      "YYXX\t(0.05575552226867875+0j)\n",
      "ZIIZ\t(0.14254302105653616+0j)\n",
      "IZZI\t(0.14254302105653616+0j)\n",
      "ZIZI\t(0.14891189696596438+0j)\n",
      "ZZII\t(0.08678749878785741+0j)\n",
      "\n"
     ]
    }
   ],
   "source": [
    "print(qubitOp)\n",
    "print(qubitOp.print_details())\n",
    "\n",
    "weight=[]\n",
    "pauli=[]\n",
    "for w,i in qubitOp._paulis:\n",
    "    weight.append(w)\n",
    "    pauli.append(i.to_label)\n"
   ]
  },
  {
   "cell_type": "code",
   "execution_count": 7,
   "metadata": {},
   "outputs": [],
   "source": [
    "class swap_t:\n",
    "    def __init__(self,theata):\n",
    "        self.theta=theata\n",
    "        self.mat=np.array([[1,0,0,0],\n",
    "                           [0,np.sin(self.theta),-1*np.cos(self.theta),0],\n",
    "                           [0,np.cos(self.theta),np.sin(self.theta),0],\n",
    "                           [0,0,0,1]])"
   ]
  },
  {
   "cell_type": "code",
   "execution_count": 24,
   "metadata": {},
   "outputs": [],
   "source": [
    "def U_t(theta):\n",
    "    qc=QuantumCircuit(2,name='U_t('+str(theta)+')')\n",
    "    qc.unitary(swap_t(theta).mat,[0,1])\n",
    "    return qc.to_gate()"
   ]
  },
  {
   "cell_type": "code",
   "execution_count": 25,
   "metadata": {},
   "outputs": [],
   "source": [
    "def ansatz_cell(qc,qo,nr_o, nr_e,thetas):\n",
    "    \n",
    "    #qo=QuantumRegister(nr_o,'qo')\n",
    "    #qc=QuantumCircuit(qo,name='ansatz_cell')\n",
    "    \n",
    "    it=iter(thetas)\n",
    "    start=nr_e-1\n",
    "    limit=nr_o\n",
    "    while start!=-1:\n",
    "        cq=start\n",
    "        tq=start+1\n",
    "        while tq<limit:\n",
    "            qc.append(U_t(next(it)),[cq,tq])\n",
    "            cq=cq+1\n",
    "            tq=tq+1\n",
    "\n",
    "        start=start-1\n",
    "        limit=limit-1\n",
    "    return qc \n"
   ]
  },
  {
   "cell_type": "code",
   "execution_count": 28,
   "metadata": {},
   "outputs": [
    {
     "name": "stdout",
     "output_type": "stream",
     "text": [
      "[0. 0. 0. 0.]\n"
     ]
    }
   ],
   "source": [
    "nr_o=num_spin_orbitals\n",
    "nr_e=num_particles\n",
    "nr_par=(nr_o-nr_e)*nr_e\n",
    "theta=np.zeros(nr_par)\n",
    "print(theta)"
   ]
  },
  {
   "cell_type": "code",
   "execution_count": 51,
   "metadata": {},
   "outputs": [
    {
     "data": {
      "image/png": "[encoded data removed]",
      "text/plain": [
       "<Figure size 460.487x264.88 with 1 Axes>"
      ]
     },
     "execution_count": 51,
     "metadata": {},
     "output_type": "execute_result"
    }
   ],
   "source": [
    "qo=QuantumRegister(nr_o,'qo')\n",
    "ansatz = QuantumCircuit(qo)\n",
    "ansatz_cell(ansatz,qo,nr_o, nr_e,theta)\n",
    "ansatz.draw('mpl')"
   ]
  },
  {
   "cell_type": "code",
   "execution_count": null,
   "metadata": {},
   "outputs": [],
   "source": [
    "optimizer= COBYLA(maxiter=500)\n",
    "backend = Aer.get_backend('statevector_simulator')"
   ]
  },
  {
   "cell_type": "code",
   "execution_count": null,
   "metadata": {},
   "outputs": [],
   "source": [
    "vqe = VQE(qubitOp, ansatz, optimizer)\n",
    "result = vqe.run(backend)\n",
    "print('VQE:',result.eigenvalue.real ,'Reference:', Exact_solver(qubitOp))"
   ]
  },
  {
   "cell_type": "code",
   "execution_count": null,
   "metadata": {},
   "outputs": [],
   "source": []
  }
 ],
 "metadata": {
  "kernelspec": {
   "display_name": "Python 3",
   "language": "python",
   "name": "python3"
  },
  "language_info": {
   "codemirror_mode": {
    "name": "ipython",
    "version": 3
   },
   "file_extension": ".py",
   "mimetype": "text/x-python",
   "name": "python",
   "nbconvert_exporter": "python",
   "pygments_lexer": "ipython3",
   "version": "3.7.8"
  }
 },
 "nbformat": 4,
 "nbformat_minor": 4
}
