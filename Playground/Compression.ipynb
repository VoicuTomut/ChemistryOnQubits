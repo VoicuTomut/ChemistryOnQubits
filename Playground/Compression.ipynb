{
 "cells": [
  {
   "cell_type": "code",
   "execution_count": 1,
   "metadata": {},
   "outputs": [],
   "source": [
    "import  numpy as np\n",
    "import matplotlib as plt"
   ]
  },
  {
   "cell_type": "code",
   "execution_count": 48,
   "metadata": {},
   "outputs": [],
   "source": [
    "from qiskit import BasicAer, Aer, IBMQ,execute\n",
    "from qiskit import QuantumRegister ,ClassicalRegister,QuantumCircuit\n",
    "from qiskit.circuit import ParameterVector\n",
    "from qiskit.aqua.operators import I, X, Y, Z\n",
    "\n",
    "from qiskit.aqua.algorithms import VQE, NumPyEigensolver\n",
    "from qiskit.aqua.components.optimizers import COBYLA\n",
    "\n",
    "from qiskit.chemistry import FermionicOperator\n",
    "from qiskit.chemistry.drivers import PySCFDriver, UnitsType\n",
    "\n",
    "from qiskit.transpiler import PassManager\n",
    "from qiskit.transpiler.passes import Unroller\n",
    "\n",
    "from qiskit import IBMQ"
   ]
  },
  {
   "cell_type": "code",
   "execution_count": 18,
   "metadata": {},
   "outputs": [],
   "source": [
    "#jut a dirty trick\n",
    "from scipy.optimize import minimize\n",
    "from tools import decompose, expected\n",
    "from tools import ansatz_cell,var_circ\n",
    "from tools import value, cost, Exact_solver\n",
    "\n",
    "from tools import I,X,Y,Z,U_t\n",
    "from tools import get_x,comutation,corelation,new_state"
   ]
  },
  {
   "cell_type": "code",
   "execution_count": 4,
   "metadata": {},
   "outputs": [],
   "source": [
    "#local simulator\n",
    "backend=Aer.get_backend('qasm_simulator')"
   ]
  },
  {
   "cell_type": "code",
   "execution_count": 5,
   "metadata": {},
   "outputs": [
    {
     "name": "stdout",
     "output_type": "stream",
     "text": [
      "HF energy: -8.994489827277834\n",
      "# nr. of electrons: 4\n",
      "# nr. of spin orbitals: 12\n",
      "!! After freezing and remouve:\n",
      "HF energy: -8.994489827277834\n",
      "Freez energy shift: -7.890791483133478\n",
      "# nr. of electrons: 2\n",
      "# nr. of spin orbitals: 6\n"
     ]
    }
   ],
   "source": [
    "basis='sto3g'\n",
    "inter_dist=1.4\n",
    "# Molecule\n",
    "atoms = 'Li .0 .0 .0; H .0 .0 '+str(inter_dist)\n",
    "driver = PySCFDriver(atoms, unit=UnitsType.ANGSTROM, charge=0, spin=0, basis=basis,max_memory=None)\n",
    "\n",
    "#integral h_{lm} , h_{lmpq}\n",
    "molecule = driver.run()\n",
    "h1 = molecule.one_body_integrals\n",
    "h2 = molecule.two_body_integrals\n",
    "nuclear_repulsion_energy = molecule.nuclear_repulsion_energy\n",
    "\n",
    "num_particles = molecule.num_alpha + molecule.num_beta\n",
    "num_spin_orbitals = molecule.num_orbitals * 2\n",
    "\n",
    "#freez some\n",
    "freeze_list = [0]\n",
    "remove_list = [-3, -2]\n",
    "\n",
    "remove_list = [x % molecule.num_orbitals for x in remove_list]\n",
    "freeze_list = [x % molecule.num_orbitals for x in freeze_list]\n",
    "remove_list = [x - len(freeze_list) for x in remove_list]\n",
    "remove_list += [x + molecule.num_orbitals - len(freeze_list)  for x in remove_list]\n",
    "freeze_list += [x + molecule.num_orbitals for x in freeze_list]\n",
    "    \n",
    "\n",
    "\n",
    "print(\"HF energy: {}\".format(molecule.hf_energy - molecule.nuclear_repulsion_energy))\n",
    "print(\"# nr. of electrons: {}\".format(num_particles))\n",
    "print(\"# nr. of spin orbitals: {}\".format(num_spin_orbitals))\n",
    "\n",
    "ferOp = FermionicOperator(h1=h1, h2=h2)\n",
    "\n",
    "ferOp, energy_shift = ferOp.fermion_mode_freezing(freeze_list)\n",
    "num_spin_orbitals -= len(freeze_list)\n",
    "num_particles -= len(freeze_list)\n",
    "\n",
    "ferOp = ferOp.fermion_mode_elimination(remove_list)\n",
    "num_spin_orbitals -= len(remove_list)\n",
    "\n",
    "qubitOp = ferOp.mapping(map_type='jordan_wigner')\n",
    "\n",
    "print(\"!! After freezing and remouve:\")\n",
    "print(\"HF energy: {}\".format(molecule.hf_energy - molecule.nuclear_repulsion_energy))\n",
    "print('Freez energy shift: {}'.format(energy_shift))\n",
    "print(\"# nr. of electrons: {}\".format(num_particles))\n",
    "print(\"# nr. of spin orbitals: {}\".format(num_spin_orbitals))"
   ]
  },
  {
   "cell_type": "code",
   "execution_count": 6,
   "metadata": {},
   "outputs": [
    {
     "name": "stdout",
     "output_type": "stream",
     "text": [
      "IIIIII-(-0.195376755616701+0j)\n",
      "IIIIIZ-(-0.035588470492344565+0j)\n",
      "IIIIYY-(-0.0003318754139285756+0j)\n",
      "IIIIXX-(-0.0003318754139285756+0j)\n",
      "IIIYZY-(-0.002855354011152835+0j)\n",
      "IIIXZX-(-0.002855354011152835+0j)\n",
      "IIIIZI-(-0.1271287364122908+0j)\n",
      "IIIYYI-(0.015487042720236696+0j)\n",
      "IIIXXI-(0.015487042720236696+0j)\n",
      "IIIZII-(-0.32797339053955066+0j)\n",
      "IIZIII-(-0.035588470492344614+0j)\n",
      "IYYIII-(-0.000331875413928576+0j)\n",
      "IXXIII-(-0.000331875413928576+0j)\n",
      "YZYIII-(-0.0028553540111528396+0j)\n",
      "XZXIII-(-0.0028553540111528396+0j)\n",
      "IZIIII-(-0.12712873641229083+0j)\n",
      "YYIIII-(0.015487042720236694+0j)\n",
      "XXIIII-(0.015487042720236694+0j)\n",
      "ZIIIII-(-0.3279733905395506+0j)\n",
      "IIIIZZ-(0.05465159002074206+0j)\n",
      "IIIYYZ-(0.004528580551868638+0j)\n",
      "IIIXXZ-(0.004528580551868638+0j)\n",
      "IIIZIZ-(0.08440311056673275+0j)\n",
      "IIIYIY-(0.003360334818433897+0j)\n",
      "IIIXIX-(0.003360334818433897+0j)\n",
      "IIIZYY-(0.0026416812148497334+0j)\n",
      "IIIZXX-(0.0026416812148497334+0j)\n",
      "IIZIIZ-(0.12532519013543403+0j)\n",
      "IIZIYY-(0.011343530738243493+0j)\n",
      "IIZIXX-(0.011343530738243493+0j)\n",
      "IIZYZY-(-0.0345503313555075+0j)\n",
      "IIZXZX-(-0.0345503313555075+0j)\n",
      "IXXIIZ-(0.011343530738243493+0j)\n",
      "IYYIIZ-(0.011343530738243493+0j)\n",
      "IXXIYY-(0.0028399740732705826+0j)\n",
      "IYYIYY-(0.0028399740732705826+0j)\n",
      "IXXIXX-(0.0028399740732705826+0j)\n",
      "IYYIXX-(0.0028399740732705826+0j)\n",
      "IXXYZY-(-0.008134093160678084+0j)\n",
      "IYYYZY-(-0.008134093160678084+0j)\n",
      "IXXXZX-(-0.008134093160678084+0j)\n",
      "IYYXZX-(-0.008134093160678084+0j)\n",
      "XZXIIZ-(-0.0345503313555075+0j)\n",
      "YZYIIZ-(-0.0345503313555075+0j)\n",
      "XZXIYY-(-0.008134093160678084+0j)\n",
      "YZYIYY-(-0.008134093160678084+0j)\n",
      "XZXIXX-(-0.008134093160678084+0j)\n",
      "YZYIXX-(-0.008134093160678084+0j)\n",
      "XZXYZY-(0.030563681280213202+0j)\n",
      "YZYYZY-(0.030563681280213202+0j)\n",
      "XZXXZX-(0.030563681280213202+0j)\n",
      "YZYXZX-(0.030563681280213202+0j)\n",
      "IZIIIZ-(0.05749156409401264+0j)\n",
      "IZIIYY-(-0.0012064472922711962+0j)\n",
      "IZIIXX-(-0.0012064472922711962+0j)\n",
      "IZIYZY-(0.0014627232544359484+0j)\n",
      "IZIXZX-(0.0014627232544359484+0j)\n",
      "XXIIIZ-(0.012662673712546722+0j)\n",
      "YYIIIZ-(0.012662673712546722+0j)\n",
      "XXIIYY-(0.0018976115639979493+0j)\n",
      "YYIIYY-(0.0018976115639979493+0j)\n",
      "XXIIXX-(0.0018976115639979493+0j)\n",
      "YYIIXX-(0.0018976115639979493+0j)\n",
      "XXIYZY-(-0.007598387125314286+0j)\n",
      "YYIYZY-(-0.007598387125314286+0j)\n",
      "XXIXZX-(-0.007598387125314286+0j)\n",
      "YYIXZX-(-0.007598387125314286+0j)\n",
      "ZIIIIZ-(0.11496679184694596+0j)\n",
      "ZIIIYY-(0.01024006834016402+0j)\n",
      "ZIIIXX-(0.01024006834016402+0j)\n",
      "ZIIYZY-(-0.03651805353811784+0j)\n",
      "ZIIXZX-(-0.03651805353811784+0j)\n",
      "IIIZZI-(0.054036803736003974+0j)\n",
      "IIZIZI-(0.05749156409401264+0j)\n",
      "IIZYYI-(0.012662673712546722+0j)\n",
      "IIZXXI-(0.012662673712546722+0j)\n",
      "IXXIZI-(-0.0012064472922711962+0j)\n",
      "IYYIZI-(-0.0012064472922711962+0j)\n",
      "IXXYYI-(0.0018976115639979495+0j)\n",
      "IYYYYI-(0.0018976115639979495+0j)\n",
      "IXXXXI-(0.0018976115639979495+0j)\n",
      "IYYXXI-(0.0018976115639979495+0j)\n",
      "XZXIZI-(0.0014627232544359484+0j)\n",
      "YZYIZI-(0.0014627232544359484+0j)\n",
      "XZXYYI-(-0.007598387125314285+0j)\n",
      "YZYYYI-(-0.007598387125314285+0j)\n",
      "XZXXXI-(-0.007598387125314285+0j)\n",
      "YZYXXI-(-0.007598387125314285+0j)\n",
      "IZIIZI-(0.08487127212567522+0j)\n",
      "IZIYYI-(-0.009037292877626993+0j)\n",
      "IZIXXI-(-0.009037292877626993+0j)\n",
      "XXIIZI-(-0.009037292877626993+0j)\n",
      "YYIIZI-(-0.009037292877626993+0j)\n",
      "XXIYYI-(0.006577257474201705+0j)\n",
      "YYIYYI-(0.006577257474201705+0j)\n",
      "XXIXXI-(0.006577257474201705+0j)\n",
      "YYIXXI-(0.006577257474201705+0j)\n",
      "ZIIIZI-(0.06061406121020568+0j)\n",
      "ZIIYYI-(0.010741523927133272+0j)\n",
      "ZIIXXI-(0.010741523927133272+0j)\n",
      "IIZZII-(0.11496679184694596+0j)\n",
      "IXXZII-(0.01024006834016402+0j)\n",
      "IYYZII-(0.01024006834016402+0j)\n",
      "XZXZII-(-0.03651805353811784+0j)\n",
      "YZYZII-(-0.03651805353811784+0j)\n",
      "IZIZII-(0.06061406121020568+0j)\n",
      "XXIZII-(0.01074152392713327+0j)\n",
      "YYIZII-(0.01074152392713327+0j)\n",
      "ZIIZII-(0.11423364529467778+0j)\n",
      "IZZIII-(0.05465159002074206+0j)\n",
      "YYZIII-(0.004528580551868638+0j)\n",
      "XXZIII-(0.004528580551868638+0j)\n",
      "ZIZIII-(0.08440311056673275+0j)\n",
      "YIYIII-(0.003360334818433897+0j)\n",
      "XIXIII-(0.003360334818433897+0j)\n",
      "ZYYIII-(0.0026416812148497334+0j)\n",
      "ZXXIII-(0.0026416812148497334+0j)\n",
      "ZZIIII-(0.054036803736003974+0j)\n"
     ]
    }
   ],
   "source": [
    "weight=[]\n",
    "pauli=[]\n",
    "for w,i in qubitOp._paulis:\n",
    "    weight.append(w)\n",
    "    pauli.append(i.to_label())\n",
    "    \n",
    "for i in range(len(weight)):\n",
    "    print(\"{}-{}\".format(pauli[i],weight[i]))"
   ]
  },
  {
   "cell_type": "code",
   "execution_count": 7,
   "metadata": {},
   "outputs": [
    {
     "name": "stdout",
     "output_type": "stream",
     "text": [
      "theta = [0. 0. 0. 0. 0. 0. 0. 0.]\n",
      "(-0.9527139393899218+0j)\n"
     ]
    },
    {
     "data": {
      "image/png": "[encoded data removed]",
      "text/plain": [
       "<Figure size 761.487x445.48 with 1 Axes>"
      ]
     },
     "execution_count": 7,
     "metadata": {},
     "output_type": "execute_result"
    }
   ],
   "source": [
    "#initial circuit :\n",
    "nr_o=num_spin_orbitals\n",
    "nr_e=num_particles\n",
    "nr_par=(nr_o-nr_e)*nr_e\n",
    "theta=np.zeros(nr_par)\n",
    "qo=QuantumRegister(nr_o,'qo')\n",
    "ansatz = QuantumCircuit(qo)\n",
    "ansatz_cell(ansatz,qo,nr_o, nr_e,theta)\n",
    "ansatz.draw('mpl')\n",
    "circ=var_circ(nr_o,nr_e,theta)\n",
    "print('theta =',theta)\n",
    "print(value(weight,pauli,circ,backend))\n",
    "circ.draw('mpl')"
   ]
  },
  {
   "cell_type": "code",
   "execution_count": 8,
   "metadata": {},
   "outputs": [],
   "source": [
    "#compression"
   ]
  },
  {
   "cell_type": "code",
   "execution_count": 9,
   "metadata": {},
   "outputs": [],
   "source": [
    "class x_op:\n",
    "    def __init__(self,size):\n",
    "        self.size=size\n",
    "        self.elements=get_x(size)\n",
    "        self.label,self.coef=self.labels()\n",
    "    def labels(self):\n",
    "        labels=[]\n",
    "        coef=[]\n",
    "        for j in self.elements:\n",
    "            l=[]\n",
    "            c=[]\n",
    "            x_j,x_label=decompose(j)\n",
    "            for i in range(len(x_j)):\n",
    "                if(abs(x_j[i])!=0):\n",
    "                    l.append(x_label[i])\n",
    "                    c.append(x_j[i])\n",
    "            labels.append(l)\n",
    "            coef.append(c)\n",
    "        return labels, coef\n",
    "    def info(self):\n",
    "        print('size:',self.size)\n",
    "        label=self.label\n",
    "        coef=self.coef\n",
    "        print('nr. elements:',len(label))\n",
    "        for i in range(len(label)):\n",
    "            print('x_{}'.format(i))\n",
    "            print('labels:',label[i])\n",
    "            print('coef:',coef[i])"
   ]
  },
  {
   "cell_type": "code",
   "execution_count": 17,
   "metadata": {},
   "outputs": [
    {
     "name": "stdout",
     "output_type": "stream",
     "text": [
      "size: 2\n",
      "nr. elements: 4\n",
      "x_0\n",
      "labels: ['XI']\n",
      "coef: [(1+0j)]\n",
      "x_1\n",
      "labels: ['YI']\n",
      "coef: [(1+0j)]\n",
      "x_2\n",
      "labels: ['ZX']\n",
      "coef: [(1+0j)]\n",
      "x_3\n",
      "labels: ['ZY']\n",
      "coef: [(1+0j)]\n"
     ]
    }
   ],
   "source": [
    "# 2 Qubit pseudo compression o\n",
    "op_2=x_op(2)\n",
    "op_2.info()"
   ]
  },
  {
   "cell_type": "code",
   "execution_count": 21,
   "metadata": {},
   "outputs": [
    {
     "data": {
      "image/png": "[encoded data removed]",
      "text/plain": [
       "<Figure size 529.777x204.68 with 1 Axes>"
      ]
     },
     "execution_count": 21,
     "metadata": {},
     "output_type": "execute_result"
    }
   ],
   "source": [
    "# initial circuit \n",
    "qr=QuantumRegister(2,'qr_2')\n",
    "c=ClassicalRegister(2,'c_2')\n",
    "qc_2=QuantumCircuit(qr,c)\n",
    "\n",
    "qc_2.append(U_t(np.pi/3),qr)\n",
    "qc_2.measure(qr,c)\n",
    "\n",
    "qc_2.draw('mpl')"
   ]
  },
  {
   "cell_type": "code",
   "execution_count": 30,
   "metadata": {},
   "outputs": [
    {
     "name": "stdout",
     "output_type": "stream",
     "text": [
      "Initial density:\n",
      "[1. 0. 0. 0.]\n",
      "[0. 0. 0. 0.]\n",
      "[0. 0. 0. 0.]\n",
      "[0. 0. 0. 0.]\n",
      "\n",
      " New density:\n",
      "[0.25+0.j 0.5 +0.j 0.  +0.j 0.  +0.j]\n",
      "[-0.5 +0.j  0.25+0.j  0.  +0.j  0.  +0.j]\n",
      "[0.  +0.j 0.  +0.j 0.25+0.j 0.5 +0.j]\n",
      "[ 0.  +0.j  0.  +0.j -0.5 +0.j  0.25+0.j]\n"
     ]
    }
   ],
   "source": [
    "init=np.zeros((2**2,2**2))\n",
    "init[0][0]=1\n",
    "print(\"Initial density:\")\n",
    "for i in init:\n",
    "    print(i)\n",
    "    \n",
    "    \n",
    "new=new_state(init,op_2)\n",
    "print(\"\\n New density:\")\n",
    "for i in new:\n",
    "    print(i)\n"
   ]
  },
  {
   "cell_type": "code",
   "execution_count": 34,
   "metadata": {},
   "outputs": [
    {
     "data": {
      "text/plain": [
       "array([[1.+0.j, 0.+0.j],\n",
       "       [0.+0.j, 1.+0.j]])"
      ]
     },
     "execution_count": 34,
     "metadata": {},
     "output_type": "execute_result"
    }
   ],
   "source": [
    "I"
   ]
  },
  {
   "cell_type": "code",
   "execution_count": 33,
   "metadata": {},
   "outputs": [],
   "source": [
    "Q_2=[[0.25,0.5],\n",
    "     [-0.5,0.25]]"
   ]
  },
  {
   "cell_type": "code",
   "execution_count": null,
   "metadata": {},
   "outputs": [],
   "source": [
    "np.kron(I,I)"
   ]
  },
  {
   "cell_type": "code",
   "execution_count": 39,
   "metadata": {},
   "outputs": [
    {
     "data": {
      "text/plain": [
       "array([[ 0.25+0.j,  0.5 +0.j,  0.  +0.j,  0.  +0.j],\n",
       "       [-0.5 +0.j,  0.25+0.j, -0.  +0.j,  0.  +0.j],\n",
       "       [ 0.  +0.j,  0.  +0.j,  0.25+0.j,  0.5 +0.j],\n",
       "       [-0.  +0.j,  0.  +0.j, -0.5 +0.j,  0.25+0.j]])"
      ]
     },
     "execution_count": 39,
     "metadata": {},
     "output_type": "execute_result"
    }
   ],
   "source": [
    "np.kron(I,Q_2)"
   ]
  },
  {
   "cell_type": "code",
   "execution_count": 84,
   "metadata": {},
   "outputs": [
    {
     "data": {
      "image/png": "[encoded data removed]",
      "text/plain": [
       "<Figure size 168.577x204.68 with 1 Axes>"
      ]
     },
     "execution_count": 84,
     "metadata": {},
     "output_type": "execute_result"
    }
   ],
   "source": [
    "# pseudo compres\n",
    "qr=QuantumRegister(2,'qr_2')\n",
    "c=ClassicalRegister(2,'c_2')\n",
    "qc_2=QuantumCircuit(qr,c)\n",
    "\n",
    "#qc_2.unitary(2*Q_2,qr[1])\n",
    "qc_2.y(qr[1])\n",
    "#qc_2.measure(qr,c)\n",
    "\n",
    "qc_2.draw('mpl')"
   ]
  },
  {
   "cell_type": "code",
   "execution_count": 85,
   "metadata": {},
   "outputs": [],
   "source": [
    "statevector_bg=Aer.get_backend('statevector_simulator')"
   ]
  },
  {
   "cell_type": "code",
   "execution_count": 86,
   "metadata": {},
   "outputs": [
    {
     "name": "stdout",
     "output_type": "stream",
     "text": [
      "[0.-0.j 0.-0.j 0.+1.j 0.+0.j]\n"
     ]
    }
   ],
   "source": [
    "exp=execute(qc_2,backend=statevector_bg)\n",
    "result=exp.result()\n",
    "statevector=result.get_statevector(qc_2,decimals=1)\n",
    "print(statevector)"
   ]
  },
  {
   "cell_type": "code",
   "execution_count": 83,
   "metadata": {},
   "outputs": [
    {
     "name": "stdout",
     "output_type": "stream",
     "text": [
      "[0.-0.j 0.-1.j 0.-0.j 0.-0.j]\n",
      "[0.+1.j 0.+0.j 0.+0.j 0.+0.j]\n",
      "[0.-0.j 0.-0.j 0.-0.j 0.-1.j]\n",
      "[0.+0.j 0.+0.j 0.+1.j 0.+0.j]\n"
     ]
    }
   ],
   "source": [
    "backend = Aer.get_backend('unitary_simulator')\n",
    "job = execute(qc_2, backend)\n",
    "result = job.result()\n",
    "unitary=result.get_unitary(qc_2, decimals=1)\n",
    "\n",
    "for i in unitary:\n",
    "    print(i)"
   ]
  },
  {
   "cell_type": "code",
   "execution_count": 45,
   "metadata": {},
   "outputs": [
    {
     "name": "stdout",
     "output_type": "stream",
     "text": [
      "(1+0j)\n"
     ]
    }
   ],
   "source": [
    "new\n",
    "print(new.trace())"
   ]
  },
  {
   "cell_type": "code",
   "execution_count": 15,
   "metadata": {},
   "outputs": [
    {
     "data": {
      "image/png": "[encoded data removed]",
      "text/plain": [
       "<Figure size 99.8688x264.88 with 1 Axes>"
      ]
     },
     "execution_count": 15,
     "metadata": {},
     "output_type": "execute_result"
    }
   ],
   "source": [
    "qb=QuantumRegister(4,'qb')\n",
    "qc=QuantumCircuit(qb)\n",
    "#qc.unitary(new,qb)\n",
    "qc.initialize\n",
    "qc.draw('mpl')"
   ]
  },
  {
   "cell_type": "code",
   "execution_count": null,
   "metadata": {},
   "outputs": [],
   "source": [
    "class major:\n",
    "    def __init__(self,index,size):\n",
    "        self.index=index\n",
    "        self.size=size\n",
    "    \n",
    "    \n",
    "        "
   ]
  },
  {
   "cell_type": "code",
   "execution_count": 27,
   "metadata": {},
   "outputs": [
    {
     "name": "stdout",
     "output_type": "stream",
     "text": [
      "C:\n",
      "[0. 0. 0. 0. 0. 0. 0. 0. 0. 0. 0. 0.]\n",
      "[0. 0. 0. 0. 0. 0. 0. 0. 0. 0. 0. 0.]\n",
      "[0. 0. 0. 0. 0. 0. 0. 0. 0. 0. 0. 0.]\n",
      "[0. 0. 0. 0. 0. 0. 0. 0. 0. 0. 0. 0.]\n",
      "[0. 0. 0. 0. 0. 0. 0. 0. 0. 0. 0. 0.]\n",
      "[0. 0. 0. 0. 0. 0. 0. 0. 0. 0. 0. 0.]\n",
      "[0. 0. 0. 0. 0. 0. 0. 0. 0. 0. 0. 0.]\n",
      "[0. 0. 0. 0. 0. 0. 0. 0. 0. 0. 0. 0.]\n",
      "[0. 0. 0. 0. 0. 0. 0. 0. 0. 0. 0. 0.]\n",
      "[0. 0. 0. 0. 0. 0. 0. 0. 0. 0. 0. 0.]\n",
      "[0. 0. 0. 0. 0. 0. 0. 0. 0. 0. 0. 0.]\n",
      "[0. 0. 0. 0. 0. 0. 0. 0. 0. 0. 0. 0.]\n"
     ]
    }
   ],
   "source": [
    "#comprssion\n",
    "# inital state : r=1\\(2n)[I+iC(r_{in})]\n",
    "# C=</psi_{in}|ic_jc_k|/psi_{in}>\n",
    "\n",
    "I_2n=np.identity(2*nr_o)\n",
    "C=np.zeros((2*nr_o,2*nr_o))\n",
    "print('C:')\n",
    "for i in C:\n",
    "    print(i)\n",
    "    "
   ]
  },
  {
   "cell_type": "code",
   "execution_count": 28,
   "metadata": {},
   "outputs": [
    {
     "name": "stdout",
     "output_type": "stream",
     "text": [
      "[1. 0. 0. 0. 0. 0. 0. 0. 0. 0. 0. 0.]\n",
      "[0. 1. 0. 0. 0. 0. 0. 0. 0. 0. 0. 0.]\n",
      "[0. 0. 1. 0. 0. 0. 0. 0. 0. 0. 0. 0.]\n",
      "[0. 0. 0. 1. 0. 0. 0. 0. 0. 0. 0. 0.]\n",
      "[0. 0. 0. 0. 1. 0. 0. 0. 0. 0. 0. 0.]\n",
      "[0. 0. 0. 0. 0. 1. 0. 0. 0. 0. 0. 0.]\n",
      "[0. 0. 0. 0. 0. 0. 1. 0. 0. 0. 0. 0.]\n",
      "[0. 0. 0. 0. 0. 0. 0. 1. 0. 0. 0. 0.]\n",
      "[0. 0. 0. 0. 0. 0. 0. 0. 1. 0. 0. 0.]\n",
      "[0. 0. 0. 0. 0. 0. 0. 0. 0. 1. 0. 0.]\n",
      "[0. 0. 0. 0. 0. 0. 0. 0. 0. 0. 1. 0.]\n",
      "[0. 0. 0. 0. 0. 0. 0. 0. 0. 0. 0. 1.]\n"
     ]
    }
   ],
   "source": [
    "for i in I_2n:\n",
    "    print(i)"
   ]
  },
  {
   "cell_type": "code",
   "execution_count": null,
   "metadata": {},
   "outputs": [],
   "source": []
  }
 ],
 "metadata": {
  "kernelspec": {
   "display_name": "Python 3",
   "language": "python",
   "name": "python3"
  },
  "language_info": {
   "codemirror_mode": {
    "name": "ipython",
    "version": 3
   },
   "file_extension": ".py",
   "mimetype": "text/x-python",
   "name": "python",
   "nbconvert_exporter": "python",
   "pygments_lexer": "ipython3",
   "version": "3.8.5"
  }
 },
 "nbformat": 4,
 "nbformat_minor": 4
}
