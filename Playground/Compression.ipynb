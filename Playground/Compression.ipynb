{
 "cells": [
  {
   "cell_type": "code",
   "execution_count": 1,
   "metadata": {},
   "outputs": [],
   "source": [
    "import  numpy as np\n",
    "import matplotlib as plt"
   ]
  },
  {
   "cell_type": "code",
   "execution_count": 2,
   "metadata": {},
   "outputs": [],
   "source": [
    "from qiskit import BasicAer, Aer, IBMQ,execute\n",
    "from qiskit import QuantumRegister ,ClassicalRegister,QuantumCircuit\n",
    "from qiskit.circuit import ParameterVector\n",
    "from qiskit.aqua.operators import I, X, Y, Z\n",
    "\n",
    "from qiskit.aqua.algorithms import VQE, NumPyEigensolver\n",
    "from qiskit.aqua.components.optimizers import COBYLA\n",
    "\n",
    "from qiskit.chemistry import FermionicOperator\n",
    "from qiskit.chemistry.drivers import PySCFDriver, UnitsType\n",
    "\n",
    "from qiskit.transpiler import PassManager\n",
    "from qiskit.transpiler.passes import Unroller\n",
    "\n",
    "from qiskit import IBMQ"
   ]
  },
  {
   "cell_type": "code",
   "execution_count": 3,
   "metadata": {},
   "outputs": [],
   "source": [
    "#jut a dirty trick\n",
    "import itertools \n",
    "from scipy.optimize import minimize\n",
    "from scipy.linalg import expm,logm, sinm, cosm\n",
    "\n",
    "from tools import decompose, expected\n",
    "from tools import ansatz_cell,var_circ\n",
    "from tools import value, cost, Exact_solver\n",
    "\n",
    "from tools import I,X,Y,Z,U_t\n",
    "from tools import get_x,comutation,corelation,new_state\n",
    "from tools import swap_t"
   ]
  },
  {
   "cell_type": "code",
   "execution_count": 4,
   "metadata": {},
   "outputs": [],
   "source": [
    "#local simulator\n",
    "backend=Aer.get_backend('qasm_simulator')"
   ]
  },
  {
   "cell_type": "code",
   "execution_count": 5,
   "metadata": {},
   "outputs": [],
   "source": [
    "#compression"
   ]
  },
  {
   "cell_type": "code",
   "execution_count": 6,
   "metadata": {},
   "outputs": [],
   "source": [
    "def print_decompose(mat):\n",
    "    c,l=decompose(mat)\n",
    "    for i in range(len(l)):\n",
    "        if(abs(c[i])>=0.00000000001):\n",
    "            print('{}:{}'.format(l[i],c[i])) "
   ]
  },
  {
   "cell_type": "code",
   "execution_count": 7,
   "metadata": {},
   "outputs": [],
   "source": [
    "class x_op:\n",
    "    def __init__(self,size):\n",
    "        self.size=size\n",
    "        self.elements=get_x(size)\n",
    "        self.label,self.coef=self.labels()\n",
    "        self.etichet=self.et()\n",
    "    def et(self):\n",
    "        et=[]\n",
    "        for i in range(self.size*2):\n",
    "            et.append('x_'+str(i))\n",
    "        return et\n",
    "    def labels(self):\n",
    "        labels=[]\n",
    "        coef=[]\n",
    "        for j in self.elements:\n",
    "            l=[]\n",
    "            c=[]\n",
    "            x_j,x_label=decompose(j)\n",
    "            for i in range(len(x_j)):\n",
    "                if(abs(x_j[i])!=0):\n",
    "                    l.append(x_label[i])\n",
    "                    c.append(x_j[i])\n",
    "            labels.append(l)\n",
    "            coef.append(c)\n",
    "        return labels, coef\n",
    "    def info(self):\n",
    "        print('size:',self.size)\n",
    "        label=self.label\n",
    "        coef=self.coef\n",
    "        print('nr. elements:',len(label))\n",
    "        for i in range(len(label)):\n",
    "            print(self.etichet[i])\n",
    "            print('labels:',label[i])\n",
    "            print('coef:',coef[i])"
   ]
  },
  {
   "cell_type": "code",
   "execution_count": 8,
   "metadata": {},
   "outputs": [],
   "source": [
    "#op=x_op()\n",
    "class x_op_promote:\n",
    "    def __init__(self,op):\n",
    "        self.op=op\n",
    "        self.etichet,self.elements=self.promote()\n",
    "        self.label,self.coef=self.labels()\n",
    "        self.size=len(self.elements)\n",
    "        \n",
    "    def promote(self):\n",
    "        el=[]\n",
    "        et=[]\n",
    "        for i in range(self.op.size*2):\n",
    "            for j in range(self.op.size*2):\n",
    "                if (i!=j):\n",
    "                    el.append(np.matmul(self.op.elements[i],self.op.elements[j]))\n",
    "                    et.append(self.op.etichet[i]+self.op.etichet[j])\n",
    "        return et, el\n",
    "    \n",
    "    \n",
    "    \n",
    "    def labels(self):\n",
    "        labels=[]\n",
    "        coef=[]\n",
    "        for j in self.elements:\n",
    "            l=[]\n",
    "            c=[]\n",
    "            x_j,x_label=decompose(j)\n",
    "            for i in range(len(x_j)):\n",
    "                if(abs(x_j[i])!=0):\n",
    "                    l.append(x_label[i])\n",
    "                    c.append(x_j[i])\n",
    "            labels.append(l)\n",
    "            coef.append(c)\n",
    "        return labels, coef\n",
    "    def info(self):\n",
    "        print('size:',self.size)\n",
    "        label=self.label\n",
    "        coef=self.coef\n",
    "        print('nr. elements:',len(label))\n",
    "        for i in range(len(label)):\n",
    "            print(self.etichet[i])\n",
    "            print('labels:',label[i])\n",
    "            print('coef:',coef[i])"
   ]
  },
  {
   "cell_type": "code",
   "execution_count": 9,
   "metadata": {},
   "outputs": [
    {
     "name": "stdout",
     "output_type": "stream",
     "text": [
      "size: 12\n",
      "nr. elements: 12\n",
      "x_0x_1\n",
      "labels: ['ZI']\n",
      "coef: [1j]\n",
      "x_0x_2\n",
      "labels: ['YX']\n",
      "coef: [-1j]\n",
      "x_0x_3\n",
      "labels: ['YY']\n",
      "coef: [-1j]\n",
      "x_1x_0\n",
      "labels: ['ZI']\n",
      "coef: [-1j]\n",
      "x_1x_2\n",
      "labels: ['XX']\n",
      "coef: [1j]\n",
      "x_1x_3\n",
      "labels: ['XY']\n",
      "coef: [1j]\n",
      "x_2x_0\n",
      "labels: ['YX']\n",
      "coef: [1j]\n",
      "x_2x_1\n",
      "labels: ['XX']\n",
      "coef: [-1j]\n",
      "x_2x_3\n",
      "labels: ['IZ']\n",
      "coef: [1j]\n",
      "x_3x_0\n",
      "labels: ['YY']\n",
      "coef: [1j]\n",
      "x_3x_1\n",
      "labels: ['XY']\n",
      "coef: [-1j]\n",
      "x_3x_2\n",
      "labels: ['IZ']\n",
      "coef: [-1j]\n"
     ]
    }
   ],
   "source": [
    "# 2 Qubit pseudo compression o\n",
    "op_2=x_op(2)\n",
    "#op_2.info()\n",
    "promote_op_2=x_op_promote(op_2)\n",
    "promote_op_2.info()"
   ]
  },
  {
   "cell_type": "code",
   "execution_count": 10,
   "metadata": {},
   "outputs": [
    {
     "name": "stdout",
     "output_type": "stream",
     "text": [
      "size: 2\n",
      "nr. elements: 4\n",
      "x_0\n",
      "labels: ['XI']\n",
      "coef: [(1+0j)]\n",
      "x_1\n",
      "labels: ['YI']\n",
      "coef: [(1+0j)]\n",
      "x_2\n",
      "labels: ['ZX']\n",
      "coef: [(1+0j)]\n",
      "x_3\n",
      "labels: ['ZY']\n",
      "coef: [(1+0j)]\n"
     ]
    }
   ],
   "source": [
    "op_2=x_op(2)\n",
    "op_2.info()"
   ]
  },
  {
   "cell_type": "code",
   "execution_count": 11,
   "metadata": {},
   "outputs": [
    {
     "name": "stdout",
     "output_type": "stream",
     "text": [
      "size: 2\n",
      "nr. elements: 4\n",
      "x_0\n",
      "labels: ['XI']\n",
      "coef: [(1+0j)]\n",
      "x_1\n",
      "labels: ['YI']\n",
      "coef: [(1+0j)]\n",
      "x_2\n",
      "labels: ['ZX']\n",
      "coef: [(1+0j)]\n",
      "x_3\n",
      "labels: ['ZY']\n",
      "coef: [(1+0j)]\n"
     ]
    }
   ],
   "source": [
    "# 2 Qubit pseudo compression o\n",
    "op_2=x_op(2)\n",
    "op_2.info()"
   ]
  },
  {
   "cell_type": "code",
   "execution_count": 12,
   "metadata": {},
   "outputs": [
    {
     "name": "stdout",
     "output_type": "stream",
     "text": [
      "['x_0', 'x_1', 'x_2', 'x_3']\n",
      "[array([[0.+0.j, 0.+0.j, 1.+0.j, 0.+0.j],\n",
      "       [0.+0.j, 0.+0.j, 0.+0.j, 1.+0.j],\n",
      "       [1.+0.j, 0.+0.j, 0.+0.j, 0.+0.j],\n",
      "       [0.+0.j, 1.+0.j, 0.+0.j, 0.+0.j]]), array([[0.+0.j, 0.+0.j, 0.-1.j, 0.-0.j],\n",
      "       [0.+0.j, 0.+0.j, 0.-0.j, 0.-1.j],\n",
      "       [0.+1.j, 0.+0.j, 0.+0.j, 0.+0.j],\n",
      "       [0.+0.j, 0.+1.j, 0.+0.j, 0.+0.j]]), array([[ 0.+0.j,  1.+0.j,  0.+0.j,  0.+0.j],\n",
      "       [ 1.+0.j,  0.+0.j,  0.+0.j,  0.+0.j],\n",
      "       [ 0.+0.j,  0.+0.j, -0.+0.j, -1.+0.j],\n",
      "       [ 0.+0.j,  0.+0.j, -1.+0.j, -0.+0.j]]), array([[ 0.+0.j,  0.-1.j,  0.+0.j,  0.-0.j],\n",
      "       [ 0.+1.j,  0.+0.j,  0.+0.j,  0.+0.j],\n",
      "       [ 0.+0.j,  0.-0.j, -0.+0.j,  0.+1.j],\n",
      "       [ 0.+0.j,  0.+0.j, -0.-1.j, -0.+0.j]])]\n",
      "[0, 1, 2, 3]\n"
     ]
    }
   ],
   "source": [
    "op=op_2\n",
    "labels=op.etichet\n",
    "print(labels)\n",
    "matrices=op.elements\n",
    "print(matrices)\n",
    "indice=[i for i in range(op.size*2)]\n",
    "print (indice)"
   ]
  },
  {
   "cell_type": "code",
   "execution_count": 13,
   "metadata": {},
   "outputs": [],
   "source": [
    "#op decomposition:\n",
    "\n",
    "\n",
    "# Make Hilbert Schmid product betwen matrices mat1 and mat2\n",
    "def HS(mat1,mat2): \n",
    "    return(np.dot(mat1.conjugate().transpose(), mat2)).trace()\n",
    "\n",
    "\n",
    "#op decomposition:\n",
    "\n",
    "# op matrix\n",
    "I=np.array([[1,0],[0,1]],dtype=np.complex128)\n",
    "X=np.array([[0,1],[1,0]],dtype=np.complex128)\n",
    "Y=np.array([[0,-1.0j],[1.0j,0]],dtype=np.complex128)\n",
    "Z=np.array([[1,0],[0,-1]],dtype=np.complex128)\n",
    "\n",
    "pauli=[I,X,Y,Z]\n",
    "labels=['I','X','Y','Z']\n",
    "indice=[0,1,2,3]\n",
    "\n",
    "\n",
    "# Decompose  observable in matrices from a specific ortonormat basis op \n",
    "def pauli_opConvert(O,op):\n",
    "    \n",
    "    c,l=decompose(O)\n",
    "    \n",
    "    return h,h_label\n",
    "\n",
    "\n"
   ]
  },
  {
   "cell_type": "code",
   "execution_count": 14,
   "metadata": {},
   "outputs": [
    {
     "name": "stdout",
     "output_type": "stream",
     "text": [
      "ZX:(1+0j)\n"
     ]
    }
   ],
   "source": [
    "O=np.kron(Z,X)\n",
    "c,l=decompose(O)\n",
    "\n",
    "for i in range(len(l)):\n",
    "    if(c[i]!=0):\n",
    "        print('{}:{}'.format(l[i],c[i]))"
   ]
  },
  {
   "cell_type": "code",
   "execution_count": 15,
   "metadata": {},
   "outputs": [
    {
     "data": {
      "text/plain": [
       "array([[ 0.+0.j,  1.+0.j,  0.+0.j,  0.+0.j],\n",
       "       [ 1.+0.j,  0.+0.j,  0.+0.j,  0.+0.j],\n",
       "       [ 0.+0.j,  0.+0.j, -0.+0.j, -1.+0.j],\n",
       "       [ 0.+0.j,  0.+0.j, -1.+0.j, -0.+0.j]])"
      ]
     },
     "execution_count": 15,
     "metadata": {},
     "output_type": "execute_result"
    }
   ],
   "source": [
    "np.kron(Z,X)"
   ]
  },
  {
   "cell_type": "code",
   "execution_count": 16,
   "metadata": {},
   "outputs": [
    {
     "data": {
      "image/png": "[encoded data removed]",
      "text/plain": [
       "<Figure size 529.777x204.68 with 1 Axes>"
      ]
     },
     "execution_count": 16,
     "metadata": {},
     "output_type": "execute_result"
    }
   ],
   "source": [
    "G=U_t(np.pi/3)\n",
    "# initial circuit \n",
    "qr=QuantumRegister(2,'qr_2')\n",
    "c=ClassicalRegister(2,'c_2')\n",
    "qc_2=QuantumCircuit(qr,c)\n",
    "\n",
    "qc_2.append(G,qr)\n",
    "qc_2.measure(qr,c)\n",
    "\n",
    "qc_2.draw('mpl')"
   ]
  },
  {
   "cell_type": "markdown",
   "metadata": {},
   "source": [
    "## Initial state "
   ]
  },
  {
   "cell_type": "code",
   "execution_count": 17,
   "metadata": {},
   "outputs": [
    {
     "name": "stdout",
     "output_type": "stream",
     "text": [
      "Initial density:\n",
      "[1. 0. 0. 0.]\n",
      "[0. 0. 0. 0.]\n",
      "[0. 0. 0. 0.]\n",
      "[0. 0. 0. 0.]\n",
      "\n",
      " New density:\n",
      "[0.25+0.j   0.  -0.25j 0.  +0.j   0.  +0.j  ]\n",
      "[0.  +0.25j 0.25+0.j   0.  +0.j   0.  +0.j  ]\n",
      "[0.  +0.j   0.  +0.j   0.25+0.j   0.  -0.25j]\n",
      "[0.  +0.j   0.  +0.j   0.  +0.25j 0.25+0.j  ]\n"
     ]
    }
   ],
   "source": [
    "init=np.zeros((2**2,2**2))\n",
    "init[0][0]=1\n",
    "print(\"Initial density:\")\n",
    "for i in init:\n",
    "    print(i)\n",
    "    \n",
    "    \n",
    "new=new_state(init,op_2)\n",
    "print(\"\\n New density:\")\n",
    "for i in new:\n",
    "    print(i)\n"
   ]
  },
  {
   "cell_type": "code",
   "execution_count": 18,
   "metadata": {},
   "outputs": [
    {
     "name": "stdout",
     "output_type": "stream",
     "text": [
      "C2:\n",
      "[0j, (-1+0j), 0j, 0j]\n",
      "[(1+0j), 0j, 0j, 0j]\n",
      "[0j, 0j, 0j, (-1+0j)]\n",
      "[0j, 0j, (1+0j), 0j]\n",
      "C2 decompose:\n",
      "IY:-1j\n"
     ]
    }
   ],
   "source": [
    "print(\"C2:\")\n",
    "C2=corelation(init,op_2)\n",
    "for i in C2:\n",
    "    print(i)\n",
    "    \n",
    "coef_C2,label_C2=decompose(C2)\n",
    "\n",
    "print(\"C2 decompose:\")\n",
    "for i in range(len(coef_C2)):\n",
    "    if(coef_C2[i]!=0):\n",
    "        print('{}:{}'.format(label_C2[i],coef_C2[i]))"
   ]
  },
  {
   "cell_type": "code",
   "execution_count": 19,
   "metadata": {},
   "outputs": [
    {
     "name": "stdout",
     "output_type": "stream",
     "text": [
      "IY:-1j\n"
     ]
    }
   ],
   "source": [
    "coef_C2,label_C2=decompose(C2)\n",
    "\n",
    "for i in range(len(coef_C2)):\n",
    "    if(coef_C2[i]!=0):\n",
    "        print('{}:{}'.format(label_C2[i],coef_C2[i]))"
   ]
  },
  {
   "cell_type": "code",
   "execution_count": 20,
   "metadata": {},
   "outputs": [
    {
     "name": "stdout",
     "output_type": "stream",
     "text": [
      "[[0.25+0.j   0.  -0.25j 0.  +0.j   0.  +0.j  ]\n",
      " [0.  +0.25j 0.25+0.j   0.  +0.j   0.  +0.j  ]\n",
      " [0.  +0.j   0.  +0.j   0.25+0.j   0.  -0.25j]\n",
      " [0.  +0.j   0.  +0.j   0.  +0.25j 0.25+0.j  ]]\n"
     ]
    }
   ],
   "source": [
    "new_C2=(1j*(-1.j*np.kron(I,Y))+np.kron(I,I))*(1/4)\n",
    "print(new_C2)"
   ]
  },
  {
   "cell_type": "code",
   "execution_count": 21,
   "metadata": {},
   "outputs": [
    {
     "name": "stdout",
     "output_type": "stream",
     "text": [
      "II:(0.25+0j)\n",
      "IY:(0.25+0j)\n"
     ]
    }
   ],
   "source": [
    "c,l=decompose(new_C2)\n",
    "for i in range(len(l)):\n",
    "    if(c[i]!=0):\n",
    "        print('{}:{}'.format(l[i],c[i]))"
   ]
  },
  {
   "cell_type": "markdown",
   "metadata": {},
   "source": [
    "## Gates"
   ]
  },
  {
   "cell_type": "code",
   "execution_count": 22,
   "metadata": {},
   "outputs": [
    {
     "name": "stdout",
     "output_type": "stream",
     "text": [
      "ZI\n",
      "[[ 1.+0.j  0.+0.j  0.+0.j  0.+0.j]\n",
      " [ 0.+0.j  1.+0.j  0.+0.j  0.+0.j]\n",
      " [ 0.+0.j  0.+0.j -1.+0.j -0.+0.j]\n",
      " [ 0.+0.j  0.+0.j -0.+0.j -1.+0.j]]\n",
      "IZ\n",
      "[[ 1.+0.j  0.+0.j  0.+0.j  0.+0.j]\n",
      " [ 0.+0.j -1.+0.j  0.+0.j -0.+0.j]\n",
      " [ 0.+0.j  0.+0.j  1.+0.j  0.+0.j]\n",
      " [ 0.+0.j -0.+0.j  0.+0.j -1.+0.j]]\n",
      "XX\n",
      "[[0.+0.j 0.+0.j 0.+0.j 1.+0.j]\n",
      " [0.+0.j 0.+0.j 1.+0.j 0.+0.j]\n",
      " [0.+0.j 1.+0.j 0.+0.j 0.+0.j]\n",
      " [1.+0.j 0.+0.j 0.+0.j 0.+0.j]]\n",
      "YY\n",
      "[[ 0.+0.j  0.-0.j  0.-0.j -1.+0.j]\n",
      " [ 0.+0.j  0.+0.j  1.-0.j  0.-0.j]\n",
      " [ 0.+0.j  1.-0.j  0.+0.j  0.-0.j]\n",
      " [-1.+0.j  0.+0.j  0.+0.j  0.+0.j]]\n"
     ]
    }
   ],
   "source": [
    "print(\"ZI\")\n",
    "print(np.kron(Z,I))\n",
    "print(\"IZ\")\n",
    "print(np.kron(I,Z))\n",
    "print(\"XX\")\n",
    "print(np.kron(X,X))\n",
    "print(\"YY\")\n",
    "print(np.kron(Y,Y))\n"
   ]
  },
  {
   "cell_type": "code",
   "execution_count": 23,
   "metadata": {},
   "outputs": [
    {
     "name": "stdout",
     "output_type": "stream",
     "text": [
      "[[ 1.  0.  0.  0.]\n",
      " [ 0.  0.  1.  0.]\n",
      " [ 0.  1. -0.  0.]\n",
      " [ 0.  0.  0. -1.]]\n"
     ]
    }
   ],
   "source": [
    "#Now let's see how we can compress a gate.(G)\n",
    "t=0\n",
    "G=U_t(3)\n",
    "G_mat=swap_t(t)\n",
    "print(G_mat.mat)\n"
   ]
  },
  {
   "cell_type": "code",
   "execution_count": 24,
   "metadata": {},
   "outputs": [
    {
     "name": "stdout",
     "output_type": "stream",
     "text": [
      "A(a)=B(a):\n",
      "[[ 1.        +0.j  0.        +0.j  0.        +0.j  0.        +0.j]\n",
      " [ 0.        +0.j  0.17364818+0.j  0.98480775+0.j  0.        +0.j]\n",
      " [ 0.        +0.j  0.98480775+0.j -0.17364818+0.j  0.        +0.j]\n",
      " [ 0.        +0.j  0.        +0.j  0.        +0.j -1.        +0.j]]\n",
      "######################################################\n",
      "B decompose:\n",
      "ZX:(1+0j)\n",
      "######################################################\n",
      "\n",
      "\n",
      "######################################################\n",
      "ln(B)\n",
      "[[ 0.00000000e+00+0.j          0.00000000e+00+0.j\n",
      "   0.00000000e+00+0.j          0.00000000e+00+0.j        ]\n",
      " [ 0.00000000e+00+0.j         -1.49083158e-16+1.29803041j\n",
      "   1.77670389e-16-1.5469324j   0.00000000e+00+0.j        ]\n",
      " [ 0.00000000e+00+0.j          1.77670389e-16-1.5469324j\n",
      "  -2.11739325e-16+1.84356225j  0.00000000e+00+0.j        ]\n",
      " [ 0.00000000e+00+0.j          0.00000000e+00+0.j\n",
      "   0.00000000e+00+0.j         -3.60822483e-16+3.14159265j]]\n",
      "######################################################\n",
      "O decompose\n",
      "II:(-1.8041124150158794e-16+1.5707963267948966j)\n",
      "IZ:(7.454157909210436e-17-0.6490152035805272j)\n",
      "XX:(8.883519468066083e-17-0.7734662005153561j)\n",
      "YY:(8.883519468066083e-17-0.7734662005153561j)\n",
      "ZI:(1.0586966240948358e-16-0.9217811232143691j)\n",
      "######################################################\n",
      "\n",
      "\n",
      "######################################################\n",
      "S:\n",
      "[[0.+0.j         0.+0.j         0.+0.j         0.+0.j        ]\n",
      " [0.+0.j         0.+1.99125938j 0.-2.42991573j 0.+0.j        ]\n",
      " [0.+0.j         0.-2.42991573j 0.+1.15033327j 0.+0.j        ]\n",
      " [0.+0.j         0.+0.j         0.+0.j         0.+3.14159265j]]\n",
      "######################################################\n",
      "S decompose\n",
      "II:1.5707963267948966j\n",
      "IZ:-0.995629691446661j\n",
      "XX:-1.2149578666695262j\n",
      "YY:-1.2149578666695262j\n",
      "ZI:-0.5751666353482356j\n",
      "######################################################\n",
      "\n",
      "\n",
      "######################################################\n",
      "Se:\n",
      "[[ 1.        +0.00000000e+00j  0.        +0.00000000e+00j\n",
      "   0.        +0.00000000e+00j  0.        +0.00000000e+00j]\n",
      " [ 0.        +0.00000000e+00j -0.10662199-7.80352145e-01j\n",
      "   0.61618364-1.11022302e-16j  0.        +0.00000000e+00j]\n",
      " [ 0.        +0.00000000e+00j  0.61618364-5.55111512e-17j\n",
      "   0.10662199-7.80352145e-01j  0.        +0.00000000e+00j]\n",
      " [ 0.        +0.00000000e+00j  0.        +0.00000000e+00j\n",
      "   0.        +0.00000000e+00j -1.        +2.35127499e-16j]]\n",
      "######################################################\n",
      "######################################################\n",
      "\n",
      "\n",
      "[[-1.11022302e-16+0.00000000e+00j  0.00000000e+00+0.00000000e+00j\n",
      "   0.00000000e+00+0.00000000e+00j  0.00000000e+00+0.00000000e+00j]\n",
      " [ 0.00000000e+00+0.00000000e+00j -2.80270170e-01-7.80352145e-01j\n",
      "  -3.68624111e-01-1.11022302e-16j  0.00000000e+00+0.00000000e+00j]\n",
      " [ 0.00000000e+00+0.00000000e+00j -3.68624111e-01-5.55111512e-17j\n",
      "   2.80270170e-01-7.80352145e-01j  0.00000000e+00+0.00000000e+00j]\n",
      " [ 0.00000000e+00+0.00000000e+00j  0.00000000e+00+0.00000000e+00j\n",
      "   0.00000000e+00+0.00000000e+00j  1.11022302e-16+2.35127499e-16j]]\n",
      "abs_Sum 2.395561627909386\n",
      "######################################################\n",
      "\n",
      "\n",
      "Bl\n",
      "[[ 1.        -0.00000000e+00j  0.        -0.00000000e+00j\n",
      "   0.        -0.00000000e+00j  0.        -0.00000000e+00j]\n",
      " [ 0.        -0.00000000e+00j  0.17364818+3.12250226e-17j\n",
      "   0.98480775+2.77555756e-17j  0.        -0.00000000e+00j]\n",
      " [ 0.        -0.00000000e+00j  0.98480775+2.77555756e-17j\n",
      "  -0.17364818+5.55111512e-17j  0.        -0.00000000e+00j]\n",
      " [ 0.        -0.00000000e+00j  0.        -0.00000000e+00j\n",
      "   0.        -0.00000000e+00j -1.        +0.00000000e+00j]]\n",
      "######################################################\n",
      "\n",
      "\n",
      "Dif2\n",
      "[[ 0.00000000e+00-0.00000000e+00j  0.00000000e+00-0.00000000e+00j\n",
      "   0.00000000e+00-0.00000000e+00j  0.00000000e+00-0.00000000e+00j]\n",
      " [ 0.00000000e+00-0.00000000e+00j -5.55111512e-17+3.12250226e-17j\n",
      "   1.11022302e-16+2.77555756e-17j  0.00000000e+00-0.00000000e+00j]\n",
      " [ 0.00000000e+00-0.00000000e+00j  0.00000000e+00+2.77555756e-17j\n",
      "   2.77555756e-17+5.55111512e-17j  0.00000000e+00-0.00000000e+00j]\n",
      " [ 0.00000000e+00-0.00000000e+00j  0.00000000e+00-0.00000000e+00j\n",
      "   0.00000000e+00-0.00000000e+00j  0.00000000e+00+0.00000000e+00j]]\n",
      "abs_Sum 2.6794867913218993e-16\n"
     ]
    }
   ],
   "source": [
    "a=2*np.pi/9;b=0\n",
    "\n",
    "###########################\n",
    "#just some math to explor how we cn reprezent our gates .#\n",
    "\n",
    "#A=(np.sin(a)**2)*np.kron(I,Z)+ (np.sin(a*2)*np.kron(X,X)+ np.sin(a*2)*np.kron(Y,Y))/2+(np.cos(a)**2)*np.kron(Z,I)\n",
    "\n",
    "#2sin(A)sin(B)=cos(A-B)+cos(A+B)\n",
    "#2sin(A)sin(A)=cos(A-A)+cos(A+A)=1+cos(2A)\n",
    "\n",
    "#2cos(A)cos(B)=cos(A+B)-cos(A-B)\n",
    "#2cos(A)cos(A)=cos(2A)-1\n",
    "\n",
    "##############################\n",
    "\n",
    "\n",
    "B=(1-np.cos(a*2))/2*np.kron(I,Z)+ (np.sin(a*2)*np.kron(X,X)+ np.sin(a*2)*np.kron(Y,Y))/2+(np.cos(a*2)+1)/2*np.kron(Z,I)\n",
    "print(\"A(a)=B(a):\")\n",
    "print(B)\n",
    "print(\"######################################################\")\n",
    "\n",
    "print(\"B decompose:\")\n",
    "c,l=decompose(O)\n",
    "for i in range(len(l)):\n",
    "    if(abs(c[i])>=0.00000000001):\n",
    "        print('{}:{}'.format(l[i],c[i])) \n",
    "print(\"######################################################\")\n",
    "print('\\n')\n",
    "\n",
    "print(\"######################################################\")\n",
    "\n",
    "O=logm(B)  #ln(B)\n",
    "print(\"ln(B)\")\n",
    "print(O)\n",
    "print(\"######################################################\")\n",
    "\n",
    "print(\"O decompose\")\n",
    "c,l=decompose(O)\n",
    "for i in range(len(l)):\n",
    "    if(abs(c[i])>=0.00000000001):\n",
    "        print('{}:{}'.format(l[i],c[i]))\n",
    "print(\"######################################################\")\n",
    "print('\\n')\n",
    "\n",
    "print(\"######################################################\")\n",
    "\n",
    "b=np.arcsin(0.7734662005153561)\n",
    "S= np.pi/2*(1j*(np.kron(I,I))-1j*np.cos(b)*np.kron(I,Z)-1j*(1-np.cos(b))*np.kron(Z,I)-1j*np.sin(b)*(np.kron(Y,Y)+np.kron(X,X)))\n",
    "print(\"S:\")\n",
    "print(S) \n",
    "print(\"######################################################\")\n",
    "\n",
    "print(\"S decompose\")\n",
    "c,l=decompose(S)\n",
    "for i in range(len(l)):\n",
    "    if(abs(c[i])>=0.00000000001):\n",
    "        print('{}:{}'.format(l[i],c[i]))\n",
    "print(\"######################################################\")\n",
    "print('\\n')\n",
    "\n",
    "print(\"######################################################\")\n",
    "\n",
    "print(\"Se:\")\n",
    "S_e=expm(S)\n",
    "print(S_e) \n",
    "print(\"######################################################\")\n",
    "\n",
    "print(\"######################################################\")\n",
    "print('\\n')\n",
    "\n",
    "Dif=S_e-B\n",
    "print(Dif)\n",
    "s=0\n",
    "for i in range(len(Dif)):\n",
    "    for j in Dif[i]:\n",
    "        s=s+abs(j)\n",
    "print(\"abs_Sum\",s)\n",
    "print(\"######################################################\")\n",
    "print('\\n')\n",
    "\n",
    "\n",
    "print(\"Bl\")\n",
    "Bl=expm(1j*np.pi/2*B)\n",
    "B2=-1j*Bl\n",
    "print(B2)\n",
    "print(\"######################################################\")\n",
    "print('\\n')\n",
    "\n",
    "print('Dif2')\n",
    "Dif_2=B2-B\n",
    "print(Dif_2)\n",
    "s=0\n",
    "for i in range(len(Dif_2)):\n",
    "    for j in Dif_2[i]:\n",
    "        s=s+abs(j)\n",
    "print(\"abs_Sum\",s)"
   ]
  },
  {
   "cell_type": "code",
   "execution_count": 25,
   "metadata": {},
   "outputs": [],
   "source": [
    "## Jist to see some possible gates \n",
    "## Definitely Bl method is better\n",
    "## for k in range(1,500): \n",
    "#    b=2*np.pi/k\n",
    "#    B=(1-np.cos(a*2))/2*np.kron(I,Z)+ (np.sin(a*2)*np.kron(X,X)+ np.sin(a*2)*np.kron(Y,Y))/2+(np.cos(a*2)+1)/2*np.kron(Z,I)\n",
    "#    O=-1j*expm(1j*np.pi/2*B)\n",
    "#    print('Oooooooooo')\n",
    "#    print(O)"
   ]
  },
  {
   "cell_type": "code",
   "execution_count": 26,
   "metadata": {},
   "outputs": [
    {
     "name": "stdout",
     "output_type": "stream",
     "text": [
      "######################################################\n",
      "C:\n",
      "C[0]\n",
      "XI:(1+0j)\n",
      "C[1]\n",
      "YI:(1+0j)\n",
      "C[2]\n",
      "ZX:(1+0j)\n",
      "C[3]\n",
      "ZY:(1+0j)\n",
      "######################################################\n",
      "\n",
      "\n",
      "######################################################\n",
      "C_iC_j:\n",
      "\n",
      " C[1]C[0]\n",
      "ZI:-1j\n",
      "\n",
      " C[2]C[0]\n",
      "YX:1j\n",
      "\n",
      " C[2]C[1]\n",
      "XX:-1j\n",
      "\n",
      " C[3]C[0]\n",
      "YY:1j\n",
      "\n",
      " C[3]C[1]\n",
      "XY:-1j\n",
      "\n",
      " C[3]C[2]\n",
      "IZ:-1j\n",
      "######################################################\n"
     ]
    }
   ],
   "source": [
    "#Let's try to found a path to decompose our B in op_n elementss\n",
    "print(\"######################################################\")\n",
    "print(\"C:\")\n",
    "C=op_2.elements\n",
    "for i in range(len(C)):\n",
    "    print(\"C[{}]\".format(i))\n",
    "    print_decompose(C[i])\n",
    "print(\"######################################################\")\n",
    "print('\\n')\n",
    "\n",
    "print(\"######################################################\")\n",
    "print(\"C_iC_j:\")\n",
    "for i in range(len(C)):\n",
    "    for j in range(len(C)):\n",
    "        if (i!=j)and (i>j):\n",
    "            print(\"\\n C[{}]C[{}]\".format(i,j)) \n",
    "            print_decompose(np.matmul(C[i],C[j]))\n",
    "print(\"######################################################\")"
   ]
  },
  {
   "cell_type": "code",
   "execution_count": 27,
   "metadata": {},
   "outputs": [],
   "source": [
    "a=2*np.pi/9\n",
    "B= 1j*((1-np.cos(a*2))/2*np.matmul(C[3],C[2])+(np.sin(a*2)*np.matmul(C[2],C[1])-np.sin(a*2)*np.matmul(C[3],C[0]))/2+(np.cos(a*2)+1)/2*np.matmul(C[1],C[0]))\n",
    "Bl=expm(-1j*np.pi/2*B)\n",
    "B2=1j*Bl"
   ]
  },
  {
   "cell_type": "code",
   "execution_count": 28,
   "metadata": {},
   "outputs": [
    {
     "name": "stdout",
     "output_type": "stream",
     "text": [
      "B\n",
      "[[ 1.        +0.j  0.        +0.j  0.        +0.j  0.        +0.j]\n",
      " [ 0.        +0.j  0.17364818+0.j  0.98480775+0.j  0.        +0.j]\n",
      " [ 0.        +0.j  0.98480775+0.j -0.17364818+0.j  0.        +0.j]\n",
      " [ 0.        +0.j  0.        +0.j  0.        +0.j -1.        +0.j]]\n",
      "[[ 1.        +0.00000000e+00j  0.        +0.00000000e+00j\n",
      "   0.        +0.00000000e+00j  0.        +0.00000000e+00j]\n",
      " [ 0.        +0.00000000e+00j  0.17364818-3.12250226e-17j\n",
      "   0.98480775-2.77555756e-17j  0.        +0.00000000e+00j]\n",
      " [ 0.        +0.00000000e+00j  0.98480775-2.77555756e-17j\n",
      "  -0.17364818-5.55111512e-17j  0.        +0.00000000e+00j]\n",
      " [ 0.        +0.00000000e+00j  0.        +0.00000000e+00j\n",
      "   0.        +0.00000000e+00j -1.        +0.00000000e+00j]]\n"
     ]
    }
   ],
   "source": [
    "# /   0                    1.                   2.                   3\n",
    "# 0   0                    -(np.cos(a*2)+1)/4   0                    np.sin(a*2)/2 \n",
    "# 1   (np.cos(a*2)+1)/4    0                    -np.sin(a*2)/4       0\n",
    "# 2   0                    np.sin(a*2)/4        0                    -(1-np.cos(a*2))/4 \n",
    "# 3   -np.sin(a*2)/4       0                    (1-np.cos(a*2))/4    0\n",
    "\n",
    "B=1j*((np.cos(a*2)+1)/4*(np.matmul(C[1],C[0])-np.matmul(C[0],C[1]))\n",
    "      +np.sin(a*2)/4*(np.matmul(C[2],C[1])-np.matmul(C[1],C[2]))\n",
    "      +(1-np.cos(a*2))/4*(np.matmul(C[3],C[2])-np.matmul(C[2],C[3]))\n",
    "      -np.sin(a*2)/4*(np.matmul(C[3],C[0])-np.matmul(C[0],C[3])))\n",
    "    \n",
    "print(\"B\")\n",
    "print(B)\n",
    "Bl=expm(-1j*np.pi/2*B)\n",
    "B2=1j*Bl  # ! don't forget 1j\n",
    "print(B2)"
   ]
  },
  {
   "cell_type": "code",
   "execution_count": 29,
   "metadata": {},
   "outputs": [],
   "source": [
    "# Let's generalize for more qubits\n",
    "\n",
    "#qubit\n",
    "#k: 0        | 1        | 2         | 3         |  4        |   5         |...\n",
    "#   c_0  c_1 | c_2  c_3 | c_4  c_5  | c_6   c_7 | c_8   c_9 | c_10   c_11 |...\n",
    "\n",
    "#c_k   =Z...Zx_kI...I\n",
    "#c_{2k+1}=Z...Zy_{2k}I...I\n",
    "\n",
    "#B_{k_1,k_2,a}=1j*((np.cos(a*2)+1)/4*(np.matmul(C[k_1+1],C[k_1])-np.matmul(C[k_1],C[k_1+1]))\n",
    "#                  +np.sin(a*2)/4*(np.matmul(C[k_2],C[k_1+1])-np.matmul(C[k_1+1],C[k_2]))\n",
    "#                  +(1-np.cos(a*2))/4*(np.matmul(C[k_2+3],C[k_2])-np.matmul(C[k_2],C[k_2+1]))\n",
    "#                  -np.sin(a*2)/4*(np.matmul(C[k_2+1],C[k_1])-np.matmul(C[k_1],C[k_2+1])))\n",
    "\n"
   ]
  },
  {
   "cell_type": "code",
   "execution_count": 30,
   "metadata": {
    "scrolled": true
   },
   "outputs": [],
   "source": [
    "k_1=1\n",
    "k_2=2\n",
    "C=x_op(4).elements\n",
    "B=1j*((np.cos(a*2)+1)/4*(np.matmul(C[2*k_1+1],C[2*k_1])-np.matmul(C[2*k_1],C[2*k_1+1]))\n",
    "         +np.sin(a*2)/4*(np.matmul(C[2*k_2],C[2*k_1+1])-np.matmul(C[2*k_1+1],C[2*k_2]))\n",
    "     +(1-np.cos(a*2))/4*(np.matmul(C[2*k_2+1],C[2*k_2])-np.matmul(C[2*k_2],C[2*k_2+1]))\n",
    "         -np.sin(a*2)/4*(np.matmul(C[2*k_2+1],C[2*k_1])-np.matmul(C[2*k_1],C[2*k_2+1])))"
   ]
  },
  {
   "cell_type": "code",
   "execution_count": 31,
   "metadata": {},
   "outputs": [],
   "source": [
    "#remake:\n",
    "\n",
    "class B:\n",
    "    def __init__(self,theata):\n",
    "        self.theta=theata\n",
    "        self.mat=np.array([[1,0,0,0],\n",
    "                           [0,np.sin(self.theta),np.cos(self.theta),0],\n",
    "                           [0,np.cos(self.theta),-1*np.sin(self.theta),0],\n",
    "                           [0,0,0,-1]])\n",
    "        self()\n",
    "     \n",
    "def U_t(theta):\n",
    "    qc=QuantumCircuit(2,name='U_t('+str(theta)+')')\n",
    "    qc.unitary(swap_t(theta).mat,[0,1])\n",
    "    return qc.to_gate()"
   ]
  },
  {
   "cell_type": "code",
   "execution_count": 32,
   "metadata": {},
   "outputs": [],
   "source": [
    "k_1=1\n",
    "k_2=2\n",
    "C=x_op(4).elements\n",
    "B=1j*((np.cos(a*2)+1)/4*(np.matmul(C[2*k_1+1],C[2*k_1])-np.matmul(C[2*k_1],C[2*k_1+1]))\n",
    "         +np.sin(a*2)/4*(np.matmul(C[2*k_2],C[2*k_1+1])-np.matmul(C[2*k_1+1],C[2*k_2]))\n",
    "     +(1-np.cos(a*2))/4*(np.matmul(C[2*k_2+1],C[2*k_2])-np.matmul(C[2*k_2],C[2*k_2+1]))\n",
    "         -np.sin(a*2)/4*(np.matmul(C[2*k_2+1],C[2*k_1])-np.matmul(C[2*k_1],C[2*k_2+1])))"
   ]
  },
  {
   "cell_type": "code",
   "execution_count": 33,
   "metadata": {},
   "outputs": [],
   "source": [
    "class R_gate:\n",
    "    def __init__(self,gate,k_1,k_2,size):\n",
    "        #gate=deasire swap_t ;k_1=first qbit; k_2=second qbit; size= total nr of qbits\n",
    "        self.k_1=k_1\n",
    "        self.k_2=k_2\n",
    "        self.gate=gate\n",
    "        self.a=gate.theta\n",
    "        self.size=size\n",
    "        self.mat=0\n",
    "        \n",
    "    def get_R_mat(self):\n",
    "        a=self.a/2\n",
    "        R=np.zeros((2*self.size,2*self.size))\n",
    "        k_1=self.k_1\n",
    "        k_2=self.k_2\n",
    "        R[2*k_1+1][2*k_1]=(np.cos(a*2)+1)/4\n",
    "        R[2*k_1][2*k_1+1]=-(np.cos(a*2)+1)/4\n",
    "        R[2*k_2][2*k_1+1]=np.sin(a*2)/4\n",
    "        R[2*k_1+1][2*k_2]=-np.sin(a*2)/4\n",
    "        R[2*k_2+1][2*k_2]=(1-np.cos(a*2))/4\n",
    "        R[2*k_2][2*k_2+1]=-(1-np.cos(a*2))/4\n",
    "        R[2*k_2+1][2*k_1]=-np.sin(a*2)/4\n",
    "        R[2*k_1][2*k_2+1]=np.sin(a*2)/4\n",
    "        self.mat=R"
   ]
  },
  {
   "cell_type": "code",
   "execution_count": 37,
   "metadata": {},
   "outputs": [
    {
     "name": "stdout",
     "output_type": "stream",
     "text": [
      "##################################################################\n",
      "b:\n",
      "[[ 1.          0.          0.          0.        ]\n",
      " [ 0.          0.64278761  0.76604444  0.        ]\n",
      " [ 0.          0.76604444 -0.64278761  0.        ]\n",
      " [ 0.          0.          0.         -1.        ]]\n",
      "##################################################################\n",
      "IZ:(0.17860619515673037+0j)\n",
      "XX:(0.38302222155948906+0j)\n",
      "YY:(0.38302222155948906+0j)\n",
      "ZI:(0.8213938048432696+0j)\n",
      "##################################################################\n",
      "\n",
      "##################################################################\n",
      "R_b_1_2:\n",
      "[[ 0.          0.          0.          0.          0.          0.\n",
      "   0.          0.        ]\n",
      " [ 0.          0.          0.          0.          0.          0.\n",
      "   0.          0.        ]\n",
      " [ 0.          0.          0.         -0.44151111  0.          0.1606969\n",
      "   0.          0.        ]\n",
      " [ 0.          0.          0.44151111  0.         -0.1606969   0.\n",
      "   0.          0.        ]\n",
      " [ 0.          0.          0.          0.1606969   0.         -0.05848889\n",
      "   0.          0.        ]\n",
      " [ 0.          0.         -0.1606969   0.          0.05848889  0.\n",
      "   0.          0.        ]\n",
      " [ 0.          0.          0.          0.          0.          0.\n",
      "   0.          0.        ]\n",
      " [ 0.          0.          0.          0.          0.          0.\n",
      "   0.          0.        ]]\n",
      "##################################################################\n",
      "IIY:-0.125j\n",
      "IZY:0.09575555538987227j\n",
      "XXY:0.0803484512108174j\n",
      "YYY:0.0803484512108174j\n",
      "ZIY:-0.09575555538987227j\n",
      "ZZY:0.125j\n",
      "##################################################################\n"
     ]
    }
   ],
   "source": [
    "print(\"##################################################################\")\n",
    "a=2*np.pi/9\n",
    "b=swap_t(2*np.pi/9)\n",
    "print(\"b:\")\n",
    "print(b.mat)\n",
    "print(\"##################################################################\")\n",
    "print_decompose(b.mat)\n",
    "print(\"##################################################################\\n\")\n",
    "\n",
    "print(\"##################################################################\")\n",
    "k_1=1\n",
    "k_2=2\n",
    "print(\"R_b_{}_{}:\".format(k_1,k_2))\n",
    "r=R_gate(b,k_1,k_2,4)\n",
    "r.get_R_mat()\n",
    "print(r.mat)\n",
    "print(\"##################################################################\")\n",
    "print_decompose(r.mat)\n",
    "print(\"##################################################################\")"
   ]
  },
  {
   "cell_type": "code",
   "execution_count": 162,
   "metadata": {},
   "outputs": [],
   "source": [
    "# generate R  from B"
   ]
  },
  {
   "cell_type": "code",
   "execution_count": 163,
   "metadata": {},
   "outputs": [
    {
     "name": "stdout",
     "output_type": "stream",
     "text": [
      "IIZI:(0.41317591116653474+0j)\n",
      "IXXI:(0.492403876506104+0j)\n",
      "IYYI:(0.492403876506104+0j)\n",
      "IZII:(0.5868240888334653+0j)\n"
     ]
    }
   ],
   "source": [
    "print_decompose(B)"
   ]
  },
  {
   "cell_type": "code",
   "execution_count": 167,
   "metadata": {},
   "outputs": [
    {
     "data": {
      "text/plain": [
       "array([[-0.22075556,  0.        ,  0.08034845,  0.        ],\n",
       "       [ 0.        , -0.22075556,  0.        ,  0.08034845],\n",
       "       [ 0.08034845,  0.        , -0.02924444,  0.        ],\n",
       "       [ 0.        ,  0.08034845,  0.        , -0.02924444]])"
      ]
     },
     "execution_count": 167,
     "metadata": {},
     "output_type": "execute_result"
    }
   ],
   "source": [
    "np.matmul(r.mat,r.mat)"
   ]
  },
  {
   "cell_type": "code",
   "execution_count": 165,
   "metadata": {},
   "outputs": [
    {
     "name": "stdout",
     "output_type": "stream",
     "text": [
      "[[ 0.         -0.44151111  0.          0.1606969 ]\n",
      " [ 0.44151111  0.         -0.1606969   0.        ]\n",
      " [ 0.          0.1606969   0.         -0.05848889]\n",
      " [-0.1606969   0.          0.05848889  0.        ]]\n"
     ]
    }
   ],
   "source": [
    "a=2*np.pi/9\n",
    "b=swap_t(2*np.pi/9)\n",
    "\n",
    "r=R_gate(b,0,1,2)#k_1=0,k_2=1\n",
    "r.get_R_mat()\n",
    "print(r.mat)"
   ]
  },
  {
   "cell_type": "code",
   "execution_count": 38,
   "metadata": {},
   "outputs": [
    {
     "ename": "ExtensionError",
     "evalue": "'Input matrix is not unitary.'",
     "output_type": "error",
     "traceback": [
      "\u001b[0;31m---------------------------------------------------------------------------\u001b[0m",
      "\u001b[0;31mExtensionError\u001b[0m                            Traceback (most recent call last)",
      "\u001b[0;32m<ipython-input-38-e681b0288ac5>\u001b[0m in \u001b[0;36m<module>\u001b[0;34m\u001b[0m\n\u001b[1;32m      8\u001b[0m \u001b[0mqc_2\u001b[0m\u001b[0;34m.\u001b[0m\u001b[0my\u001b[0m\u001b[0;34m(\u001b[0m\u001b[0mqr\u001b[0m\u001b[0;34m[\u001b[0m\u001b[0;36m1\u001b[0m\u001b[0;34m]\u001b[0m\u001b[0;34m)\u001b[0m\u001b[0;34m\u001b[0m\u001b[0;34m\u001b[0m\u001b[0m\n\u001b[1;32m      9\u001b[0m \u001b[0;31m#new gate\u001b[0m\u001b[0;34m\u001b[0m\u001b[0;34m\u001b[0m\u001b[0;34m\u001b[0m\u001b[0m\n\u001b[0;32m---> 10\u001b[0;31m \u001b[0mqc_2\u001b[0m\u001b[0;34m.\u001b[0m\u001b[0munitary\u001b[0m\u001b[0;34m(\u001b[0m\u001b[0;36m4\u001b[0m\u001b[0;34m*\u001b[0m\u001b[0mr\u001b[0m\u001b[0;34m.\u001b[0m\u001b[0mmat\u001b[0m\u001b[0;34m,\u001b[0m\u001b[0mqr\u001b[0m\u001b[0;34m)\u001b[0m\u001b[0;34m\u001b[0m\u001b[0;34m\u001b[0m\u001b[0m\n\u001b[0m\u001b[1;32m     11\u001b[0m \u001b[0;34m\u001b[0m\u001b[0m\n\u001b[1;32m     12\u001b[0m \u001b[0mqc_2\u001b[0m\u001b[0;34m.\u001b[0m\u001b[0mdraw\u001b[0m\u001b[0;34m(\u001b[0m\u001b[0;34m'mpl'\u001b[0m\u001b[0;34m)\u001b[0m\u001b[0;34m\u001b[0m\u001b[0;34m\u001b[0m\u001b[0m\n",
      "\u001b[0;32m~/opt/anaconda3/envs/venvCQ/lib/python3.8/site-packages/qiskit/extensions/unitary.py\u001b[0m in \u001b[0;36munitary\u001b[0;34m(self, obj, qubits, label)\u001b[0m\n\u001b[1;32m    214\u001b[0m \u001b[0;32mdef\u001b[0m \u001b[0munitary\u001b[0m\u001b[0;34m(\u001b[0m\u001b[0mself\u001b[0m\u001b[0;34m,\u001b[0m \u001b[0mobj\u001b[0m\u001b[0;34m,\u001b[0m \u001b[0mqubits\u001b[0m\u001b[0;34m,\u001b[0m \u001b[0mlabel\u001b[0m\u001b[0;34m=\u001b[0m\u001b[0;32mNone\u001b[0m\u001b[0;34m)\u001b[0m\u001b[0;34m:\u001b[0m\u001b[0;34m\u001b[0m\u001b[0;34m\u001b[0m\u001b[0m\n\u001b[1;32m    215\u001b[0m     \u001b[0;34m\"\"\"Apply unitary gate to q.\"\"\"\u001b[0m\u001b[0;34m\u001b[0m\u001b[0;34m\u001b[0m\u001b[0m\n\u001b[0;32m--> 216\u001b[0;31m     \u001b[0mgate\u001b[0m \u001b[0;34m=\u001b[0m \u001b[0mUnitaryGate\u001b[0m\u001b[0;34m(\u001b[0m\u001b[0mobj\u001b[0m\u001b[0;34m,\u001b[0m \u001b[0mlabel\u001b[0m\u001b[0;34m=\u001b[0m\u001b[0mlabel\u001b[0m\u001b[0;34m)\u001b[0m\u001b[0;34m\u001b[0m\u001b[0;34m\u001b[0m\u001b[0m\n\u001b[0m\u001b[1;32m    217\u001b[0m     \u001b[0;32mif\u001b[0m \u001b[0misinstance\u001b[0m\u001b[0;34m(\u001b[0m\u001b[0mqubits\u001b[0m\u001b[0;34m,\u001b[0m \u001b[0mQuantumRegister\u001b[0m\u001b[0;34m)\u001b[0m\u001b[0;34m:\u001b[0m\u001b[0;34m\u001b[0m\u001b[0;34m\u001b[0m\u001b[0m\n\u001b[1;32m    218\u001b[0m         \u001b[0mqubits\u001b[0m \u001b[0;34m=\u001b[0m \u001b[0mqubits\u001b[0m\u001b[0;34m[\u001b[0m\u001b[0;34m:\u001b[0m\u001b[0;34m]\u001b[0m\u001b[0;34m\u001b[0m\u001b[0;34m\u001b[0m\u001b[0m\n",
      "\u001b[0;32m~/opt/anaconda3/envs/venvCQ/lib/python3.8/site-packages/qiskit/extensions/unitary.py\u001b[0m in \u001b[0;36m__init__\u001b[0;34m(self, data, label)\u001b[0m\n\u001b[1;32m     60\u001b[0m         \u001b[0;31m# Check input is unitary\u001b[0m\u001b[0;34m\u001b[0m\u001b[0;34m\u001b[0m\u001b[0;34m\u001b[0m\u001b[0m\n\u001b[1;32m     61\u001b[0m         \u001b[0;32mif\u001b[0m \u001b[0;32mnot\u001b[0m \u001b[0mis_unitary_matrix\u001b[0m\u001b[0;34m(\u001b[0m\u001b[0mdata\u001b[0m\u001b[0;34m)\u001b[0m\u001b[0;34m:\u001b[0m\u001b[0;34m\u001b[0m\u001b[0;34m\u001b[0m\u001b[0m\n\u001b[0;32m---> 62\u001b[0;31m             \u001b[0;32mraise\u001b[0m \u001b[0mExtensionError\u001b[0m\u001b[0;34m(\u001b[0m\u001b[0;34m\"Input matrix is not unitary.\"\u001b[0m\u001b[0;34m)\u001b[0m\u001b[0;34m\u001b[0m\u001b[0;34m\u001b[0m\u001b[0m\n\u001b[0m\u001b[1;32m     63\u001b[0m         \u001b[0;31m# Check input is N-qubit matrix\u001b[0m\u001b[0;34m\u001b[0m\u001b[0;34m\u001b[0m\u001b[0;34m\u001b[0m\u001b[0m\n\u001b[1;32m     64\u001b[0m         \u001b[0minput_dim\u001b[0m\u001b[0;34m,\u001b[0m \u001b[0moutput_dim\u001b[0m \u001b[0;34m=\u001b[0m \u001b[0mdata\u001b[0m\u001b[0;34m.\u001b[0m\u001b[0mshape\u001b[0m\u001b[0;34m\u001b[0m\u001b[0;34m\u001b[0m\u001b[0m\n",
      "\u001b[0;31mExtensionError\u001b[0m: 'Input matrix is not unitary.'"
     ]
    }
   ],
   "source": [
    "# pseudo compres\n",
    "qr=QuantumRegister(2,'qr_2')\n",
    "c=ClassicalRegister(2,'c_2')\n",
    "qc_2=QuantumCircuit(qr,c)\n",
    "\n",
    "\n",
    "#new initial state\n",
    "qc_2.y(qr[1])\n",
    "#new gate\n",
    "qc_2.unitary(4*r.mat,qr)\n",
    "\n",
    "qc_2.draw('mpl')"
   ]
  },
  {
   "cell_type": "code",
   "execution_count": null,
   "metadata": {},
   "outputs": [],
   "source": [
    "statevector_bg=Aer.get_backend('statevector_simulator')"
   ]
  },
  {
   "cell_type": "code",
   "execution_count": null,
   "metadata": {},
   "outputs": [],
   "source": [
    "exp=execute(qc_2,backend=statevector_bg)\n",
    "result=exp.result()\n",
    "statevector=result.get_statevector(qc_2,decimals=1)\n",
    "print(statevector)"
   ]
  },
  {
   "cell_type": "code",
   "execution_count": null,
   "metadata": {},
   "outputs": [],
   "source": [
    "backend = Aer.get_backend('unitary_simulator')\n",
    "job = execute(qc_2, backend)\n",
    "result = job.result()\n",
    "unitary=result.get_unitary(qc_2, decimals=1)\n",
    "\n",
    "for i in unitary:\n",
    "    print(i)"
   ]
  },
  {
   "cell_type": "code",
   "execution_count": null,
   "metadata": {},
   "outputs": [],
   "source": [
    "new\n",
    "print(new.trace())"
   ]
  },
  {
   "cell_type": "code",
   "execution_count": null,
   "metadata": {},
   "outputs": [],
   "source": [
    "qb=QuantumRegister(4,'qb')\n",
    "qc=QuantumCircuit(qb)\n",
    "#qc.unitary(new,qb)\n",
    "qc.initialize\n",
    "qc.draw('mpl')"
   ]
  },
  {
   "cell_type": "code",
   "execution_count": null,
   "metadata": {},
   "outputs": [],
   "source": [
    "#Real deal"
   ]
  },
  {
   "cell_type": "code",
   "execution_count": null,
   "metadata": {},
   "outputs": [],
   "source": [
    "basis='sto3g'\n",
    "inter_dist=1.4\n",
    "# Molecule\n",
    "atoms = 'Li .0 .0 .0; H .0 .0 '+str(inter_dist)\n",
    "driver = PySCFDriver(atoms, unit=UnitsType.ANGSTROM, charge=0, spin=0, basis=basis,max_memory=None)\n",
    "\n",
    "#integral h_{lm} , h_{lmpq}\n",
    "molecule = driver.run()\n",
    "h1 = molecule.one_body_integrals\n",
    "h2 = molecule.two_body_integrals\n",
    "nuclear_repulsion_energy = molecule.nuclear_repulsion_energy\n",
    "\n",
    "num_particles = molecule.num_alpha + molecule.num_beta\n",
    "num_spin_orbitals = molecule.num_orbitals * 2\n",
    "\n",
    "#freez some\n",
    "freeze_list = [0]\n",
    "remove_list = [-3, -2]\n",
    "\n",
    "remove_list = [x % molecule.num_orbitals for x in remove_list]\n",
    "freeze_list = [x % molecule.num_orbitals for x in freeze_list]\n",
    "remove_list = [x - len(freeze_list) for x in remove_list]\n",
    "remove_list += [x + molecule.num_orbitals - len(freeze_list)  for x in remove_list]\n",
    "freeze_list += [x + molecule.num_orbitals for x in freeze_list]\n",
    "    \n",
    "\n",
    "\n",
    "print(\"HF energy: {}\".format(molecule.hf_energy - molecule.nuclear_repulsion_energy))\n",
    "print(\"# nr. of electrons: {}\".format(num_particles))\n",
    "print(\"# nr. of spin orbitals: {}\".format(num_spin_orbitals))\n",
    "\n",
    "ferOp = FermionicOperator(h1=h1, h2=h2)\n",
    "\n",
    "ferOp, energy_shift = ferOp.fermion_mode_freezing(freeze_list)\n",
    "num_spin_orbitals -= len(freeze_list)\n",
    "num_particles -= len(freeze_list)\n",
    "\n",
    "ferOp = ferOp.fermion_mode_elimination(remove_list)\n",
    "num_spin_orbitals -= len(remove_list)\n",
    "\n",
    "qubitOp = ferOp.mapping(map_type='jordan_wigner')\n",
    "\n",
    "print(\"!! After freezing and remouve:\")\n",
    "print(\"HF energy: {}\".format(molecule.hf_energy - molecule.nuclear_repulsion_energy))\n",
    "print('Freez energy shift: {}'.format(energy_shift))\n",
    "print(\"# nr. of electrons: {}\".format(num_particles))\n",
    "print(\"# nr. of spin orbitals: {}\".format(num_spin_orbitals))        "
   ]
  },
  {
   "cell_type": "code",
   "execution_count": null,
   "metadata": {},
   "outputs": [],
   "source": [
    "weight=[]\n",
    "pauli=[]\n",
    "for w,i in qubitOp._paulis:\n",
    "    weight.append(w)\n",
    "    pauli.append(i.to_label())\n",
    "    \n",
    "for i in range(len(weight)):\n",
    "    print(\"{}-{}\".format(pauli[i],weight[i]))"
   ]
  },
  {
   "cell_type": "code",
   "execution_count": null,
   "metadata": {},
   "outputs": [],
   "source": [
    "#initial circuit :\n",
    "nr_o=num_spin_orbitals\n",
    "nr_e=num_particles\n",
    "nr_par=(nr_o-nr_e)*nr_e\n",
    "theta=np.zeros(nr_par)\n",
    "qo=QuantumRegister(nr_o,'qo')\n",
    "ansatz = QuantumCircuit(qo)\n",
    "ansatz_cell(ansatz,qo,nr_o, nr_e,theta)\n",
    "ansatz.draw('mpl')\n",
    "circ=var_circ(nr_o,nr_e,theta)\n",
    "print('theta =',theta)\n",
    "print(value(weight,pauli,circ,backend))\n",
    "circ.draw('mpl')"
   ]
  },
  {
   "cell_type": "code",
   "execution_count": null,
   "metadata": {},
   "outputs": [],
   "source": [
    "#comprssion\n",
    "# inital state : r=1\\(2n)[I+iC(r_{in})]\n",
    "# C=</psi_{in}|ic_jc_k|/psi_{in}>\n",
    "\n",
    "I_2n=np.identity(2*nr_o)\n",
    "C=np.zeros((2*nr_o,2*nr_o))\n",
    "print('C:')\n",
    "for i in C:\n",
    "    print(i)\n",
    "    "
   ]
  },
  {
   "cell_type": "code",
   "execution_count": null,
   "metadata": {},
   "outputs": [],
   "source": [
    "for i in I_2n:\n",
    "    print(i)"
   ]
  },
  {
   "cell_type": "code",
   "execution_count": null,
   "metadata": {},
   "outputs": [],
   "source": []
  }
 ],
 "metadata": {
  "kernelspec": {
   "display_name": "Python 3",
   "language": "python",
   "name": "python3"
  },
  "language_info": {
   "codemirror_mode": {
    "name": "ipython",
    "version": 3
   },
   "file_extension": ".py",
   "mimetype": "text/x-python",
   "name": "python",
   "nbconvert_exporter": "python",
   "pygments_lexer": "ipython3",
   "version": "3.8.5"
  }
 },
 "nbformat": 4,
 "nbformat_minor": 4
}
