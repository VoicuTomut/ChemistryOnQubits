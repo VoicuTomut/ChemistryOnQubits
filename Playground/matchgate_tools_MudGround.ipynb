{
 "cells": [
  {
   "cell_type": "code",
   "execution_count": 2,
   "metadata": {},
   "outputs": [],
   "source": [
    "import  numpy as np \n",
    "\n",
    "from qiskit import QuantumCircuit, ClassicalRegister, QuantumRegister \n",
    "from qiskit import Aer, execute\n",
    "from qiskit.quantum_info.operators import Operator\n",
    "from qiskit.visualization import plot_bloch_multivector, plot_histogram\n"
   ]
  },
  {
   "cell_type": "markdown",
   "metadata": {},
   "source": [
    "Here I will try to familiarize with matchgates and copmression. For theory please check the resources or Notability notes."
   ]
  },
  {
   "cell_type": "markdown",
   "metadata": {},
   "source": [
    "## Create  some matchgates"
   ]
  },
  {
   "cell_type": "markdown",
   "metadata": {},
   "source": [
    "General form  of a matchgate:\n",
    "$$ G(A,B)=\\begin{pmatrix} p& 0&0&q\\\\ 0&w&x&0\\\\0&y&z&0\\\\r&0&0&s\\\\\\end{pmatrix} $$"
   ]
  },
  {
   "cell_type": "markdown",
   "metadata": {},
   "source": [
    "$$ A=\\begin{pmatrix}p&q\\\\r&s\\\\\\end{pmatrix} ; B=\\begin{pmatrix}w&x\\\\y&z\\\\\\end{pmatrix};  det(A)=det(B) . $$"
   ]
  },
  {
   "cell_type": "code",
   "execution_count": 3,
   "metadata": {
    "tags": []
   },
   "outputs": [
    {
     "name": "stdout",
     "output_type": "stream",
     "text": [
      "matrice is a Matchgate matrix : 1\n",
      "CZSwap is a Matchgate matrix: 1\n"
     ]
    }
   ],
   "source": [
    "# for beginning let's just  create a random matchgate.(not really random)\n",
    "\n",
    "# We use these funcion to test if our 4x4 matrix are matchgate matrix.\n",
    "def Match_gate_test(matrice):\n",
    "    \n",
    "    if matrice[0][1]!=0 or matrice[0][2]!=0 or matrice[1][0]!=0 or matrice[1][3]!=0 or matrice[2][0]!=0 or matrice[2][3]!=0 or matrice[3][1]!=0 or matrice[3][2]!=0 :\n",
    "        print(\"Zero\")\n",
    "        return 0;\n",
    "    else:\n",
    "        if (matrice[1][1]*matrice[2][2]-matrice[1][2]*matrice[2][1])==(matrice[0][0]*matrice[3][3]-matrice[0][3]*matrice[3][0]):\n",
    "            return 1;\n",
    "        else:\n",
    "            print(\"det(A)!= det(B)\")\n",
    "            return 0;\n",
    "\n",
    "\n",
    "#Pauli matrix\n",
    "I=np.array([[1,0],[0,1]],dtype=np.complex128)\n",
    "X=np.array([[0,1],[1,0]],dtype=np.complex128)\n",
    "Y=np.array([[0,-1.0j],[1.0j,0]],dtype=np.complex128)\n",
    "Z=np.array([[1,0],[0,-1]],dtype=np.complex128)\n",
    "\n",
    "#Useful 2 qubits matrix gates\n",
    "CZ=np.array([[1,0,0,0],\n",
    "             [0,1,0,0],\n",
    "             [0,0,1,0],\n",
    "             [0,0,0,-1]])\n",
    "SWAP=np.array([[1,0,0,0],\n",
    "              [0,0,1,0],\n",
    "              [0,1,0,0],\n",
    "              [0,0,0,1]])\n",
    "\n",
    "CZSwap=np.matmul(CZ,SWAP) # see [1]\n",
    "\n",
    "\n",
    "def R_z(theta):\n",
    "    return np.array([[np.exp(-1j*theta/2), 0],\n",
    "                    [0, np.exp(1j*theta/2)]])\n",
    "def R_zI(theta):         \n",
    "    return np.kron(R_z(theta),I)\n",
    "\n",
    "def IR_z(theta):         \n",
    "    return np.kron(I,R_z(theta))\n",
    "\n",
    "\n",
    "print(\"matrice is a Matchgate matrix :\",Match_gate_test(IR_z(np.pi/3)))\n",
    "print(\"CZSwap is a Matchgate matrix:\",Match_gate_test(CZSwap))\n"
   ]
  },
  {
   "cell_type": "code",
   "execution_count": 4,
   "metadata": {},
   "outputs": [
    {
     "name": "stdout",
     "output_type": "stream",
     "text": [
      "[[ 1  0  0  0]\n",
      " [ 0  0  1  0]\n",
      " [ 0  1  0  0]\n",
      " [ 0  0  0 -1]]\n"
     ]
    }
   ],
   "source": [
    "print(CZSwap)"
   ]
  },
  {
   "cell_type": "code",
   "execution_count": 3,
   "metadata": {},
   "outputs": [],
   "source": [
    "def U_IRz(theta,qc,q1,q2,size):\n",
    "    qc.unitary(IR_z(theta),[q1,q2],label='IRz_()')\n",
    "    h=np.zeros((2*size,2*size))\n",
    "    h[2*q1][2*q1+1]=theta/2\n",
    "    return h\n",
    "def U_RzI(theta,qc,q1,q2,size):\n",
    "    qc.unitary(R_zI(theta),[q1,q2],label='Rz_()I')\n",
    "    h=np.zeros((2*size,2*size))\n",
    "    h[2*q2][2*q2+1]=theta/2\n",
    "    return h\n",
    "def U_CZSwap(qc,q1,q2,size):\n",
    "    qc.unitary(CZSwap,[q1,q2],label='CZSwap')\n",
    "    h=np.zeros((2*size,2*size))\n",
    "    h[2*q1][2*q2+1]=-1*np.pi/4\n",
    "    h[2*q1+1][2*q2]=np.pi/4\n",
    "    h[2*q1][2*q1+1]=np.pi/4\n",
    "    h[2*q2][2*q2+1]=np.pi/4\n",
    "    return h"
   ]
  },
  {
   "cell_type": "code",
   "execution_count": 4,
   "metadata": {},
   "outputs": [],
   "source": [
    "# anzatz block\n",
    "def TH(theta,qc,q1,q2,size):\n",
    "    h_l=[]\n",
    "    h_l.append(U_CZSwap(qc,q1,q2,size))\n",
    "    h_l.append(U_IRz(-1*theta,qc,q1,q2,size))\n",
    "    h_l.append(U_RzI(theta+np.pi,qc,q1,q2,size))\n",
    "    h_l.append(U_CZSwap(qc,q1,q2,size))\n",
    "    return h_l"
   ]
  },
  {
   "cell_type": "code",
   "execution_count": 5,
   "metadata": {
    "tags": []
   },
   "outputs": [
    {
     "data": {
      "text/html": [
       "<pre style=\"word-wrap: normal;white-space: pre;background: #fff0;line-height: 1.1;font-family: &quot;Courier New&quot;,Courier,monospace\">     ┌─────────┐┌─────────┐┌─────────┐┌─────────┐                      »\n",
       "q_0: ┤0        ├┤0        ├┤0        ├┤0        ├──────────────────────»\n",
       "     │  CZSwap ││  IRz_() ││  Rz_()I ││  CZSwap │┌─────────┐┌─────────┐»\n",
       "q_1: ┤1        ├┤1        ├┤1        ├┤1        ├┤0        ├┤0        ├»\n",
       "     └─────────┘└─────────┘└─────────┘└─────────┘│  CZSwap ││  IRz_() │»\n",
       "q_2: ────────────────────────────────────────────┤1        ├┤1        ├»\n",
       "                                                 └─────────┘└─────────┘»\n",
       "q_3: ──────────────────────────────────────────────────────────────────»\n",
       "     ┌─────────┐┌─────────┐┌─────────┐┌─────────┐                      »\n",
       "q_4: ┤0        ├┤0        ├┤0        ├┤0        ├──────────────────────»\n",
       "     │  CZSwap ││  IRz_() ││  Rz_()I ││  CZSwap │                      »\n",
       "q_5: ┤1        ├┤1        ├┤1        ├┤1        ├──────────────────────»\n",
       "     └─────────┘└─────────┘└─────────┘└─────────┘                      »\n",
       "«                                                                       \n",
       "«q_0: ──────────────────────────────────────────────────────────────────\n",
       "«     ┌─────────┐┌─────────┐                                            \n",
       "«q_1: ┤0        ├┤0        ├────────────────────────────────────────────\n",
       "«     │  Rz_()I ││  CZSwap │┌─────────┐┌─────────┐┌─────────┐┌─────────┐\n",
       "«q_2: ┤1        ├┤1        ├┤0        ├┤0        ├┤0        ├┤0        ├\n",
       "«     └─────────┘└─────────┘│  CZSwap ││  IRz_() ││  Rz_()I ││  CZSwap │\n",
       "«q_3: ──────────────────────┤1        ├┤1        ├┤1        ├┤1        ├\n",
       "«                           └─────────┘└─────────┘└─────────┘└─────────┘\n",
       "«q_4: ──────────────────────────────────────────────────────────────────\n",
       "«                                                                       \n",
       "«q_5: ──────────────────────────────────────────────────────────────────\n",
       "«                                                                       </pre>"
      ],
      "text/plain": [
       "     ┌─────────┐┌─────────┐┌─────────┐┌─────────┐                      »\n",
       "q_0: ┤0        ├┤0        ├┤0        ├┤0        ├──────────────────────»\n",
       "     │  CZSwap ││  IRz_() ││  Rz_()I ││  CZSwap │┌─────────┐┌─────────┐»\n",
       "q_1: ┤1        ├┤1        ├┤1        ├┤1        ├┤0        ├┤0        ├»\n",
       "     └─────────┘└─────────┘└─────────┘└─────────┘│  CZSwap ││  IRz_() │»\n",
       "q_2: ────────────────────────────────────────────┤1        ├┤1        ├»\n",
       "                                                 └─────────┘└─────────┘»\n",
       "q_3: ──────────────────────────────────────────────────────────────────»\n",
       "     ┌─────────┐┌─────────┐┌─────────┐┌─────────┐                      »\n",
       "q_4: ┤0        ├┤0        ├┤0        ├┤0        ├──────────────────────»\n",
       "     │  CZSwap ││  IRz_() ││  Rz_()I ││  CZSwap │                      »\n",
       "q_5: ┤1        ├┤1        ├┤1        ├┤1        ├──────────────────────»\n",
       "     └─────────┘└─────────┘└─────────┘└─────────┘                      »\n",
       "«                                                                       \n",
       "«q_0: ──────────────────────────────────────────────────────────────────\n",
       "«     ┌─────────┐┌─────────┐                                            \n",
       "«q_1: ┤0        ├┤0        ├────────────────────────────────────────────\n",
       "«     │  Rz_()I ││  CZSwap │┌─────────┐┌─────────┐┌─────────┐┌─────────┐\n",
       "«q_2: ┤1        ├┤1        ├┤0        ├┤0        ├┤0        ├┤0        ├\n",
       "«     └─────────┘└─────────┘│  CZSwap ││  IRz_() ││  Rz_()I ││  CZSwap │\n",
       "«q_3: ──────────────────────┤1        ├┤1        ├┤1        ├┤1        ├\n",
       "«                           └─────────┘└─────────┘└─────────┘└─────────┘\n",
       "«q_4: ──────────────────────────────────────────────────────────────────\n",
       "«                                                                       \n",
       "«q_5: ──────────────────────────────────────────────────────────────────\n",
       "«                                                                       "
      ]
     },
     "execution_count": 5,
     "metadata": {},
     "output_type": "execute_result"
    }
   ],
   "source": [
    "size=6\n",
    "theta=np.pi\n",
    "h_list=[]\n",
    "q12=QuantumCircuit(size)\n",
    "h_list.append(TH(theta,q12,0,1,size))\n",
    "h_list.append(TH(theta,q12,1,2,size))\n",
    "h_list.append(TH(theta,q12,2,3,size))\n",
    "h_list.append(TH(theta,q12,4,5,size))\n",
    "q12.draw()"
   ]
  },
  {
   "cell_type": "code",
   "execution_count": 6,
   "metadata": {},
   "outputs": [],
   "source": [
    "def U_Rz_Rz(theta,qc,q1,q2,size):\n",
    "    qc.unitary(np.matmul(R_zI(-1*theta),IR_z(theta-np.pi)),[q1,q2],label='Rz(-t)Rz(t-pi)')\n",
    "    h=np.zeros((2*size,2*size))\n",
    "    h[2*q2][2*q2+1]=theta/2\n",
    "    #qc.unitary(IR_z(theta-py),[q1,q2],label='IRz_()')\n",
    "    h=np.zeros((2*size,2*size))\n",
    "    h[2*q1][2*q1+1]=theta/2\n",
    "    return h\n",
    "def U_CZSwap(qc,q1,q2,size):\n",
    "    qc.unitary(CZSwap,[q1,q2],label='CZSwap')\n",
    "    h=np.zeros((2*size,2*size))\n",
    "    h[2*q1][2*q2+1]=-1*np.pi/4\n",
    "    h[2*q1+1][2*q2]=np.pi/4\n",
    "    h[2*q1][2*q1+1]=np.pi/4\n",
    "    h[2*q2][2*q2+1]=np.pi/4\n",
    "    return h"
   ]
  },
  {
   "cell_type": "code",
   "execution_count": 7,
   "metadata": {},
   "outputs": [],
   "source": [
    "# anzatz block\n",
    "def TH_20(theta,qc,q1,q2,size):\n",
    "    h_l=(U_CZSwap(qc,q1,q2,size))\n",
    "    g=U_Rz_Rz(theta,qc,q1,q2,size)\n",
    "    for i in range(len(h_l)):\n",
    "        for j in range(len(h_l)):\n",
    "            h_l[i][j]=h_l[i][j]+g[i][j]\n",
    "    g=U_CZSwap(qc,q1,q2,size)\n",
    "    for i in range(len(h_l)):\n",
    "        for j in range(len(h_l)):\n",
    "            h_l[i][j]=h_l[i][j]+g[i][j]\n",
    "    g=U_IRz(np.pi,qc,q1,q2,size)\n",
    "    for i in range(len(h_l)):\n",
    "        for j in range(len(h_l)):\n",
    "            h_l[i][j]=h_l[i][j]+g[i][j]\n",
    "    return h_l"
   ]
  },
  {
   "cell_type": "code",
   "execution_count": 8,
   "metadata": {},
   "outputs": [
    {
     "data": {
      "text/html": [
       "<pre style=\"word-wrap: normal;white-space: pre;background: #fff0;line-height: 1.1;font-family: &quot;Courier New&quot;,Courier,monospace\">     ┌─────────┐┌─────────────────┐┌─────────┐┌─────────┐           »\n",
       "q_0: ┤0        ├┤0                ├┤0        ├┤0        ├───────────»\n",
       "     │  CZSwap ││  Rz(-t)Rz(t-pi) ││  CZSwap ││  IRz_() │┌─────────┐»\n",
       "q_1: ┤1        ├┤1                ├┤1        ├┤1        ├┤0        ├»\n",
       "     └─────────┘└─────────────────┘└─────────┘└─────────┘│  CZSwap │»\n",
       "q_2: ────────────────────────────────────────────────────┤1        ├»\n",
       "                                                         └─────────┘»\n",
       "q_3: ───────────────────────────────────────────────────────────────»\n",
       "                                                                    »\n",
       "q_4: ───────────────────────────────────────────────────────────────»\n",
       "                                                                    »\n",
       "q_5: ───────────────────────────────────────────────────────────────»\n",
       "                                                                    »\n",
       "«                                                                            »\n",
       "«q_0: ───────────────────────────────────────────────────────────────────────»\n",
       "«     ┌─────────────────┐┌─────────┐┌─────────┐                              »\n",
       "«q_1: ┤0                ├┤0        ├┤0        ├──────────────────────────────»\n",
       "«     │  Rz(-t)Rz(t-pi) ││  CZSwap ││  IRz_() │┌─────────┐┌─────────────────┐»\n",
       "«q_2: ┤1                ├┤1        ├┤1        ├┤0        ├┤0                ├»\n",
       "«     └─────────────────┘└─────────┘└─────────┘│  CZSwap ││  Rz(-t)Rz(t-pi) │»\n",
       "«q_3: ─────────────────────────────────────────┤1        ├┤1                ├»\n",
       "«                                              └─────────┘└─────────────────┘»\n",
       "«q_4: ───────────────────────────────────────────────────────────────────────»\n",
       "«                                                                            »\n",
       "«q_5: ───────────────────────────────────────────────────────────────────────»\n",
       "«                                                                            »\n",
       "«                                                                    »\n",
       "«q_0: ───────────────────────────────────────────────────────────────»\n",
       "«                                                                    »\n",
       "«q_1: ───────────────────────────────────────────────────────────────»\n",
       "«     ┌─────────┐┌─────────┐                                         »\n",
       "«q_2: ┤0        ├┤0        ├─────────────────────────────────────────»\n",
       "«     │  CZSwap ││  IRz_() │┌─────────┐┌─────────────────┐┌─────────┐»\n",
       "«q_3: ┤1        ├┤1        ├┤0        ├┤0                ├┤0        ├»\n",
       "«     └─────────┘└─────────┘│         ││                 ││         │»\n",
       "«q_4: ──────────────────────┤  CZSwap ├┤  Rz(-t)Rz(t-pi) ├┤  CZSwap ├»\n",
       "«                           │         ││                 ││         │»\n",
       "«q_5: ──────────────────────┤1        ├┤1                ├┤1        ├»\n",
       "«                           └─────────┘└─────────────────┘└─────────┘»\n",
       "«                \n",
       "«q_0: ───────────\n",
       "«                \n",
       "«q_1: ───────────\n",
       "«                \n",
       "«q_2: ───────────\n",
       "«     ┌─────────┐\n",
       "«q_3: ┤0        ├\n",
       "«     │         │\n",
       "«q_4: ┤  IRz_() ├\n",
       "«     │         │\n",
       "«q_5: ┤1        ├\n",
       "«     └─────────┘</pre>"
      ],
      "text/plain": [
       "     ┌─────────┐┌─────────────────┐┌─────────┐┌─────────┐           »\n",
       "q_0: ┤0        ├┤0                ├┤0        ├┤0        ├───────────»\n",
       "     │  CZSwap ││  Rz(-t)Rz(t-pi) ││  CZSwap ││  IRz_() │┌─────────┐»\n",
       "q_1: ┤1        ├┤1                ├┤1        ├┤1        ├┤0        ├»\n",
       "     └─────────┘└─────────────────┘└─────────┘└─────────┘│  CZSwap │»\n",
       "q_2: ────────────────────────────────────────────────────┤1        ├»\n",
       "                                                         └─────────┘»\n",
       "q_3: ───────────────────────────────────────────────────────────────»\n",
       "                                                                    »\n",
       "q_4: ───────────────────────────────────────────────────────────────»\n",
       "                                                                    »\n",
       "q_5: ───────────────────────────────────────────────────────────────»\n",
       "                                                                    »\n",
       "«                                                                            »\n",
       "«q_0: ───────────────────────────────────────────────────────────────────────»\n",
       "«     ┌─────────────────┐┌─────────┐┌─────────┐                              »\n",
       "«q_1: ┤0                ├┤0        ├┤0        ├──────────────────────────────»\n",
       "«     │  Rz(-t)Rz(t-pi) ││  CZSwap ││  IRz_() │┌─────────┐┌─────────────────┐»\n",
       "«q_2: ┤1                ├┤1        ├┤1        ├┤0        ├┤0                ├»\n",
       "«     └─────────────────┘└─────────┘└─────────┘│  CZSwap ││  Rz(-t)Rz(t-pi) │»\n",
       "«q_3: ─────────────────────────────────────────┤1        ├┤1                ├»\n",
       "«                                              └─────────┘└─────────────────┘»\n",
       "«q_4: ───────────────────────────────────────────────────────────────────────»\n",
       "«                                                                            »\n",
       "«q_5: ───────────────────────────────────────────────────────────────────────»\n",
       "«                                                                            »\n",
       "«                                                                    »\n",
       "«q_0: ───────────────────────────────────────────────────────────────»\n",
       "«                                                                    »\n",
       "«q_1: ───────────────────────────────────────────────────────────────»\n",
       "«     ┌─────────┐┌─────────┐                                         »\n",
       "«q_2: ┤0        ├┤0        ├─────────────────────────────────────────»\n",
       "«     │  CZSwap ││  IRz_() │┌─────────┐┌─────────────────┐┌─────────┐»\n",
       "«q_3: ┤1        ├┤1        ├┤0        ├┤0                ├┤0        ├»\n",
       "«     └─────────┘└─────────┘│         ││                 ││         │»\n",
       "«q_4: ──────────────────────┤  CZSwap ├┤  Rz(-t)Rz(t-pi) ├┤  CZSwap ├»\n",
       "«                           │         ││                 ││         │»\n",
       "«q_5: ──────────────────────┤1        ├┤1                ├┤1        ├»\n",
       "«                           └─────────┘└─────────────────┘└─────────┘»\n",
       "«                \n",
       "«q_0: ───────────\n",
       "«                \n",
       "«q_1: ───────────\n",
       "«                \n",
       "«q_2: ───────────\n",
       "«     ┌─────────┐\n",
       "«q_3: ┤0        ├\n",
       "«     │         │\n",
       "«q_4: ┤  IRz_() ├\n",
       "«     │         │\n",
       "«q_5: ┤1        ├\n",
       "«     └─────────┘"
      ]
     },
     "execution_count": 8,
     "metadata": {},
     "output_type": "execute_result"
    }
   ],
   "source": [
    "size=6\n",
    "theta=np.pi/3\n",
    "h_list=[]\n",
    "q12=QuantumCircuit(size)\n",
    "h_list.append(TH_20(theta,q12,0,1,size))\n",
    "h_list.append(TH_20(theta,q12,1,2,size))\n",
    "h_list.append(TH_20(theta,q12,2,3,size))\n",
    "h_list.append(TH_20(theta,q12,3,5,size))\n",
    "q12.draw()"
   ]
  },
  {
   "cell_type": "markdown",
   "metadata": {},
   "source": [
    "## Expected value "
   ]
  },
  {
   "cell_type": "markdown",
   "metadata": {},
   "source": [
    "First we will play with  Z (ZZZ IIZII)  etc  observable because is easy to move on others."
   ]
  },
  {
   "cell_type": "code",
   "execution_count": 9,
   "metadata": {
    "tags": []
   },
   "outputs": [
    {
     "name": "stdout",
     "output_type": "stream",
     "text": [
      "{'011000': 38, '101010': 13, '111010': 23, '001000': 26}\n"
     ]
    }
   ],
   "source": [
    "demo=QuantumCircuit(6)\n",
    "demo.x(3)\n",
    "demo.h(4)\n",
    "demo.h(5)\n",
    "demo.cx(5,1)\n",
    "demo.measure_all()\n",
    "backend=Aer.get_backend('qasm_simulator')\n",
    "shots=100\n",
    "result = execute(demo, backend = backend, shots = shots).result()\n",
    "counts = result.get_counts(demo)\n",
    "print(counts)"
   ]
  },
  {
   "cell_type": "code",
   "execution_count": 10,
   "metadata": {
    "tags": []
   },
   "outputs": [
    {
     "name": "stdout",
     "output_type": "stream",
     "text": [
      "011000\n",
      "101010\n",
      "111010\n",
      "001000\n"
     ]
    }
   ],
   "source": [
    "for key in counts:\n",
    "    print(key)"
   ]
  },
  {
   "cell_type": "code",
   "execution_count": 11,
   "metadata": {
    "tags": []
   },
   "outputs": [
    {
     "name": "stdout",
     "output_type": "stream",
     "text": [
      "0\n"
     ]
    }
   ],
   "source": [
    "print(key[0])"
   ]
  },
  {
   "cell_type": "code",
   "execution_count": 12,
   "metadata": {},
   "outputs": [],
   "source": [
    "# Z=|0><0|-|1><1|; ZZ=|00><00|-|01><01|-|10><10|+|11><11|   ZI=|00><00|+|01><01|-|10><10|-|11><11| IZ=|00><00|-|01><01|+|10><10|-|11><11|\n",
    "# successful explanation in [4] and [5] and code is taken from [4]\n",
    "def proces_counts( counts,z_index):\n",
    "\n",
    "    z_index.sort(reverse=True) \n",
    "    new_counts = {}\n",
    "    for key in counts:\n",
    "        new_key = ''\n",
    "        for index in z_index:\n",
    "            new_key += key[-1 - index]\n",
    "        if new_key in new_counts:\n",
    "            new_counts[new_key] += counts[key]\n",
    "        else:\n",
    "            new_counts[new_key] = counts[key]\n",
    "\n",
    "    return new_counts\n",
    "\n",
    "\n",
    "def expect_z(counts,shots,z_index=[]):\n",
    "    \n",
    "    if len(z_index)==0:\n",
    "        return 1\n",
    "    else:\n",
    "        z_counts=proces_counts(counts,z_index)\n",
    "    print(z_counts)\n",
    "    expectation=0\n",
    "    for key in z_counts:\n",
    "        sign=-1\n",
    "        if key.count('1')%2==0:\n",
    "            sign=1\n",
    "        expectation= expectation+sign*z_counts[key]/shots\n",
    "    return expectation"
   ]
  },
  {
   "cell_type": "code",
   "execution_count": 13,
   "metadata": {
    "tags": []
   },
   "outputs": [],
   "source": [
    "def measure_qc(qc,Obs):\n",
    "    m_qc=qc.copy()\n",
    "    m_qc.barrier()\n",
    "    for i in range(len(Obs)):\n",
    "        if(Obs[i]=='Z')or(Obs[i]=='I'):\n",
    "            m_qc.measure(i,i)\n",
    "        if(Obs[i]=='X'):\n",
    "            m_qc.h(i)\n",
    "            m_qc.measure(i,i)\n",
    "        if(Obs[i]=='Y'):\n",
    "            m_qc.rx(np.pi/2,i)\n",
    "            m_qc.measure(i,i) \n",
    "    return m_qc"
   ]
  },
  {
   "cell_type": "code",
   "execution_count": 14,
   "metadata": {},
   "outputs": [],
   "source": [
    "def expected(qc,Obs,shots,backend=Aer.get_backend('qasm_simulator')):\n",
    "    mc=measure_qc(qc,Obs)\n",
    "    counts=execute(mc,backend=backend,shots=shots).result().get_counts(mc)\n",
    "    print(counts)\n",
    "    z_index=[]\n",
    "    for i in range (len(Obs)):\n",
    "        if(Obs[i]!='I'):\n",
    "            z_index.append(i)\n",
    "    return expect_z(counts,shots,z_index)"
   ]
  },
  {
   "cell_type": "code",
   "execution_count": 15,
   "metadata": {},
   "outputs": [],
   "source": [
    "\n",
    "demo=QuantumCircuit(2,2)\n",
    "demo.h(1)\n",
    "Oper='ZX'"
   ]
  },
  {
   "cell_type": "code",
   "execution_count": 16,
   "metadata": {
    "tags": []
   },
   "outputs": [
    {
     "name": "stdout",
     "output_type": "stream",
     "text": [
      "{'00': 100}\n",
      "{'00': 100}\n"
     ]
    },
    {
     "data": {
      "text/plain": [
       "1.0"
      ]
     },
     "execution_count": 16,
     "metadata": {},
     "output_type": "execute_result"
    }
   ],
   "source": [
    "expected(demo,Obs=Oper,shots=100) # if we do the calculus manualy we can verriffy "
   ]
  },
  {
   "cell_type": "code",
   "execution_count": 17,
   "metadata": {},
   "outputs": [
    {
     "data": {
      "text/html": [
       "<pre style=\"word-wrap: normal;white-space: pre;background: #fff0;line-height: 1.1;font-family: &quot;Courier New&quot;,Courier,monospace\">          \n",
       "q_0: ─────\n",
       "     ┌───┐\n",
       "q_1: ┤ H ├\n",
       "     └───┘\n",
       "c: 2/═════\n",
       "          </pre>"
      ],
      "text/plain": [
       "          \n",
       "q_0: ─────\n",
       "     ┌───┐\n",
       "q_1: ┤ H ├\n",
       "     └───┘\n",
       "c: 2/═════\n",
       "          "
      ]
     },
     "execution_count": 17,
     "metadata": {},
     "output_type": "execute_result"
    }
   ],
   "source": [
    "demo.draw()"
   ]
  },
  {
   "cell_type": "code",
   "execution_count": 18,
   "metadata": {
    "tags": []
   },
   "outputs": [
    {
     "data": {
      "text/html": [
       "<pre style=\"word-wrap: normal;white-space: pre;background: #fff0;line-height: 1.1;font-family: &quot;Courier New&quot;,Courier,monospace\">           ░ ┌─┐        \n",
       "q_0: ──────░─┤M├────────\n",
       "     ┌───┐ ░ └╥┘┌───┐┌─┐\n",
       "q_1: ┤ H ├─░──╫─┤ H ├┤M├\n",
       "     └───┘ ░  ║ └───┘└╥┘\n",
       "c: 2/═════════╩═══════╩═\n",
       "              0       1 </pre>"
      ],
      "text/plain": [
       "           ░ ┌─┐        \n",
       "q_0: ──────░─┤M├────────\n",
       "     ┌───┐ ░ └╥┘┌───┐┌─┐\n",
       "q_1: ┤ H ├─░──╫─┤ H ├┤M├\n",
       "     └───┘ ░  ║ └───┘└╥┘\n",
       "c: 2/═════════╩═══════╩═\n",
       "              0       1 "
      ]
     },
     "execution_count": 18,
     "metadata": {},
     "output_type": "execute_result"
    }
   ],
   "source": [
    "measure_qc(demo,Oper).draw()"
   ]
  },
  {
   "cell_type": "code",
   "execution_count": 19,
   "metadata": {},
   "outputs": [
    {
     "data": {
      "text/html": [
       "<pre style=\"word-wrap: normal;white-space: pre;background: #fff0;line-height: 1.1;font-family: &quot;Courier New&quot;,Courier,monospace\">          \n",
       "q_0: ─────\n",
       "     ┌───┐\n",
       "q_1: ┤ H ├\n",
       "     └───┘\n",
       "c: 2/═════\n",
       "          </pre>"
      ],
      "text/plain": [
       "          \n",
       "q_0: ─────\n",
       "     ┌───┐\n",
       "q_1: ┤ H ├\n",
       "     └───┘\n",
       "c: 2/═════\n",
       "          "
      ]
     },
     "execution_count": 19,
     "metadata": {},
     "output_type": "execute_result"
    }
   ],
   "source": [
    "demo.draw()"
   ]
  },
  {
   "cell_type": "code",
   "execution_count": 20,
   "metadata": {
    "tags": []
   },
   "outputs": [
    {
     "name": "stdout",
     "output_type": "stream",
     "text": [
      "{'001000 000000': 10, '001010 000000': 19, '011000 000000': 12, '011010 000000': 11, '101000 000000': 11, '101010 000000': 12, '111000 000000': 16, '111010 000000': 9}\n"
     ]
    }
   ],
   "source": [
    "demo=QuantumCircuit(6,6)\n",
    "demo.x(3)\n",
    "demo.h(4)\n",
    "demo.h(5)\n",
    "demo.cx(5,1)\n",
    "demo.h(1)\n",
    "demo.measure_all()\n",
    "print(execute(demo,backend=Aer.get_backend('qasm_simulator'),shots=100).result().get_counts(demo))"
   ]
  },
  {
   "cell_type": "code",
   "execution_count": 21,
   "metadata": {},
   "outputs": [
    {
     "data": {
      "text/html": [
       "<pre style=\"word-wrap: normal;white-space: pre;background: #fff0;line-height: 1.1;font-family: &quot;Courier New&quot;,Courier,monospace\">                        ░ ┌─┐               \n",
       "   q_0: ────────────────░─┤M├───────────────\n",
       "             ┌───┐┌───┐ ░ └╥┘┌─┐            \n",
       "   q_1: ─────┤ X ├┤ H ├─░──╫─┤M├────────────\n",
       "             └─┬─┘└───┘ ░  ║ └╥┘┌─┐         \n",
       "   q_2: ───────┼────────░──╫──╫─┤M├─────────\n",
       "        ┌───┐  │        ░  ║  ║ └╥┘┌─┐      \n",
       "   q_3: ┤ X ├──┼────────░──╫──╫──╫─┤M├──────\n",
       "        ├───┤  │        ░  ║  ║  ║ └╥┘┌─┐   \n",
       "   q_4: ┤ H ├──┼────────░──╫──╫──╫──╫─┤M├───\n",
       "        ├───┤  │        ░  ║  ║  ║  ║ └╥┘┌─┐\n",
       "   q_5: ┤ H ├──■────────░──╫──╫──╫──╫──╫─┤M├\n",
       "        └───┘           ░  ║  ║  ║  ║  ║ └╥┘\n",
       "   c: 6/═══════════════════╬══╬══╬══╬══╬══╬═\n",
       "                           ║  ║  ║  ║  ║  ║ \n",
       "meas: 6/═══════════════════╩══╩══╩══╩══╩══╩═\n",
       "                           0  1  2  3  4  5 </pre>"
      ],
      "text/plain": [
       "                        ░ ┌─┐               \n",
       "   q_0: ────────────────░─┤M├───────────────\n",
       "             ┌───┐┌───┐ ░ └╥┘┌─┐            \n",
       "   q_1: ─────┤ X ├┤ H ├─░──╫─┤M├────────────\n",
       "             └─┬─┘└───┘ ░  ║ └╥┘┌─┐         \n",
       "   q_2: ───────┼────────░──╫──╫─┤M├─────────\n",
       "        ┌───┐  │        ░  ║  ║ └╥┘┌─┐      \n",
       "   q_3: ┤ X ├──┼────────░──╫──╫──╫─┤M├──────\n",
       "        ├───┤  │        ░  ║  ║  ║ └╥┘┌─┐   \n",
       "   q_4: ┤ H ├──┼────────░──╫──╫──╫──╫─┤M├───\n",
       "        ├───┤  │        ░  ║  ║  ║  ║ └╥┘┌─┐\n",
       "   q_5: ┤ H ├──■────────░──╫──╫──╫──╫──╫─┤M├\n",
       "        └───┘           ░  ║  ║  ║  ║  ║ └╥┘\n",
       "   c: 6/═══════════════════╬══╬══╬══╬══╬══╬═\n",
       "                           ║  ║  ║  ║  ║  ║ \n",
       "meas: 6/═══════════════════╩══╩══╩══╩══╩══╩═\n",
       "                           0  1  2  3  4  5 "
      ]
     },
     "execution_count": 21,
     "metadata": {},
     "output_type": "execute_result"
    }
   ],
   "source": [
    "demo.draw()"
   ]
  },
  {
   "cell_type": "code",
   "execution_count": 22,
   "metadata": {},
   "outputs": [],
   "source": [
    "import itertools"
   ]
  },
  {
   "cell_type": "code",
   "execution_count": 23,
   "metadata": {
    "tags": []
   },
   "outputs": [],
   "source": [
    "#Pauli set:\n",
    "I=np.array([[1,0],[0,1]],dtype=np.complex128)\n",
    "X=np.array([[0,1],[1,0]],dtype=np.complex128)\n",
    "Y=np.array([[0,-1.0j],[1.0j,0]],dtype=np.complex128)\n",
    "Z=np.array([[1,0],[0,-1]],dtype=np.complex128)\n",
    "pauli=[I,X,Y,Z]\n",
    "labels=['I','X','Y','Z']\n",
    "indice=[0,1,2,3]\n",
    "#Hilbert-Schmidt product\n",
    "def HS(m1,m2):\n",
    "    #input matrices m1 and m2 and return hilbert schmid  \n",
    "    return(np.dot(m1.conjugate().transpose(), m2)).trace()\n",
    "def decompose(O):\n",
    "    size=len(O)\n",
    "    nr_pauli=np.log2(size)\n",
    "    norm_fact=1/(2**nr_pauli)\n",
    "\n",
    "    elements=itertools.product(indice,repeat=int(nr_pauli))\n",
    "    h_label=[]\n",
    "    h=[]\n",
    "    for i in elements:\n",
    "        label=''\n",
    "        matrice=pauli[i[0]]\n",
    "        for  j in i :\n",
    "            label=label+labels[indice[j]]\n",
    "        for j in range(int(nr_pauli)-1):\n",
    "            matrice=np.kron(matrice,pauli[i[j+1]])\n",
    "        #print(matrice)\n",
    "        h_label.append(label)\n",
    "        h.append(norm_fact*HS(matrice,O))\n",
    "\n",
    "    return h,h_label"
   ]
  },
  {
   "cell_type": "code",
   "execution_count": 24,
   "metadata": {
    "tags": []
   },
   "outputs": [
    {
     "name": "stdout",
     "output_type": "stream",
     "text": [
      "III\n",
      "0j\n",
      "IIX\n",
      "(1+0j)\n",
      "IIY\n",
      "(2+0j)\n",
      "IIZ\n",
      "0j\n",
      "IXI\n",
      "0j\n",
      "IXX\n",
      "0j\n",
      "IXY\n",
      "0j\n",
      "IXZ\n",
      "0j\n",
      "IYI\n",
      "0j\n",
      "IYX\n",
      "0j\n",
      "IYY\n",
      "0j\n",
      "IYZ\n",
      "0j\n",
      "IZI\n",
      "0j\n",
      "IZX\n",
      "0j\n",
      "IZY\n",
      "0j\n",
      "IZZ\n",
      "0j\n",
      "XII\n",
      "0j\n",
      "XIX\n",
      "0j\n",
      "XIY\n",
      "0j\n",
      "XIZ\n",
      "0j\n",
      "XXI\n",
      "0j\n",
      "XXX\n",
      "0j\n",
      "XXY\n",
      "0j\n",
      "XXZ\n",
      "0j\n",
      "XYI\n",
      "0j\n",
      "XYX\n",
      "0j\n",
      "XYY\n",
      "0j\n",
      "XYZ\n",
      "(7+0j)\n",
      "XZI\n",
      "0j\n",
      "XZX\n",
      "0j\n",
      "XZY\n",
      "0j\n",
      "XZZ\n",
      "0j\n",
      "YII\n",
      "0j\n",
      "YIX\n",
      "0j\n",
      "YIY\n",
      "0j\n",
      "YIZ\n",
      "0j\n",
      "YXI\n",
      "0j\n",
      "YXX\n",
      "0j\n",
      "YXY\n",
      "0j\n",
      "YXZ\n",
      "0j\n",
      "YYI\n",
      "0j\n",
      "YYX\n",
      "0j\n",
      "YYY\n",
      "0j\n",
      "YYZ\n",
      "0j\n",
      "YZI\n",
      "0j\n",
      "YZX\n",
      "0j\n",
      "YZY\n",
      "0j\n",
      "YZZ\n",
      "0j\n",
      "ZII\n",
      "0j\n",
      "ZIX\n",
      "0j\n",
      "ZIY\n",
      "0j\n",
      "ZIZ\n",
      "0j\n",
      "ZXI\n",
      "0j\n",
      "ZXX\n",
      "0j\n",
      "ZXY\n",
      "0j\n",
      "ZXZ\n",
      "0j\n",
      "ZYI\n",
      "0j\n",
      "ZYX\n",
      "0j\n",
      "ZYY\n",
      "0j\n",
      "ZYZ\n",
      "0j\n",
      "ZZI\n",
      "0j\n",
      "ZZX\n",
      "0j\n",
      "ZZY\n",
      "0j\n",
      "ZZZ\n",
      "0j\n"
     ]
    }
   ],
   "source": [
    "O=np.kron(2*np.kron(I,I),Y)+np.kron(np.kron(I,I),X)+7*np.kron(np.kron(X,Y),Z)\n",
    "h,h_label=decompose(O)\n",
    "for i in range(len(h_label)):\n",
    "    print(h_label[i])\n",
    "    print(h[i])"
   ]
  },
  {
   "cell_type": "code",
   "execution_count": null,
   "metadata": {},
   "outputs": [],
   "source": []
  },
  {
   "cell_type": "markdown",
   "metadata": {},
   "source": [
    "## Compress"
   ]
  },
  {
   "cell_type": "code",
   "execution_count": 25,
   "metadata": {
    "tags": []
   },
   "outputs": [],
   "source": [
    "#Pauli set:\n",
    "I=np.array([[1,0],[0,1]],dtype=np.complex128)\n",
    "X=np.array([[0,1],[1,0]],dtype=np.complex128)\n",
    "Y=np.array([[0,-1.0j],[1.0j,0]],dtype=np.complex128)\n",
    "Z=np.array([[1,0],[0,-1]],dtype=np.complex128)\n",
    "\n",
    "\n",
    "def get_x(nrq):\n",
    "    x=[]\n",
    "    for i in range (nrq):\n",
    "        x2=X\n",
    "        x21=Y\n",
    "        for k in range(i):\n",
    "            x2=np.kron(Z,x2)\n",
    "            x21=np.kron(Z,x21)\n",
    "        for k in range(i+1,nrq):\n",
    "            x2=np.kron(Z,x2)\n",
    "            x21=np.kron(Z,x21)\n",
    "        x.append(x2)\n",
    "        x.append(x21)\n",
    "    return x"
   ]
  },
  {
   "cell_type": "code",
   "execution_count": 26,
   "metadata": {},
   "outputs": [],
   "source": [
    "def comutation(mat1,mat2):\n",
    "    return np.matmul(mat1,mat2)-np.matmul(mat2,mat1)\n",
    "\n",
    "\n",
    "def corelation(dens):\n",
    "    nrq=int(np.log2(len(dens)))\n",
    "    x=get_x(nrq)\n",
    "    #print(x)\n",
    "    C=[]\n",
    "    for  i in range(2*nrq):\n",
    "        li=[]\n",
    "        for j in range(2*nrq):\n",
    "            li.append(np.matmul(comutation(x[i],x[j]),dens).trace())\n",
    "        C.append(li)\n",
    "    return C"
   ]
  },
  {
   "cell_type": "code",
   "execution_count": 27,
   "metadata": {},
   "outputs": [],
   "source": [
    "def new_state(dens):\n",
    "    nrq=int(np.log2(len(dens)))\n",
    "    ide=np.identity(2*nrq,dtype=np.complex128)\n",
    "    C=corelation(dens)\n",
    "    for i in range(len(C)):\n",
    "        for j in range(len(C)):\n",
    "            C[i][j]=1j*(C[i][j])\n",
    "    ns=(1/(2*nrq))*(ide-C)\n",
    "    return (1/(2*nrq))*(ide-C)"
   ]
  },
  {
   "cell_type": "code",
   "execution_count": 28,
   "metadata": {
    "tags": []
   },
   "outputs": [
    {
     "name": "stdout",
     "output_type": "stream",
     "text": [
      "len rho:  32\n",
      "len new:  10\n"
     ]
    },
    {
     "data": {
      "text/plain": [
       "'\\nprint(\"New\")\\nfor i in new:\\n    print(i)\\n'"
      ]
     },
     "execution_count": 28,
     "metadata": {},
     "output_type": "execute_result"
    }
   ],
   "source": [
    "rho=np.identity(2**5,dtype=np.complex128)*(1/(2**5))\n",
    "new=new_state(rho)\n",
    "'''\n",
    "print(\"Rho\")\n",
    "for i in rho:\n",
    "    print(i)\n",
    "'''\n",
    "print(\"len rho: \",len(rho))\n",
    "print(\"len new: \",len(new))\n",
    "\n",
    "'''\n",
    "print(\"New\")\n",
    "for i in new:\n",
    "    print(i)\n",
    "'''\n"
   ]
  },
  {
   "cell_type": "code",
   "execution_count": 142,
   "metadata": {},
   "outputs": [],
   "source": [
    "# Compres initial state "
   ]
  },
  {
   "cell_type": "markdown",
   "metadata": {},
   "source": [
    "## Resources "
   ]
  },
  {
   "cell_type": "markdown",
   "metadata": {},
   "source": [
    "<ol>\n",
    "<li>[Matchgates and classical simulation of\n",
    "quantum circuits]()</li>\n",
    "<li>[Matchgate and space-bounded quantum\n",
    "computations are equivalent](https://arxiv.org/abs/0908.1467). </li>\n",
    "<li></li>\n",
    "<li>https://quantumcomputing.stackexchange.com/questions/11408/qiskit-z-expectation-value-from-counts</li>\n",
    "<li>algorithm begginer</li>\n",
    "</ol>"
   ]
  }
 ],
 "metadata": {
  "kernelspec": {
   "display_name": "Python 3",
   "language": "python",
   "name": "python3"
  },
  "language_info": {
   "codemirror_mode": {
    "name": "ipython",
    "version": 3
   },
   "file_extension": ".py",
   "mimetype": "text/x-python",
   "name": "python",
   "nbconvert_exporter": "python",
   "pygments_lexer": "ipython3",
   "version": "3.8.5"
  }
 },
 "nbformat": 4,
 "nbformat_minor": 2
}
