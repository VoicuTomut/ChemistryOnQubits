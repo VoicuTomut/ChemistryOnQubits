{
 "cells": [
  {
   "cell_type": "code",
   "execution_count": 1,
   "metadata": {},
   "outputs": [],
   "source": [
    "import  numpy as np\n",
    "import matplotlib as plt"
   ]
  },
  {
   "cell_type": "code",
   "execution_count": 2,
   "metadata": {},
   "outputs": [],
   "source": [
    "from qiskit import BasicAer, Aer, IBMQ\n",
    "from qiskit import QuantumRegister ,ClassicalRegister,QuantumCircuit\n",
    "from qiskit.circuit import ParameterVector\n",
    "from qiskit.aqua.operators import I, X, Y, Z\n",
    "\n",
    "from qiskit.aqua.algorithms import VQE, NumPyEigensolver\n",
    "from qiskit.aqua.components.optimizers import COBYLA\n",
    "\n",
    "from qiskit.chemistry import FermionicOperator\n",
    "from qiskit.chemistry.drivers import PySCFDriver, UnitsType\n",
    "\n",
    "from qiskit.transpiler import PassManager\n",
    "from qiskit.transpiler.passes import Unroller\n",
    "\n",
    "from qiskit import IBMQ"
   ]
  },
  {
   "cell_type": "code",
   "execution_count": 3,
   "metadata": {},
   "outputs": [],
   "source": [
    "#jut a dirty trick\n",
    "from scipy.optimize import minimize\n",
    "from tools import decompose, expected\n",
    "from tools import ansatz_cell,var_circ\n",
    "from tools import value, cost, Exact_solver"
   ]
  },
  {
   "cell_type": "code",
   "execution_count": null,
   "metadata": {},
   "outputs": [],
   "source": [
    "IBMQ.save_account('bdfb136f41f48dcab8cfc1bad4d78a53ef82fc659bd63e6decfb01526e7897904f5726e4cb3014f34fbb40ab745b733b9fe6219a6d9c28a2ee45cf36da171abb')\n",
    "IBMQ.load_account() # Load account from disk\n",
    "IBMQ.providers()    # List all available providers"
   ]
  },
  {
   "cell_type": "code",
   "execution_count": null,
   "metadata": {},
   "outputs": [],
   "source": [
    "provider = IBMQ.get_provider(hub='ibm-q')\n",
    "provider.backends()"
   ]
  },
  {
   "cell_type": "code",
   "execution_count": 18,
   "metadata": {},
   "outputs": [],
   "source": [
    "#local simulator\n",
    "backend=Aer.get_backend('qasm_simulator')"
   ]
  },
  {
   "cell_type": "code",
   "execution_count": 13,
   "metadata": {},
   "outputs": [
    {
     "name": "stdout",
     "output_type": "stream",
     "text": [
      "HF energy: -8.994489827277834\n",
      "# nr. of electrons: 4\n",
      "# nr. of spin orbitals: 12\n"
     ]
    }
   ],
   "source": [
    "basis='sto3g'\n",
    "inter_dist=1.4\n",
    "# Molecule\n",
    "atoms = 'Li .0 .0 .0; H .0 .0 '+str(inter_dist)\n",
    "driver = PySCFDriver(atoms, unit=UnitsType.ANGSTROM, charge=0, spin=0, basis=basis,max_memory=None)\n",
    "\n",
    "#integral h_{lm} , h_{lmpq}\n",
    "molecule = driver.run()\n",
    "h1 = molecule.one_body_integrals\n",
    "h2 = molecule.two_body_integrals\n",
    "nuclear_repulsion_energy = molecule.nuclear_repulsion_energy\n",
    "\n",
    "num_particles = molecule.num_alpha + molecule.num_beta\n",
    "num_spin_orbitals = molecule.num_orbitals * 2\n",
    "\n",
    "#freez some\n",
    "freeze_list = [0]\n",
    "remove_list = [-3, -2]\n",
    "\n",
    "remove_list = [x % molecule.num_orbitals for x in remove_list]\n",
    "freeze_list = [x % molecule.num_orbitals for x in freeze_list]\n",
    "remove_list = [x - len(freeze_list) for x in remove_list]\n",
    "remove_list += [x + molecule.num_orbitals - len(freeze_list)  for x in remove_list]\n",
    "freeze_list += [x + molecule.num_orbitals for x in freeze_list]\n",
    "    \n",
    "\n",
    "\n",
    "print(\"HF energy: {}\".format(molecule.hf_energy - molecule.nuclear_repulsion_energy))\n",
    "print(\"# nr. of electrons: {}\".format(num_particles))\n",
    "print(\"# nr. of spin orbitals: {}\".format(num_spin_orbitals))\n",
    "#print('# one elctron integral:\\n',h1)\n",
    "#print('# two elctron integral:\\n',h2)"
   ]
  },
  {
   "cell_type": "code",
   "execution_count": 14,
   "metadata": {},
   "outputs": [
    {
     "name": "stdout",
     "output_type": "stream",
     "text": [
      "HF energy: -8.994489827277834\n",
      "Freez energy shift: -7.890791483133478\n",
      "# nr. of electrons: 2\n",
      "# nr. of spin orbitals: 6\n"
     ]
    }
   ],
   "source": [
    "ferOp = FermionicOperator(h1=h1, h2=h2)\n",
    "\n",
    "ferOp, energy_shift = ferOp.fermion_mode_freezing(freeze_list)\n",
    "num_spin_orbitals -= len(freeze_list)\n",
    "num_particles -= len(freeze_list)\n",
    "\n",
    "ferOp = ferOp.fermion_mode_elimination(remove_list)\n",
    "num_spin_orbitals -= len(remove_list)\n",
    "\n",
    "qubitOp = ferOp.mapping(map_type='jordan_wigner')\n",
    "\n",
    "print(\"HF energy: {}\".format(molecule.hf_energy - molecule.nuclear_repulsion_energy))\n",
    "print('Freez energy shift: {}'.format(energy_shift))\n",
    "print(\"# nr. of electrons: {}\".format(num_particles))\n",
    "print(\"# nr. of spin orbitals: {}\".format(num_spin_orbitals))"
   ]
  },
  {
   "cell_type": "code",
   "execution_count": 15,
   "metadata": {},
   "outputs": [
    {
     "name": "stdout",
     "output_type": "stream",
     "text": [
      "Representation: paulis, qubits: 6, size: 118\n",
      "IIIIII\t(-0.195376755616701+0j)\n",
      "IIIIIZ\t(-0.035588470492344565+0j)\n",
      "IIIIYY\t(-0.0003318754139285756+0j)\n",
      "IIIIXX\t(-0.0003318754139285756+0j)\n",
      "IIIYZY\t(-0.002855354011152835+0j)\n",
      "IIIXZX\t(-0.002855354011152835+0j)\n",
      "IIIIZI\t(-0.1271287364122908+0j)\n",
      "IIIYYI\t(0.015487042720236696+0j)\n",
      "IIIXXI\t(0.015487042720236696+0j)\n",
      "IIIZII\t(-0.32797339053955066+0j)\n",
      "IIZIII\t(-0.035588470492344614+0j)\n",
      "IYYIII\t(-0.000331875413928576+0j)\n",
      "IXXIII\t(-0.000331875413928576+0j)\n",
      "YZYIII\t(-0.0028553540111528396+0j)\n",
      "XZXIII\t(-0.0028553540111528396+0j)\n",
      "IZIIII\t(-0.12712873641229083+0j)\n",
      "YYIIII\t(0.015487042720236694+0j)\n",
      "XXIIII\t(0.015487042720236694+0j)\n",
      "ZIIIII\t(-0.3279733905395506+0j)\n",
      "IIIIZZ\t(0.05465159002074206+0j)\n",
      "IIIYYZ\t(0.004528580551868638+0j)\n",
      "IIIXXZ\t(0.004528580551868638+0j)\n",
      "IIIZIZ\t(0.08440311056673275+0j)\n",
      "IIIYIY\t(0.003360334818433897+0j)\n",
      "IIIXIX\t(0.003360334818433897+0j)\n",
      "IIIZYY\t(0.0026416812148497334+0j)\n",
      "IIIZXX\t(0.0026416812148497334+0j)\n",
      "IIZIIZ\t(0.12532519013543403+0j)\n",
      "IIZIYY\t(0.011343530738243493+0j)\n",
      "IIZIXX\t(0.011343530738243493+0j)\n",
      "IIZYZY\t(-0.0345503313555075+0j)\n",
      "IIZXZX\t(-0.0345503313555075+0j)\n",
      "IXXIIZ\t(0.011343530738243493+0j)\n",
      "IYYIIZ\t(0.011343530738243493+0j)\n",
      "IXXIYY\t(0.0028399740732705826+0j)\n",
      "IYYIYY\t(0.0028399740732705826+0j)\n",
      "IXXIXX\t(0.0028399740732705826+0j)\n",
      "IYYIXX\t(0.0028399740732705826+0j)\n",
      "IXXYZY\t(-0.008134093160678084+0j)\n",
      "IYYYZY\t(-0.008134093160678084+0j)\n",
      "IXXXZX\t(-0.008134093160678084+0j)\n",
      "IYYXZX\t(-0.008134093160678084+0j)\n",
      "XZXIIZ\t(-0.0345503313555075+0j)\n",
      "YZYIIZ\t(-0.0345503313555075+0j)\n",
      "XZXIYY\t(-0.008134093160678084+0j)\n",
      "YZYIYY\t(-0.008134093160678084+0j)\n",
      "XZXIXX\t(-0.008134093160678084+0j)\n",
      "YZYIXX\t(-0.008134093160678084+0j)\n",
      "XZXYZY\t(0.030563681280213202+0j)\n",
      "YZYYZY\t(0.030563681280213202+0j)\n",
      "XZXXZX\t(0.030563681280213202+0j)\n",
      "YZYXZX\t(0.030563681280213202+0j)\n",
      "IZIIIZ\t(0.05749156409401264+0j)\n",
      "IZIIYY\t(-0.0012064472922711962+0j)\n",
      "IZIIXX\t(-0.0012064472922711962+0j)\n",
      "IZIYZY\t(0.0014627232544359484+0j)\n",
      "IZIXZX\t(0.0014627232544359484+0j)\n",
      "XXIIIZ\t(0.012662673712546722+0j)\n",
      "YYIIIZ\t(0.012662673712546722+0j)\n",
      "XXIIYY\t(0.0018976115639979493+0j)\n",
      "YYIIYY\t(0.0018976115639979493+0j)\n",
      "XXIIXX\t(0.0018976115639979493+0j)\n",
      "YYIIXX\t(0.0018976115639979493+0j)\n",
      "XXIYZY\t(-0.007598387125314286+0j)\n",
      "YYIYZY\t(-0.007598387125314286+0j)\n",
      "XXIXZX\t(-0.007598387125314286+0j)\n",
      "YYIXZX\t(-0.007598387125314286+0j)\n",
      "ZIIIIZ\t(0.11496679184694596+0j)\n",
      "ZIIIYY\t(0.01024006834016402+0j)\n",
      "ZIIIXX\t(0.01024006834016402+0j)\n",
      "ZIIYZY\t(-0.03651805353811784+0j)\n",
      "ZIIXZX\t(-0.03651805353811784+0j)\n",
      "IIIZZI\t(0.054036803736003974+0j)\n",
      "IIZIZI\t(0.05749156409401264+0j)\n",
      "IIZYYI\t(0.012662673712546722+0j)\n",
      "IIZXXI\t(0.012662673712546722+0j)\n",
      "IXXIZI\t(-0.0012064472922711962+0j)\n",
      "IYYIZI\t(-0.0012064472922711962+0j)\n",
      "IXXYYI\t(0.0018976115639979495+0j)\n",
      "IYYYYI\t(0.0018976115639979495+0j)\n",
      "IXXXXI\t(0.0018976115639979495+0j)\n",
      "IYYXXI\t(0.0018976115639979495+0j)\n",
      "XZXIZI\t(0.0014627232544359484+0j)\n",
      "YZYIZI\t(0.0014627232544359484+0j)\n",
      "XZXYYI\t(-0.007598387125314285+0j)\n",
      "YZYYYI\t(-0.007598387125314285+0j)\n",
      "XZXXXI\t(-0.007598387125314285+0j)\n",
      "YZYXXI\t(-0.007598387125314285+0j)\n",
      "IZIIZI\t(0.08487127212567522+0j)\n",
      "IZIYYI\t(-0.009037292877626993+0j)\n",
      "IZIXXI\t(-0.009037292877626993+0j)\n",
      "XXIIZI\t(-0.009037292877626993+0j)\n",
      "YYIIZI\t(-0.009037292877626993+0j)\n",
      "XXIYYI\t(0.006577257474201705+0j)\n",
      "YYIYYI\t(0.006577257474201705+0j)\n",
      "XXIXXI\t(0.006577257474201705+0j)\n",
      "YYIXXI\t(0.006577257474201705+0j)\n",
      "ZIIIZI\t(0.06061406121020568+0j)\n",
      "ZIIYYI\t(0.010741523927133272+0j)\n",
      "ZIIXXI\t(0.010741523927133272+0j)\n",
      "IIZZII\t(0.11496679184694596+0j)\n",
      "IXXZII\t(0.01024006834016402+0j)\n",
      "IYYZII\t(0.01024006834016402+0j)\n",
      "XZXZII\t(-0.03651805353811784+0j)\n",
      "YZYZII\t(-0.03651805353811784+0j)\n",
      "IZIZII\t(0.06061406121020568+0j)\n",
      "XXIZII\t(0.01074152392713327+0j)\n",
      "YYIZII\t(0.01074152392713327+0j)\n",
      "ZIIZII\t(0.11423364529467778+0j)\n",
      "IZZIII\t(0.05465159002074206+0j)\n",
      "YYZIII\t(0.004528580551868638+0j)\n",
      "XXZIII\t(0.004528580551868638+0j)\n",
      "ZIZIII\t(0.08440311056673275+0j)\n",
      "YIYIII\t(0.003360334818433897+0j)\n",
      "XIXIII\t(0.003360334818433897+0j)\n",
      "ZYYIII\t(0.0026416812148497334+0j)\n",
      "ZXXIII\t(0.0026416812148497334+0j)\n",
      "ZZIIII\t(0.054036803736003974+0j)\n",
      "\n"
     ]
    }
   ],
   "source": [
    "print(qubitOp)\n",
    "print(qubitOp.print_details())\n",
    "\n",
    "weight=[]\n",
    "pauli=[]\n",
    "for w,i in qubitOp._paulis:\n",
    "    weight.append(w)\n",
    "    pauli.append(i.to_label())"
   ]
  },
  {
   "cell_type": "code",
   "execution_count": 16,
   "metadata": {},
   "outputs": [
    {
     "name": "stdout",
     "output_type": "stream",
     "text": [
      "[0. 0. 0. 0. 0. 0. 0. 0.]\n"
     ]
    },
    {
     "data": {
      "image/png": "[encoded data removed]",
      "text/plain": [
       "<Figure size 701.287x385.28 with 1 Axes>"
      ]
     },
     "execution_count": 16,
     "metadata": {},
     "output_type": "execute_result"
    }
   ],
   "source": [
    "nr_o=num_spin_orbitals\n",
    "nr_e=num_particles\n",
    "nr_par=(nr_o-nr_e)*nr_e\n",
    "theta=np.zeros(nr_par)\n",
    "print(theta)\n",
    "qo=QuantumRegister(nr_o,'qo')\n",
    "ansatz = QuantumCircuit(qo)\n",
    "ansatz_cell(ansatz,qo,nr_o, nr_e,theta)\n",
    "ansatz.draw('mpl')"
   ]
  },
  {
   "cell_type": "code",
   "execution_count": 19,
   "metadata": {},
   "outputs": [
    {
     "name": "stdout",
     "output_type": "stream",
     "text": [
      "(-0.9527116796347086+0j)\n"
     ]
    }
   ],
   "source": [
    "circ=var_circ(nr_o,nr_e,theta)\n",
    "print(value(weight,pauli,circ,backend))\n",
    "circ.draw('mpl')"
   ]
  },
  {
   "cell_type": "code",
   "execution_count": 20,
   "metadata": {},
   "outputs": [],
   "source": [
    "def VQE(weight,pauli,nr_o,nr_e,backend):\n",
    "    \n",
    "    theta=np.zeros(nr_par)\n",
    "    optim=minimize(cost, \n",
    "                   theta,args=(weight,pauli,nr_o,nr_e,backend),\n",
    "                   method='COBYLA', \n",
    "                   options={'rhobeg': 1.0, 'maxiter': 2000, 'disp': True, 'catol': 0.0002})\n",
    "    \n",
    "    circ=var_circ(nr_o,nr_e,optim.x)\n",
    "    eigval=value(weight,pauli,circ,backend)\n",
    "    \n",
    "    return eigval"
   ]
  },
  {
   "cell_type": "code",
   "execution_count": 21,
   "metadata": {},
   "outputs": [
    {
     "name": "stderr",
     "output_type": "stream",
     "text": [
      "/Users/voicutu/opt/anaconda3/envs/venvCQ/lib/python3.8/site-packages/scipy/optimize/cobyla.py:250: ComplexWarning: Casting complex values to real discards the imaginary part\n",
      "  xopt, info = _cobyla.minimize(calcfc, m=m, x=np.copy(x0), rhobeg=rhobeg,\n"
     ]
    }
   ],
   "source": [
    "VQEresult=np.real(VQE(weight,pauli,nr_o,nr_e,backend))"
   ]
  },
  {
   "cell_type": "code",
   "execution_count": 22,
   "metadata": {},
   "outputs": [
    {
     "name": "stdout",
     "output_type": "stream",
     "text": [
      "Result:  -1.0994776729572469\n"
     ]
    },
    {
     "ename": "NameError",
     "evalue": "name 'Exact_solver' is not defined",
     "output_type": "error",
     "traceback": [
      "\u001b[0;31m---------------------------------------------------------------------------\u001b[0m",
      "\u001b[0;31mNameError\u001b[0m                                 Traceback (most recent call last)",
      "\u001b[0;32m<ipython-input-22-380a0dd5c3fb>\u001b[0m in \u001b[0;36m<module>\u001b[0;34m\u001b[0m\n\u001b[1;32m      1\u001b[0m \u001b[0mprint\u001b[0m\u001b[0;34m(\u001b[0m\u001b[0;34m\"Result: \"\u001b[0m\u001b[0;34m,\u001b[0m\u001b[0mVQEresult\u001b[0m\u001b[0;34m)\u001b[0m\u001b[0;34m\u001b[0m\u001b[0;34m\u001b[0m\u001b[0m\n\u001b[0;32m----> 2\u001b[0;31m \u001b[0mprint\u001b[0m\u001b[0;34m(\u001b[0m\u001b[0;34m\"Reference:\"\u001b[0m\u001b[0;34m,\u001b[0m\u001b[0mExact_solver\u001b[0m\u001b[0;34m(\u001b[0m\u001b[0mqubitOp\u001b[0m\u001b[0;34m)\u001b[0m\u001b[0;34m)\u001b[0m\u001b[0;34m\u001b[0m\u001b[0;34m\u001b[0m\u001b[0m\n\u001b[0m",
      "\u001b[0;31mNameError\u001b[0m: name 'Exact_solver' is not defined"
     ]
    }
   ],
   "source": [
    "print(\"Result: \",VQEresult)\n",
    "print(\"Reference:\",Exact_solver(qubitOp))"
   ]
  },
  {
   "cell_type": "code",
   "execution_count": null,
   "metadata": {},
   "outputs": [],
   "source": []
  }
 ],
 "metadata": {
  "kernelspec": {
   "display_name": "Python 3",
   "language": "python",
   "name": "python3"
  },
  "language_info": {
   "codemirror_mode": {
    "name": "ipython",
    "version": 3
   },
   "file_extension": ".py",
   "mimetype": "text/x-python",
   "name": "python",
   "nbconvert_exporter": "python",
   "pygments_lexer": "ipython3",
   "version": "3.8.5"
  }
 },
 "nbformat": 4,
 "nbformat_minor": 4
}
