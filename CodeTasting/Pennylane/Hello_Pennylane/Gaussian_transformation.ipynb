{
 "cells": [
  {
   "cell_type": "code",
   "execution_count": 24,
   "metadata": {},
   "outputs": [],
   "source": [
    "# Code is taken from : https://pennylane.ai/qml/demos/tutorial_gaussian_transformation.html"
   ]
  },
  {
   "cell_type": "code",
   "execution_count": 1,
   "metadata": {},
   "outputs": [],
   "source": [
    "import pennylane as qml\n",
    "from pennylane import numpy as np"
   ]
  },
  {
   "cell_type": "code",
   "execution_count": 4,
   "metadata": {},
   "outputs": [],
   "source": [
    "dev=qml.device(\"default.gaussian\",wires=1)"
   ]
  },
  {
   "cell_type": "code",
   "execution_count": 16,
   "metadata": {},
   "outputs": [],
   "source": [
    "@qml.qnode(dev)\n",
    "def mean_photon_gaussian(mag_alpha, phase_alpha, phi): # polar representation of alpha \n",
    "    qml.Displacement(mag_alpha,phase_alpha,wires=0)\n",
    "    qml.Rotation(phi,wires=0)\n",
    "    return qml.expval(qml.NumberOperator(0))"
   ]
  },
  {
   "cell_type": "code",
   "execution_count": 17,
   "metadata": {},
   "outputs": [
    {
     "name": "stdout",
     "output_type": "stream",
     "text": [
      " 0: ──D(0.015, 0.02)──R(0.005)──┤ ⟨n⟩ \n",
      "\n"
     ]
    }
   ],
   "source": [
    "mean_photon_gaussian(0.015, 0.02, 0.005)\n",
    "print(mean_photon_gaussian.draw())"
   ]
  },
  {
   "cell_type": "code",
   "execution_count": 19,
   "metadata": {},
   "outputs": [
    {
     "name": "stdout",
     "output_type": "stream",
     "text": [
      "0.9995500506249999\n"
     ]
    }
   ],
   "source": [
    "def cost(params):\n",
    "    return (mean_photon_gaussian(params[0], params[1], params[2]) - 1.0) ** 2\n",
    "\n",
    "init_params = [0.015, 0.02, 0.005]\n",
    "print(cost(init_params))"
   ]
  },
  {
   "cell_type": "code",
   "execution_count": 23,
   "metadata": {},
   "outputs": [
    {
     "name": "stdout",
     "output_type": "stream",
     "text": [
      "Cost after step     1: 0.999118\n",
      "Cost after step     2: 0.998273\n",
      "Cost after step     3: 0.996618\n",
      "Cost after step     4: 0.993382\n",
      "Cost after step     5: 0.987074\n",
      "Cost after step     6: 0.974837\n",
      "Cost after step     7: 0.951332\n",
      "Cost after step     8: 0.907043\n",
      "Cost after step     9: 0.826649\n",
      "Cost after step    10: 0.690812\n",
      "Cost after step    11: 0.490303\n",
      "Cost after step    12: 0.258845\n",
      "Cost after step    13: 0.083224\n",
      "Cost after step    14: 0.013179\n",
      "Cost after step    15: 0.001001\n",
      "Cost after step    16: 0.000049\n",
      "Cost after step    17: 0.000002\n",
      "Cost after step    18: 0.000000\n",
      "Cost after step    19: 0.000000\n",
      "Cost after step    20: 0.000000\n",
      "Optimized mag_alpha:0.999994\n",
      "Optimized phase_alpha:0.020000\n",
      "Optimized phi:0.005000\n"
     ]
    }
   ],
   "source": [
    "opt=qml.GradientDescentOptimizer(stepsize=0.1)\n",
    "steps=20\n",
    "parms=[0.015, 0.02, 0.005]\n",
    "\n",
    "for i in range (steps):\n",
    "    parms=opt.step(cost,parms)\n",
    "    \n",
    "    print(\"Cost after step {:5d}: {:8f}\".format(i + 1, cost(parms)))\n",
    "    \n",
    "print(\"Optimized mag_alpha:{:8f}\".format(parms[0]))\n",
    "print(\"Optimized phase_alpha:{:8f}\".format(parms[1]))\n",
    "print(\"Optimized phi:{:8f}\".format(parms[2]))"
   ]
  },
  {
   "cell_type": "code",
   "execution_count": 25,
   "metadata": {},
   "outputs": [],
   "source": [
    "# Code is taken from : https://pennylane.ai/qml/demos/tutorial_gaussian_transformation.html"
   ]
  }
 ],
 "metadata": {
  "kernelspec": {
   "display_name": "Python 3",
   "language": "python",
   "name": "python3"
  },
  "language_info": {
   "codemirror_mode": {
    "name": "ipython",
    "version": 3
   },
   "file_extension": ".py",
   "mimetype": "text/x-python",
   "name": "python",
   "nbconvert_exporter": "python",
   "pygments_lexer": "ipython3",
   "version": "3.7.7"
  }
 },
 "nbformat": 4,
 "nbformat_minor": 4
}
