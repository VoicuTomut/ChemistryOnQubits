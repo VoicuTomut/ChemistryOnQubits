{
 "cells": [
  {
   "cell_type": "code",
   "execution_count": 37,
   "metadata": {},
   "outputs": [],
   "source": [
    "#\"Original code:https://pennylane.ai/qml/demos/tutorial_qubit_rotation.html\""
   ]
  },
  {
   "cell_type": "code",
   "execution_count": 26,
   "metadata": {},
   "outputs": [],
   "source": [
    "import pennylane as qml\n",
    "from pennylane import numpy as np # Is important to import numpy from pennylane "
   ]
  },
  {
   "cell_type": "code",
   "execution_count": 4,
   "metadata": {},
   "outputs": [],
   "source": [
    "# Add a device\n",
    "# device ->  object that can apply quantum operations and return an measurement (hardwere or softwere simulator) (suport qubit and CV models)\n",
    "dev1= qml.device(\"default.qubit\",wires=1) #qml.device(name,nr of subsistems 1=1 qubit)"
   ]
  },
  {
   "cell_type": "code",
   "execution_count": 21,
   "metadata": {},
   "outputs": [],
   "source": [
    "# Quantum node (QNode)\n",
    "# -> kind  of quantum function described by  circuit \n",
    "\n",
    "@qml.qnode(dev1) # convert function to a QNode.\n",
    "# Define quantum function:\n",
    "def circuit(params):\n",
    "    qml.RX(params[0],wires=0)\n",
    "    qml.RY(params[1],wires=0)\n",
    "    return qml.expval(qml.PauliZ(0)) # measurement "
   ]
  },
  {
   "cell_type": "code",
   "execution_count": 22,
   "metadata": {},
   "outputs": [
    {
     "name": "stdout",
     "output_type": "stream",
     "text": [
      "1.0\n"
     ]
    }
   ],
   "source": [
    "#Runn node\n",
    "print(circuit([0.0, 0.0]))"
   ]
  },
  {
   "cell_type": "code",
   "execution_count": 23,
   "metadata": {},
   "outputs": [
    {
     "name": "stdout",
     "output_type": "stream",
     "text": [
      "Operations\n",
      "==========\n",
      "RX(0.0, wires=[0])\n",
      "RY(0.0, wires=[0])\n",
      "\n",
      "Observables\n",
      "===========\n",
      "expval(PauliZ(wires=[0]))\n",
      " 0: ──RX(0.0)──RY(0.0)──┤ ⟨Z⟩ \n",
      "\n"
     ]
    }
   ],
   "source": [
    "# draw circuit in pennylane\n",
    "circuit.print_applied()\n",
    "print(circuit.draw())"
   ]
  },
  {
   "cell_type": "code",
   "execution_count": 24,
   "metadata": {},
   "outputs": [
    {
     "name": "stdout",
     "output_type": "stream",
     "text": [
      "[-0.5104386525165021, -0.10267819945693213]\n"
     ]
    }
   ],
   "source": [
    "# Studty gradients \n",
    "dcircuit=qml.grad(circuit,argnum=0) # derivative of QNode  respected to argnum=0\n",
    "print(dcircuit([0.54,0.12]))"
   ]
  },
  {
   "cell_type": "code",
   "execution_count": 25,
   "metadata": {},
   "outputs": [
    {
     "name": "stdout",
     "output_type": "stream",
     "text": [
      "(array(-0.51043865), array(-0.1026782))\n"
     ]
    }
   ],
   "source": [
    "@qml.qnode(dev1)\n",
    "def circuit2(phi1, phi2):\n",
    "    qml.RX(phi1, wires=0)\n",
    "    qml.RY(phi2, wires=0)\n",
    "    return qml.expval(qml.PauliZ(0))\n",
    "dcircuit = qml.grad(circuit2, argnum=[0, 1])\n",
    "print(dcircuit(0.54, 0.12))"
   ]
  },
  {
   "cell_type": "code",
   "execution_count": 35,
   "metadata": {},
   "outputs": [
    {
     "name": "stdout",
     "output_type": "stream",
     "text": [
      "initial value 0.9998675058299389\n"
     ]
    }
   ],
   "source": [
    "# Optimization\n",
    "\n",
    "# Cost function\n",
    "def cost(x):\n",
    "    return circuit(x)\n",
    "\n",
    "# Initial state\n",
    "init_params=np.array([0.011,0.012])\n",
    "print(\"initial value\",cost(init_params))"
   ]
  },
  {
   "cell_type": "code",
   "execution_count": 36,
   "metadata": {},
   "outputs": [
    {
     "name": "stdout",
     "output_type": "stream",
     "text": [
      "Cost after step     5:  0.9961778\n",
      "Cost after step    10:  0.8974944\n",
      "Cost after step    15:  0.1440490\n",
      "Cost after step    20: -0.1536720\n",
      "Cost after step    25: -0.9152496\n",
      "Cost after step    30: -0.9994046\n",
      "Cost after step    35: -0.9999964\n",
      "Cost after step    40: -1.0000000\n",
      "Cost after step    45: -1.0000000\n",
      "Cost after step    50: -1.0000000\n",
      "Cost after step    55: -1.0000000\n",
      "Cost after step    60: -1.0000000\n",
      "Cost after step    65: -1.0000000\n",
      "Cost after step    70: -1.0000000\n",
      "Cost after step    75: -1.0000000\n",
      "Cost after step    80: -1.0000000\n",
      "Cost after step    85: -1.0000000\n",
      "Cost after step    90: -1.0000000\n",
      "Cost after step    95: -1.0000000\n",
      "Cost after step   100: -1.0000000\n",
      "Optimized rotation angles: [3.70073339e-17 3.14159265e+00]\n"
     ]
    }
   ],
   "source": [
    "# Initialise optimizer\n",
    "opt= qml.GradientDescentOptimizer(stepsize=0.4)\n",
    "\n",
    "# Set nr of steps:\n",
    "steps=100\n",
    "\n",
    "params=init_params\n",
    "for i in range(steps):\n",
    "    params=opt.step(cost,params)\n",
    "    \n",
    "    if (i + 1) % 5 == 0:\n",
    "        print(\"Cost after step {:5d}: {: .7f}\".format(i + 1, cost(params)))\n",
    "\n",
    "print(\"Optimized rotation angles: {}\".format(params))"
   ]
  },
  {
   "cell_type": "code",
   "execution_count": null,
   "metadata": {},
   "outputs": [],
   "source": [
    "#\"Original code:https://pennylane.ai/qml/demos/tutorial_qubit_rotation.html\""
   ]
  }
 ],
 "metadata": {
  "kernelspec": {
   "display_name": "Python 3",
   "language": "python",
   "name": "python3"
  },
  "language_info": {
   "codemirror_mode": {
    "name": "ipython",
    "version": 3
   },
   "file_extension": ".py",
   "mimetype": "text/x-python",
   "name": "python",
   "nbconvert_exporter": "python",
   "pygments_lexer": "ipython3",
   "version": "3.7.7"
  }
 },
 "nbformat": 4,
 "nbformat_minor": 4
}
