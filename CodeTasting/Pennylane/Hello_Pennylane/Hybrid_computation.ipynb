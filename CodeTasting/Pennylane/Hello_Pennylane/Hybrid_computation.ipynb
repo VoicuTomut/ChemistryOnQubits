{
 "cells": [
  {
   "cell_type": "code",
   "execution_count": 1,
   "metadata": {},
   "outputs": [],
   "source": [
    "#Cod is taken from: https://pennylane.ai/qml/demos/tutorial_plugins_hybrid.html"
   ]
  },
  {
   "cell_type": "code",
   "execution_count": 3,
   "metadata": {},
   "outputs": [],
   "source": [
    "import pennylane as qml\n",
    "from pennylane import numpy as np"
   ]
  },
  {
   "cell_type": "code",
   "execution_count": 4,
   "metadata": {},
   "outputs": [],
   "source": [
    "dev_fock = qml.device(\"strawberryfields.fock\", wires=2, cutoff_dim=2) #  cutoff_dim foock spacetruncation use to perform simulation\n",
    "\n",
    "@qml.qnode(dev_fock)\n",
    "def photon_redirection(params):\n",
    "    qml.FockState(1, wires=0)\n",
    "    qml.Beamsplitter(params[0], params[1], wires=[0, 1])\n",
    "    return qml.expval(qml.NumberOperator(1))\n"
   ]
  },
  {
   "cell_type": "code",
   "execution_count": 5,
   "metadata": {},
   "outputs": [
    {
     "name": "stdout",
     "output_type": "stream",
     "text": [
      "-9.999666671111081e-05\n"
     ]
    }
   ],
   "source": [
    "def cost(params):\n",
    "    return -photon_redirection(params)\n",
    "\n",
    "init_params = np.array([0.01, 0.01])\n",
    "print(cost(init_params))"
   ]
  },
  {
   "cell_type": "code",
   "execution_count": 6,
   "metadata": {},
   "outputs": [
    {
     "name": "stdout",
     "output_type": "stream",
     "text": [
      "[0.0, 0.0]\n"
     ]
    }
   ],
   "source": [
    "dphoton_redirection = qml.grad(photon_redirection, argnum=0)\n",
    "print(dphoton_redirection([0.0, 0.0]))"
   ]
  },
  {
   "cell_type": "code",
   "execution_count": 7,
   "metadata": {},
   "outputs": [
    {
     "name": "stdout",
     "output_type": "stream",
     "text": [
      "Cost after step     5: -0.0349558\n",
      "Cost after step    10: -0.9969017\n",
      "Cost after step    15: -1.0000000\n",
      "Cost after step    20: -1.0000000\n",
      "Cost after step    25: -1.0000000\n",
      "Cost after step    30: -1.0000000\n",
      "Cost after step    35: -1.0000000\n",
      "Cost after step    40: -1.0000000\n",
      "Cost after step    45: -1.0000000\n",
      "Cost after step    50: -1.0000000\n",
      "Cost after step    55: -1.0000000\n",
      "Cost after step    60: -1.0000000\n",
      "Cost after step    65: -1.0000000\n",
      "Cost after step    70: -1.0000000\n",
      "Cost after step    75: -1.0000000\n",
      "Cost after step    80: -1.0000000\n",
      "Cost after step    85: -1.0000000\n",
      "Cost after step    90: -1.0000000\n",
      "Cost after step    95: -1.0000000\n",
      "Cost after step   100: -1.0000000\n",
      "Optimized rotation angles: [1.57079633 0.01      ]\n"
     ]
    }
   ],
   "source": [
    "opt = qml.GradientDescentOptimizer(stepsize=0.4)\n",
    "\n",
    "# set the number of steps\n",
    "steps = 100\n",
    "# set the initial parameter values\n",
    "params = init_params\n",
    "\n",
    "for i in range(steps):\n",
    "    # update the circuit parameters\n",
    "    params = opt.step(cost, params)\n",
    "\n",
    "    if (i + 1) % 5 == 0:\n",
    "        print(\"Cost after step {:5d}: {: .7f}\".format(i + 1, cost(params)))\n",
    "\n",
    "print(\"Optimized rotation angles: {}\".format(params))"
   ]
  },
  {
   "cell_type": "code",
   "execution_count": 8,
   "metadata": {},
   "outputs": [],
   "source": [
    "#Hybrid computation \n",
    "\n",
    "dev_qubit = qml.device(\"default.qubit\", wires=1)\n",
    "dev_fock = qml.device(\"strawberryfields.fock\", wires=2, cutoff_dim=10)\n",
    "\n",
    "\n",
    "@qml.qnode(dev_qubit)\n",
    "def qubit_rotation(phi1, phi2):\n",
    "    \"\"\"Qubit rotation QNode\"\"\"\n",
    "    qml.RX(phi1, wires=0)\n",
    "    qml.RY(phi2, wires=0)\n",
    "    return qml.expval(qml.PauliZ(0))\n",
    "\n",
    "\n",
    "@qml.qnode(dev_fock)\n",
    "def photon_redirection(params):\n",
    "    \"\"\"The photon redirection QNode\"\"\"\n",
    "    qml.FockState(1, wires=0)\n",
    "    qml.Beamsplitter(params[0], params[1], wires=[0, 1])\n",
    "    return qml.expval(qml.NumberOperator(1))\n",
    "\n"
   ]
  },
  {
   "cell_type": "code",
   "execution_count": 9,
   "metadata": {},
   "outputs": [],
   "source": [
    "# We can create different tipes of cost functions with these two nodesinteract but now we have as cost the squere ddifference between the photon-redirection and qubit-rotation  \n",
    "def squared_difference(x, y):\n",
    "    \"\"\"Classical node to compute the squared\n",
    "    difference between two inputs\"\"\"\n",
    "    return np.abs(x - y) ** 2\n",
    "def cost(params, phi1=0.5, phi2=0.1):\n",
    "    qubit_result = qubit_rotation(phi1, phi2)\n",
    "    photon_result = photon_redirection(params)\n",
    "    return squared_difference(qubit_result, photon_result)"
   ]
  },
  {
   "cell_type": "code",
   "execution_count": 10,
   "metadata": {},
   "outputs": [
    {
     "name": "stdout",
     "output_type": "stream",
     "text": [
      "Cost after step     5:  0.2154539\n",
      "Cost after step    10:  0.0000982\n",
      "Cost after step    15:  0.0000011\n",
      "Cost after step    20:  0.0000000\n",
      "Cost after step    25:  0.0000000\n",
      "Cost after step    30:  0.0000000\n",
      "Cost after step    35:  0.0000000\n",
      "Cost after step    40:  0.0000000\n",
      "Cost after step    45:  0.0000000\n",
      "Cost after step    50:  0.0000000\n",
      "Cost after step    55:  0.0000000\n",
      "Cost after step    60:  0.0000000\n",
      "Cost after step    65:  0.0000000\n",
      "Cost after step    70:  0.0000000\n",
      "Cost after step    75:  0.0000000\n",
      "Cost after step    80:  0.0000000\n",
      "Cost after step    85:  0.0000000\n",
      "Cost after step    90:  0.0000000\n",
      "Cost after step    95:  0.0000000\n",
      "Cost after step   100:  0.0000000\n",
      "Optimized rotation angles: [1.20671364 0.01      ]\n"
     ]
    }
   ],
   "source": [
    "# initialise the optimizer\n",
    "opt = qml.GradientDescentOptimizer(stepsize=0.4)\n",
    "\n",
    "# set the number of steps\n",
    "steps = 100\n",
    "# set the initial parameter values\n",
    "params = np.array([0.01, 0.01])\n",
    "\n",
    "for i in range(steps):\n",
    "    # update the circuit parameters\n",
    "    params = opt.step(cost, params)\n",
    "\n",
    "    if (i + 1) % 5 == 0:\n",
    "        print(\"Cost after step {:5d}: {: .7f}\".format(i + 1, cost(params)))\n",
    "\n",
    "print(\"Optimized rotation angles: {}\".format(params))"
   ]
  },
  {
   "cell_type": "code",
   "execution_count": 11,
   "metadata": {},
   "outputs": [
    {
     "name": "stdout",
     "output_type": "stream",
     "text": [
      "0.8731983021146449\n",
      "0.8731983044562817\n"
     ]
    }
   ],
   "source": [
    "result = [1.20671364, 0.01]\n",
    "print(photon_redirection(result))\n",
    "print(qubit_rotation(0.5, 0.1))"
   ]
  },
  {
   "cell_type": "code",
   "execution_count": 12,
   "metadata": {},
   "outputs": [],
   "source": [
    "#Cod is taken from: https://pennylane.ai/qml/demos/tutorial_plugins_hybrid.html"
   ]
  }
 ],
 "metadata": {
  "kernelspec": {
   "display_name": "Python 3",
   "language": "python",
   "name": "python3"
  },
  "language_info": {
   "codemirror_mode": {
    "name": "ipython",
    "version": 3
   },
   "file_extension": ".py",
   "mimetype": "text/x-python",
   "name": "python",
   "nbconvert_exporter": "python",
   "pygments_lexer": "ipython3",
   "version": "3.7.7"
  }
 },
 "nbformat": 4,
 "nbformat_minor": 4
}
