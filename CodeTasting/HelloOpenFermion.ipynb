{
  "nbformat": 4,
  "nbformat_minor": 0,
  "metadata": {
    "colab": {
      "name": "HelloOpenFermion.ipynb",
      "provenance": [],
      "collapsed_sections": [],
      "authorship_tag": "ABX9TyOhsTa3xPQ5SVBr4gFF5ZfR",
      "include_colab_link": true
    },
    "kernelspec": {
      "name": "python3",
      "display_name": "Python 3"
    }
  },
  "cells": [
    {
      "cell_type": "markdown",
      "metadata": {
        "id": "view-in-github",
        "colab_type": "text"
      },
      "source": [
        "<a href=\"https://colab.research.google.com/github/VoicuTomut/Compressed_Hartee-Foock/blob/master/CodeTasting/HelloOpenFermion.ipynb\" target=\"_parent\"><img src=\"https://colab.research.google.com/assets/colab-badge.svg\" alt=\"Open In Colab\"/></a>"
      ]
    },
    {
      "cell_type": "code",
      "metadata": {
        "id": "mRx-UA76Nl0G",
        "colab_type": "code",
        "colab": {
          "base_uri": "https://localhost:8080/",
          "height": 1000
        },
        "outputId": "fe5afe7c-04f5-434f-f4ed-a0a42ea41432"
      },
      "source": [
        "!pip install openfermion openfermionpsi4 openfermioncirq pyscf openfermionpyscf"
      ],
      "execution_count": 1,
      "outputs": [
        {
          "output_type": "stream",
          "text": [
            "Collecting openfermion\n",
            "Collecting openfermionpsi4\n",
            "Collecting openfermioncirq\n",
            "  Using cached https://files.pythonhosted.org/packages/d0/d4/5ca71c70918a6d0df6520f0e70648840f44af2409fc079dc0350316fa729/openfermioncirq-0.4.0-py3-none-any.whl\n",
            "Collecting pyscf\n",
            "  Using cached https://files.pythonhosted.org/packages/b0/d0/9858aa09bc330c31025be64c385881403cbe178c44bf6fb5880bd84b3639/pyscf-1.7.4-cp36-cp36m-manylinux1_x86_64.whl\n",
            "Collecting openfermionpyscf\n",
            "Requirement already satisfied: requests~=2.18 in /usr/local/lib/python3.6/site-packages (from openfermion) (2.18.4)\n",
            "Collecting networkx (from openfermion)\n",
            "\u001b[?25l  Downloading https://files.pythonhosted.org/packages/9b/cd/dc52755d30ba41c60243235460961fc28022e5b6731f16c268667625baea/networkx-2.5-py3-none-any.whl (1.6MB)\n",
            "\u001b[K    100% |████████████████████████████████| 1.6MB 6.9MB/s \n",
            "\u001b[?25hCollecting scipy>=1.1.0 (from openfermion)\n",
            "\u001b[?25l  Downloading https://files.pythonhosted.org/packages/2b/a8/f4c66eb529bb252d50e83dbf2909c6502e2f857550f22571ed8556f62d95/scipy-1.5.2-cp36-cp36m-manylinux1_x86_64.whl (25.9MB)\n",
            "\u001b[K    100% |████████████████████████████████| 25.9MB 1.9MB/s \n",
            "\u001b[?25hRequirement already satisfied: numpy>=1.11.0 in /usr/local/lib/python3.6/site-packages (from openfermion) (1.19.1)\n",
            "Collecting pubchempy (from openfermion)\n",
            "Collecting h5py>=2.8 (from openfermion)\n",
            "\u001b[?25l  Downloading https://files.pythonhosted.org/packages/60/06/cafdd44889200e5438b897388f3075b52a8ef01f28a17366d91de0fa2d05/h5py-2.10.0-cp36-cp36m-manylinux1_x86_64.whl (2.9MB)\n",
            "\u001b[K    100% |████████████████████████████████| 2.9MB 12.4MB/s \n",
            "\u001b[?25hCollecting pandas (from openfermioncirq)\n",
            "\u001b[?25l  Downloading https://files.pythonhosted.org/packages/1c/11/e1f53db0614f2721027aab297c8afd2eaf58d33d566441a97ea454541c5e/pandas-1.1.2-cp36-cp36m-manylinux1_x86_64.whl (10.5MB)\n",
            "\u001b[K    100% |████████████████████████████████| 10.5MB 4.5MB/s \n",
            "\u001b[?25hCollecting sympy (from openfermioncirq)\n",
            "  Using cached https://files.pythonhosted.org/packages/e0/1f/8cbbf698e853019ac3dc5d60ca8f6be4ace4542b2f05f7b62949617fc98e/sympy-1.6.2-py3-none-any.whl\n",
            "Collecting deprecation (from openfermioncirq)\n",
            "  Using cached https://files.pythonhosted.org/packages/02/c3/253a89ee03fc9b9682f1541728eb66db7db22148cd94f89ab22528cd1e1b/deprecation-2.1.0-py2.py3-none-any.whl\n",
            "Collecting cirq>=0.7.0 (from openfermioncirq)\n",
            "  Using cached https://files.pythonhosted.org/packages/1e/5b/6f8cb54ea8c0041ad9c8e4ece07cb5ca9eb1c29de68e68795b4a40d90cc6/cirq-0.8.2-py3-none-any.whl\n",
            "Requirement already satisfied: pytest in /usr/local/lib/python3.6/site-packages (from openfermionpyscf) (3.9.1)\n",
            "Requirement already satisfied: chardet<3.1.0,>=3.0.2 in /usr/local/lib/python3.6/site-packages (from requests~=2.18->openfermion) (3.0.4)\n",
            "Requirement already satisfied: idna<2.7,>=2.5 in /usr/local/lib/python3.6/site-packages (from requests~=2.18->openfermion) (2.6)\n",
            "Requirement already satisfied: urllib3<1.23,>=1.21.1 in /usr/local/lib/python3.6/site-packages (from requests~=2.18->openfermion) (1.22)\n",
            "Requirement already satisfied: certifi>=2017.4.17 in /usr/local/lib/python3.6/site-packages (from requests~=2.18->openfermion) (2020.6.20)\n",
            "Collecting decorator>=4.3.0 (from networkx->openfermion)\n",
            "  Downloading https://files.pythonhosted.org/packages/ed/1b/72a1821152d07cf1d8b6fce298aeb06a7eb90f4d6d41acec9861e7cc6df0/decorator-4.4.2-py2.py3-none-any.whl\n",
            "Requirement already satisfied: six in /usr/local/lib/python3.6/site-packages (from h5py>=2.8->openfermion) (1.11.0)\n",
            "Collecting pytz>=2017.2 (from pandas->openfermioncirq)\n",
            "  Using cached https://files.pythonhosted.org/packages/4f/a4/879454d49688e2fad93e59d7d4efda580b783c745fd2ec2a3adf87b0808d/pytz-2020.1-py2.py3-none-any.whl\n",
            "Collecting python-dateutil>=2.7.3 (from pandas->openfermioncirq)\n",
            "  Using cached https://files.pythonhosted.org/packages/d4/70/d60450c3dd48ef87586924207ae8907090de0b306af2bce5d134d78615cb/python_dateutil-2.8.1-py2.py3-none-any.whl\n",
            "Collecting mpmath>=0.19 (from sympy->openfermioncirq)\n",
            "  Using cached https://files.pythonhosted.org/packages/ca/63/3384ebb3b51af9610086b23ea976e6d27d6d97bf140a76a365bd77a3eb32/mpmath-1.1.0.tar.gz\n",
            "Collecting packaging (from deprecation->openfermioncirq)\n",
            "  Downloading https://files.pythonhosted.org/packages/46/19/c5ab91b1b05cfe63cccd5cfc971db9214c6dd6ced54e33c30d5af1d2bc43/packaging-20.4-py2.py3-none-any.whl\n",
            "Collecting google-api-core[grpc]<2.0.0dev,>=1.14.0 (from cirq>=0.7.0->openfermioncirq)\n",
            "  Using cached https://files.pythonhosted.org/packages/3c/45/a5707ce2cbd6681c09e69a0ce10d9bebe98e0231c458a4dc652670f3584f/google_api_core-1.22.2-py2.py3-none-any.whl\n",
            "Collecting protobuf~=3.12.0 (from cirq>=0.7.0->openfermioncirq)\n",
            "\u001b[?25l  Downloading https://files.pythonhosted.org/packages/63/14/dc43f81adc543c435cfeb45dd4ac048a97a1eb621c2ccb68ab3d15118737/protobuf-3.12.4-cp36-cp36m-manylinux1_x86_64.whl (1.3MB)\n",
            "\u001b[K    100% |████████████████████████████████| 1.3MB 15.8MB/s \n",
            "\u001b[?25hRequirement already satisfied: dataclasses; python_version < \"3.7\" in /usr/local/lib/python3.6/site-packages (from cirq>=0.7.0->openfermioncirq) (0.6)\n",
            "Collecting typing-extensions (from cirq>=0.7.0->openfermioncirq)\n",
            "  Using cached https://files.pythonhosted.org/packages/60/7a/e881b5abb54db0e6e671ab088d079c57ce54e8a01a3ca443f561ccadb37e/typing_extensions-3.7.4.3-py3-none-any.whl\n",
            "Collecting freezegun~=0.3.15 (from cirq>=0.7.0->openfermioncirq)\n",
            "  Using cached https://files.pythonhosted.org/packages/17/5d/1b9d6d3c7995fff473f35861d674e0113a5f0bd5a72fe0199c3f254665c7/freezegun-0.3.15-py2.py3-none-any.whl\n",
            "Collecting matplotlib~=3.0 (from cirq>=0.7.0->openfermioncirq)\n",
            "\u001b[?25l  Downloading https://files.pythonhosted.org/packages/96/a7/b6fa244fd8a8814ef9408c8a5a7e4ed0340e232a6f0ce2046b42e50672c0/matplotlib-3.3.1-cp36-cp36m-manylinux1_x86_64.whl (11.6MB)\n",
            "\u001b[K    100% |████████████████████████████████| 11.6MB 3.8MB/s \n",
            "\u001b[?25hCollecting sortedcontainers~=2.0 (from cirq>=0.7.0->openfermioncirq)\n",
            "  Using cached https://files.pythonhosted.org/packages/23/8c/22a47a4bf8c5289e4ed946d2b0e4df62bca385b9599cc1e46878f2e2529c/sortedcontainers-2.2.2-py2.py3-none-any.whl\n",
            "Collecting py>=1.5.0 (from pytest->openfermionpyscf)\n",
            "\u001b[?25l  Downloading https://files.pythonhosted.org/packages/68/0f/41a43535b52a81e4f29e420a151032d26f08b62206840c48d14b70e53376/py-1.9.0-py2.py3-none-any.whl (99kB)\n",
            "\u001b[K    100% |████████████████████████████████| 102kB 27.2MB/s \n",
            "\u001b[?25hRequirement already satisfied: setuptools in /usr/local/lib/python3.6/site-packages (from pytest->openfermionpyscf) (39.2.0)\n",
            "Collecting attrs>=17.4.0 (from pytest->openfermionpyscf)\n",
            "\u001b[?25l  Downloading https://files.pythonhosted.org/packages/14/df/479736ae1ef59842f512548bacefad1abed705e400212acba43f9b0fa556/attrs-20.2.0-py2.py3-none-any.whl (48kB)\n",
            "\u001b[K    100% |████████████████████████████████| 51kB 21.5MB/s \n",
            "\u001b[?25hCollecting more-itertools>=4.0.0 (from pytest->openfermionpyscf)\n",
            "\u001b[?25l  Downloading https://files.pythonhosted.org/packages/ec/f7/9c33f38577d9fb9b1aa60c0fd9961d09574f5d47d2b830e5183e6adfc8cc/more_itertools-8.5.0-py3-none-any.whl (44kB)\n",
            "\u001b[K    100% |████████████████████████████████| 51kB 22.7MB/s \n",
            "\u001b[?25hCollecting atomicwrites>=1.0 (from pytest->openfermionpyscf)\n",
            "  Downloading https://files.pythonhosted.org/packages/2c/a0/da5f49008ec6e9a658dbf5d7310a4debd397bce0b4db03cf8a410066bb87/atomicwrites-1.4.0-py2.py3-none-any.whl\n",
            "Requirement already satisfied: pluggy>=0.7 in /usr/local/lib/python3.6/site-packages (from pytest->openfermionpyscf) (0.13.1)\n",
            "Collecting pyparsing>=2.0.2 (from packaging->deprecation->openfermioncirq)\n",
            "\u001b[?25l  Downloading https://files.pythonhosted.org/packages/8a/bb/488841f56197b13700afd5658fc279a2025a39e22449b7cf29864669b15d/pyparsing-2.4.7-py2.py3-none-any.whl (67kB)\n",
            "\u001b[K    100% |████████████████████████████████| 71kB 26.2MB/s \n",
            "\u001b[?25hCollecting googleapis-common-protos<2.0dev,>=1.6.0 (from google-api-core[grpc]<2.0.0dev,>=1.14.0->cirq>=0.7.0->openfermioncirq)\n",
            "  Using cached https://files.pythonhosted.org/packages/03/74/3956721ea1eb4bcf7502a311fdaa60b85bd751de4e57d1943afe9b334141/googleapis_common_protos-1.52.0-py2.py3-none-any.whl\n",
            "Collecting google-auth<2.0dev,>=1.21.1 (from google-api-core[grpc]<2.0.0dev,>=1.14.0->cirq>=0.7.0->openfermioncirq)\n",
            "  Using cached https://files.pythonhosted.org/packages/6c/37/a21382309d6cd433d6f002a683bc4f2e27ad912af11d4c4a7bdd6e8d363d/google_auth-1.21.1-py2.py3-none-any.whl\n",
            "Collecting grpcio<2.0dev,>=1.29.0; extra == \"grpc\" (from google-api-core[grpc]<2.0.0dev,>=1.14.0->cirq>=0.7.0->openfermioncirq)\n",
            "\u001b[?25l  Downloading https://files.pythonhosted.org/packages/0e/5f/eeb402746a65839acdec78b7e757635f5e446138cc1d68589dfa32cba593/grpcio-1.32.0.tar.gz (20.8MB)\n",
            "\u001b[K    100% |████████████████████████████████| 20.8MB 2.4MB/s \n",
            "\u001b[?25hCollecting cycler>=0.10 (from matplotlib~=3.0->cirq>=0.7.0->openfermioncirq)\n",
            "  Using cached https://files.pythonhosted.org/packages/f7/d2/e07d3ebb2bd7af696440ce7e754c59dd546ffe1bbe732c8ab68b9c834e61/cycler-0.10.0-py2.py3-none-any.whl\n",
            "Collecting pillow>=6.2.0 (from matplotlib~=3.0->cirq>=0.7.0->openfermioncirq)\n",
            "\u001b[?25l  Downloading https://files.pythonhosted.org/packages/30/bf/92385b4262178ca22b34f82e0e09c2922eb351fe39f3cc7b8ba9ea555b41/Pillow-7.2.0-cp36-cp36m-manylinux1_x86_64.whl (2.2MB)\n",
            "\u001b[K    100% |████████████████████████████████| 2.2MB 14.5MB/s \n",
            "\u001b[?25hCollecting kiwisolver>=1.0.1 (from matplotlib~=3.0->cirq>=0.7.0->openfermioncirq)\n",
            "\u001b[?25l  Downloading https://files.pythonhosted.org/packages/ae/23/147de658aabbf968324551ea22c0c13a00284c4ef49a77002e91f79657b7/kiwisolver-1.2.0-cp36-cp36m-manylinux1_x86_64.whl (88kB)\n",
            "\u001b[K    100% |████████████████████████████████| 92kB 28.3MB/s \n",
            "\u001b[?25hRequirement already satisfied: importlib-metadata>=0.12; python_version < \"3.8\" in /usr/local/lib/python3.6/site-packages (from pluggy>=0.7->pytest->openfermionpyscf) (1.7.0)\n",
            "Collecting pyasn1-modules>=0.2.1 (from google-auth<2.0dev,>=1.21.1->google-api-core[grpc]<2.0.0dev,>=1.14.0->cirq>=0.7.0->openfermioncirq)\n",
            "  Using cached https://files.pythonhosted.org/packages/95/de/214830a981892a3e286c3794f41ae67a4495df1108c3da8a9f62159b9a9d/pyasn1_modules-0.2.8-py2.py3-none-any.whl\n",
            "Collecting cachetools<5.0,>=2.0.0 (from google-auth<2.0dev,>=1.21.1->google-api-core[grpc]<2.0.0dev,>=1.14.0->cirq>=0.7.0->openfermioncirq)\n",
            "  Using cached https://files.pythonhosted.org/packages/cd/5c/f3aa86b6d5482f3051b433c7616668a9b96fbe49a622210e2c9781938a5c/cachetools-4.1.1-py3-none-any.whl\n",
            "Collecting rsa<5,>=3.1.4; python_version >= \"3.5\" (from google-auth<2.0dev,>=1.21.1->google-api-core[grpc]<2.0.0dev,>=1.14.0->cirq>=0.7.0->openfermioncirq)\n",
            "  Using cached https://files.pythonhosted.org/packages/1c/df/c3587a667d6b308fadc90b99e8bc8774788d033efcc70f4ecaae7fad144b/rsa-4.6-py3-none-any.whl\n",
            "Collecting zipp>=0.5 (from importlib-metadata>=0.12; python_version < \"3.8\"->pluggy>=0.7->pytest->openfermionpyscf)\n",
            "  Downloading https://files.pythonhosted.org/packages/b2/34/bfcb43cc0ba81f527bc4f40ef41ba2ff4080e047acb0586b56b3d017ace4/zipp-3.1.0-py3-none-any.whl\n",
            "Collecting pyasn1<0.5.0,>=0.4.6 (from pyasn1-modules>=0.2.1->google-auth<2.0dev,>=1.21.1->google-api-core[grpc]<2.0.0dev,>=1.14.0->cirq>=0.7.0->openfermioncirq)\n",
            "  Using cached https://files.pythonhosted.org/packages/62/1e/a94a8d635fa3ce4cfc7f506003548d0a2447ae76fd5ca53932970fe3053f/pyasn1-0.4.8-py2.py3-none-any.whl\n",
            "Building wheels for collected packages: mpmath, grpcio\n",
            "  Running setup.py bdist_wheel for mpmath ... \u001b[?25ldone\n",
            "\u001b[?25h  Stored in directory: /root/.cache/pip/wheels/63/9d/8e/37c3f6506ed3f152733a699e92d8e0c9f5e5f01dea262f80ad\n",
            "  Running setup.py bdist_wheel for grpcio ... \u001b[?25ldone\n",
            "\u001b[?25h  Stored in directory: /root/.cache/pip/wheels/a9/71/06/2a56cccc8cd6db67b495515b44c9008abbbcf456f9551b0992\n",
            "Successfully built mpmath grpcio\n",
            "\u001b[31mgoogle-auth 1.21.1 has requirement setuptools>=40.3.0, but you'll have setuptools 39.2.0 which is incompatible.\u001b[0m\n",
            "\u001b[31mpyscf 1.7.4 has requirement scipy<1.5, but you'll have scipy 1.5.2 which is incompatible.\u001b[0m\n",
            "Installing collected packages: decorator, networkx, scipy, pubchempy, h5py, openfermion, openfermionpsi4, pytz, python-dateutil, pandas, mpmath, sympy, pyparsing, packaging, deprecation, protobuf, googleapis-common-protos, pyasn1, pyasn1-modules, cachetools, rsa, google-auth, grpcio, google-api-core, typing-extensions, freezegun, cycler, pillow, kiwisolver, matplotlib, sortedcontainers, cirq, openfermioncirq, pyscf, openfermionpyscf, py, attrs, more-itertools, atomicwrites, zipp\n",
            "Successfully installed atomicwrites-1.4.0 attrs-20.2.0 cachetools-4.1.1 cirq-0.8.2 cycler-0.10.0 decorator-4.4.2 deprecation-2.1.0 freezegun-0.3.15 google-api-core-1.22.2 google-auth-1.21.1 googleapis-common-protos-1.52.0 grpcio-1.32.0 h5py-2.10.0 kiwisolver-1.2.0 matplotlib-3.3.1 more-itertools-8.5.0 mpmath-1.1.0 networkx-2.5 openfermion-0.11.0 openfermioncirq-0.4.0 openfermionpsi4-0.4 openfermionpyscf-0.4 packaging-20.4 pandas-1.1.2 pillow-7.2.0 protobuf-3.12.4 pubchempy-1.0.4 py-1.9.0 pyasn1-0.4.8 pyasn1-modules-0.2.8 pyparsing-2.4.7 pyscf-1.7.4 python-dateutil-2.8.1 pytz-2020.1 rsa-4.6 scipy-1.5.2 sortedcontainers-2.2.2 sympy-1.6.2 typing-extensions-3.7.4.3 zipp-3.1.0\n"
          ],
          "name": "stdout"
        },
        {
          "output_type": "display_data",
          "data": {
            "application/vnd.colab-display-data+json": {
              "pip_warning": {
                "packages": [
                  "cycler",
                  "dateutil",
                  "decorator",
                  "google",
                  "kiwisolver",
                  "pyparsing"
                ]
              }
            }
          },
          "metadata": {
            "tags": []
          }
        }
      ]
    },
    {
      "cell_type": "code",
      "metadata": {
        "id": "MQuFaVeYffxB",
        "colab_type": "code",
        "colab": {
          "base_uri": "https://localhost:8080/",
          "height": 1000
        },
        "outputId": "d8f18e50-690f-4c3a-b151-9ce86621f124"
      },
      "source": [
        "# Psi4\n",
        "# Set up a local conda environment for psi4\n",
        "!wget https://repo.continuum.io/miniconda/Miniconda3-4.5.4-Linux-x86_64.sh\n",
        "!bash Miniconda3-4.5.4-Linux-x86_64.sh -bfp /usr/local\n",
        "# Append path to be able to run packages installed with conda\n",
        "import sys\n",
        "sys.path.append('/usr/local/lib/python3.6/site-packages')\n",
        "# Install psi4 from Anaconda\n",
        "!conda install -c psi4 psi4 -y"
      ],
      "execution_count": 2,
      "outputs": [
        {
          "output_type": "stream",
          "text": [
            "--2020-09-11 15:47:55--  https://repo.continuum.io/miniconda/Miniconda3-4.5.4-Linux-x86_64.sh\n",
            "Resolving repo.continuum.io (repo.continuum.io)... 104.18.200.79, 104.18.201.79, 2606:4700::6812:c84f, ...\n",
            "Connecting to repo.continuum.io (repo.continuum.io)|104.18.200.79|:443... connected.\n",
            "HTTP request sent, awaiting response... 301 Moved Permanently\n",
            "Location: https://repo.anaconda.com/miniconda/Miniconda3-4.5.4-Linux-x86_64.sh [following]\n",
            "--2020-09-11 15:47:55--  https://repo.anaconda.com/miniconda/Miniconda3-4.5.4-Linux-x86_64.sh\n",
            "Resolving repo.anaconda.com (repo.anaconda.com)... 104.16.131.3, 104.16.130.3, 2606:4700::6810:8303, ...\n",
            "Connecting to repo.anaconda.com (repo.anaconda.com)|104.16.131.3|:443... connected.\n",
            "HTTP request sent, awaiting response... 200 OK\n",
            "Length: 58468498 (56M) [application/x-sh]\n",
            "Saving to: ‘Miniconda3-4.5.4-Linux-x86_64.sh.2’\n",
            "\n",
            "Miniconda3-4.5.4-Li 100%[===================>]  55.76M   131MB/s    in 0.4s    \n",
            "\n",
            "2020-09-11 15:47:55 (131 MB/s) - ‘Miniconda3-4.5.4-Linux-x86_64.sh.2’ saved [58468498/58468498]\n",
            "\n",
            "PREFIX=/usr/local\n",
            "installing: python-3.6.5-hc3d631a_2 ...\n",
            "Python 3.6.5 :: Anaconda, Inc.\n",
            "installing: ca-certificates-2018.03.07-0 ...\n",
            "installing: conda-env-2.6.0-h36134e3_1 ...\n",
            "installing: libgcc-ng-7.2.0-hdf63c60_3 ...\n",
            "installing: libstdcxx-ng-7.2.0-hdf63c60_3 ...\n",
            "installing: libffi-3.2.1-hd88cf55_4 ...\n",
            "installing: ncurses-6.1-hf484d3e_0 ...\n",
            "installing: openssl-1.0.2o-h20670df_0 ...\n",
            "installing: tk-8.6.7-hc745277_3 ...\n",
            "installing: xz-5.2.4-h14c3975_4 ...\n",
            "installing: yaml-0.1.7-had09818_2 ...\n",
            "installing: zlib-1.2.11-ha838bed_2 ...\n",
            "installing: libedit-3.1.20170329-h6b74fdf_2 ...\n",
            "installing: readline-7.0-ha6073c6_4 ...\n",
            "installing: sqlite-3.23.1-he433501_0 ...\n",
            "installing: asn1crypto-0.24.0-py36_0 ...\n",
            "installing: certifi-2018.4.16-py36_0 ...\n",
            "installing: chardet-3.0.4-py36h0f667ec_1 ...\n",
            "installing: idna-2.6-py36h82fb2a8_1 ...\n",
            "installing: pycosat-0.6.3-py36h0a5515d_0 ...\n",
            "installing: pycparser-2.18-py36hf9f622e_1 ...\n",
            "installing: pysocks-1.6.8-py36_0 ...\n",
            "installing: ruamel_yaml-0.15.37-py36h14c3975_2 ...\n",
            "installing: six-1.11.0-py36h372c433_1 ...\n",
            "installing: cffi-1.11.5-py36h9745a5d_0 ...\n",
            "installing: setuptools-39.2.0-py36_0 ...\n",
            "installing: cryptography-2.2.2-py36h14c3975_0 ...\n",
            "installing: wheel-0.31.1-py36_0 ...\n",
            "installing: pip-10.0.1-py36_0 ...\n",
            "installing: pyopenssl-18.0.0-py36_0 ...\n",
            "installing: urllib3-1.22-py36hbe7ace6_0 ...\n",
            "installing: requests-2.18.4-py36he2e5f8d_1 ...\n",
            "installing: conda-4.5.4-py36_0 ...\n",
            "unlinking: ca-certificates-2020.7.22-0\n",
            "unlinking: certifi-2020.6.20-py36_0\n",
            "unlinking: conda-4.8.4-py36_0\n",
            "unlinking: cryptography-3.1-py36h1ba5d50_0\n",
            "unlinking: libgcc-ng-9.1.0-hdf63c60_0\n",
            "unlinking: libstdcxx-ng-9.1.0-hdf63c60_0\n",
            "unlinking: openssl-1.1.1g-h7b6447c_0\n",
            "unlinking: python-3.6.8-h0371630_0\n",
            "unlinking: sqlite-3.26.0-h7b6447c_0\n",
            "unlinking: tk-8.6.10-hbc83047_0\n",
            "installation finished.\n",
            "WARNING:\n",
            "    You currently have a PYTHONPATH environment variable set. This may cause\n",
            "    unexpected behavior when running the Python interpreter in Miniconda3.\n",
            "    For best results, please verify that your PYTHONPATH only points to\n",
            "    directories of packages that are compatible with the Python interpreter\n",
            "    in Miniconda3: /usr/local\n",
            "Solving environment: - \b\b\\ \b\b| \b\b/ \b\b- \b\b\\ \b\b| \b\b/ \b\b- \b\b\\ \b\b| \b\b/ \b\b- \b\b\\ \b\b| \b\b/ \b\b- \b\b\\ \b\b| \b\b/ \b\b- \b\b\\ \b\b| \b\b/ \b\b- \b\b\\ \b\b| \b\b/ \b\b- \b\b\\ \b\b| \b\b/ \b\b- \b\b\\ \b\b| \b\b/ \b\b- \b\b\\ \b\b| \b\b/ \b\b- \b\b\\ \b\b| \b\b/ \b\b- \b\b\\ \b\b| \b\b/ \b\b- \b\b\\ \b\b| \b\b/ \b\b- \b\b\\ \b\b| \b\b/ \b\b- \b\b\\ \b\b| \b\b/ \b\b- \b\b\\ \b\b| \b\b/ \b\b- \b\b\\ \b\b| \b\b/ \b\b- \b\b\\ \b\b| \b\b/ \b\b- \b\b\\ \b\b| \b\b/ \b\b- \b\b\\ \b\b| \b\b/ \b\b- \b\b\\ \b\b| \b\b/ \b\b- \b\b\\ \b\b| \b\b/ \b\b- \b\b\\ \b\b| \b\b/ \b\b- \b\b\\ \b\b| \b\b/ \b\b- \b\b\\ \b\b| \b\b/ \b\b- \b\b\\ \b\b| \b\b/ \b\b- \b\b\\ \b\b| \b\b/ \b\b- \b\b\\ \b\b| \b\b/ \b\b- \b\b\\ \b\b| \b\b/ \b\b- \b\b\\ \b\b| \b\b/ \b\b- \b\b\\ \b\b| \b\b/ \b\b- \b\b\\ \b\b| \b\b/ \b\b- \b\b\\ \b\b| \b\b/ \b\b- \b\b\\ \b\b| \b\b/ \b\b- \b\b\\ \b\b| \b\b/ \b\b- \b\b\\ \b\b| \b\b/ \b\b- \b\b\\ \b\b| \b\b/ \b\b- \b\b\\ \b\b| \b\b/ \b\b- \b\b\\ \b\b| \b\b/ \b\b- \b\b\\ \b\b| \b\b/ \b\b- \b\b\\ \b\b| \b\b/ \b\b- \b\b\\ \b\b| \b\b/ \b\b- \b\b\\ \b\b| \b\b/ \b\b- \b\b\\ \b\b| \b\b/ \b\b- \b\b\\ \b\b| \b\b/ \b\b- \b\b\\ \b\b| \b\b/ \b\b- \b\b\\ \b\b| \b\b/ \b\b- \b\b\\ \b\b| \b\b/ \b\b- \b\b\\ \b\b| \b\b/ \b\b- \b\b\\ \b\b| \b\b/ \b\b- \b\b\\ \b\b| \b\b/ \b\b- \b\b\\ \b\b| \b\b/ \b\b- \b\b\\ \b\b| \b\b/ \b\b- \b\b\\ \b\b| \b\b/ \b\b- \b\b\\ \b\b| \b\b/ \b\b- \b\b\\ \b\b| \b\b/ \b\b- \b\b\\ \b\b| \b\b/ \b\b- \b\b\\ \b\b| \b\b/ \b\b- \b\b\\ \b\b| \b\b/ \b\b- \b\b\\ \b\b| \b\b/ \b\b- \b\b\\ \b\b| \b\b/ \b\b- \b\b\\ \b\b| \b\b/ \b\b- \b\b\\ \b\b| \b\b/ \b\b- \b\b\\ \b\b| \b\b/ \b\b- \b\b\\ \b\b| \b\b/ \b\b- \b\bdone\n",
            "\n",
            "## Package Plan ##\n",
            "\n",
            "  environment location: /usr/local\n",
            "\n",
            "  added / updated specs: \n",
            "    - psi4\n",
            "\n",
            "\n",
            "The following packages will be UPDATED:\n",
            "\n",
            "    ca-certificates: 2018.03.07-0         --> 2020.7.22-0       \n",
            "    certifi:         2018.4.16-py36_0     --> 2020.6.20-py36_0  \n",
            "    conda:           4.5.4-py36_0         --> 4.8.4-py36_0      \n",
            "    cryptography:    2.2.2-py36h14c3975_0 --> 3.1-py36h1ba5d50_0\n",
            "    libgcc-ng:       7.2.0-hdf63c60_3     --> 9.1.0-hdf63c60_0  \n",
            "    libstdcxx-ng:    7.2.0-hdf63c60_3     --> 9.1.0-hdf63c60_0  \n",
            "    openssl:         1.0.2o-h20670df_0    --> 1.1.1g-h7b6447c_0 \n",
            "    python:          3.6.5-hc3d631a_2     --> 3.6.8-h0371630_0  \n",
            "    sqlite:          3.23.1-he433501_0    --> 3.26.0-h7b6447c_0 \n",
            "    tk:              8.6.7-hc745277_3     --> 8.6.10-hbc83047_0 \n",
            "\n",
            "Preparing transaction: | \b\b/ \b\bdone\n",
            "Verifying transaction: \\ \b\b| \b\b/ \b\b- \b\b\\ \b\b| \b\b/ \b\b- \b\b\\ \b\b| \b\b/ \b\b- \b\b\\ \b\b| \b\bdone\n",
            "Executing transaction: - \b\b\\ \b\b| \b\b/ \b\b- \b\bdone\n"
          ],
          "name": "stdout"
        }
      ]
    },
    {
      "cell_type": "markdown",
      "metadata": {
        "id": "BNsUxhUzNeA-",
        "colab_type": "text"
      },
      "source": [
        "## Molecule specification and input generation "
      ]
    },
    {
      "cell_type": "code",
      "metadata": {
        "id": "QKF8l9iL4NgB",
        "colab_type": "code",
        "colab": {}
      },
      "source": [
        "import openfermion as of\n",
        "from openfermion.hamiltonians import MolecularData"
      ],
      "execution_count": 3,
      "outputs": []
    },
    {
      "cell_type": "code",
      "metadata": {
        "id": "LJ_IS7e6N7yW",
        "colab_type": "code",
        "colab": {}
      },
      "source": [
        "#H2\n",
        "\n",
        "geometry=[['H',[0,0,0]],\n",
        "          ['H',[0,0,0.74]]]\n",
        "\n",
        "basis= 'sto-3g'\n",
        "multiplicity=1\n",
        "charge=0\n",
        "\n",
        "h2_molecule=MolecularData(geometry,basis,multiplicity,charge)"
      ],
      "execution_count": 4,
      "outputs": []
    },
    {
      "cell_type": "code",
      "metadata": {
        "id": "2GoZzTOkUfPw",
        "colab_type": "code",
        "colab": {
          "base_uri": "https://localhost:8080/",
          "height": 67
        },
        "outputId": "4f350f82-b502-4cff-d3c0-bee5a53deadf"
      },
      "source": [
        "print(\"nr. atoms: {},/n nr. elctrons: {}. \",h2_molecule.n_atoms,h2_molecule.protons)\n",
        "\n",
        "for atom, atomic_number in zip(h2_molecule.atoms, h2_molecule.protons):\n",
        "    print('atom {}: {} nr. protons.'.format(atom, atomic_number))"
      ],
      "execution_count": 5,
      "outputs": [
        {
          "output_type": "stream",
          "text": [
            "nr. atoms: {},/n nr. elctrons: {},  2 [1, 1]\n",
            "atom H: 1 nr. protons.\n",
            "atom H: 1 nr. protons.\n"
          ],
          "name": "stdout"
        }
      ]
    },
    {
      "cell_type": "markdown",
      "metadata": {
        "id": "Zk1FQX9vQYn3",
        "colab_type": "text"
      },
      "source": [
        "## Integral generation\n"
      ]
    },
    {
      "cell_type": "code",
      "metadata": {
        "id": "AQaRYLsvOh2Q",
        "colab_type": "code",
        "colab": {}
      },
      "source": [
        "# OpenFermionPsi4\n",
        "# Import opemfermionpsi4\n",
        "import openfermionpsi4\n",
        "from openfermionpsi4 import run_psi4\n",
        "\n",
        "# OpenFermionPySCF\n",
        "import openfermionpyscf as ofpyscf"
      ],
      "execution_count": 6,
      "outputs": []
    },
    {
      "cell_type": "code",
      "metadata": {
        "id": "hHCxyVVqTZgB",
        "colab_type": "code",
        "colab": {}
      },
      "source": [
        "# PySCF calculations\n",
        "\n",
        "run_scf = 1\n",
        "run_mp2 = 1\n",
        "run_cisd = 0\n",
        "run_ccsd = 0\n",
        "run_fci = 1\n",
        "\n",
        "h2_molecule = ofpyscf.run_pyscf(h2_molecule,\n",
        "                    run_scf=run_scf,\n",
        "                    run_mp2=run_mp2,\n",
        "                    run_cisd=run_cisd,\n",
        "                    run_ccsd=run_ccsd,\n",
        "                    run_fci=run_fci)"
      ],
      "execution_count": 7,
      "outputs": []
    },
    {
      "cell_type": "code",
      "metadata": {
        "id": "9eHAZrO3T46j",
        "colab_type": "code",
        "colab": {}
      },
      "source": [
        "one_electron_integrals = h2_molecule.one_body_integrals\n",
        "two_electron_integrals = h2_molecule.two_body_integrals"
      ],
      "execution_count": 8,
      "outputs": []
    },
    {
      "cell_type": "code",
      "metadata": {
        "id": "6LERS_Iif18_",
        "colab_type": "code",
        "colab": {
          "base_uri": "https://localhost:8080/",
          "height": 50
        },
        "outputId": "edf114d7-a082-4971-a752-dd45761cf69a"
      },
      "source": [
        "print(one_electron_integrals)"
      ],
      "execution_count": 9,
      "outputs": [
        {
          "output_type": "stream",
          "text": [
            "[[-1.25330979e+00 -2.27668982e-16]\n",
            " [-1.98624663e-16 -4.75068849e-01]]\n"
          ],
          "name": "stdout"
        }
      ]
    },
    {
      "cell_type": "code",
      "metadata": {
        "id": "gJXmQ3HHgJMc",
        "colab_type": "code",
        "colab": {
          "base_uri": "https://localhost:8080/",
          "height": 218
        },
        "outputId": "d5c99cb6-c682-4b6b-cf85-1192b9ef01d8"
      },
      "source": [
        "print(two_electron_integrals)"
      ],
      "execution_count": 10,
      "outputs": [
        {
          "output_type": "stream",
          "text": [
            "[[[[6.74755927e-01 1.42010673e-17]\n",
            "   [1.02278901e-16 1.81210462e-01]]\n",
            "\n",
            "  [[1.02278901e-16 1.81210462e-01]\n",
            "   [6.63711401e-01 1.49957052e-16]]]\n",
            "\n",
            "\n",
            " [[[1.42010673e-17 6.63711401e-01]\n",
            "   [1.81210462e-01 7.90885985e-17]]\n",
            "\n",
            "  [[1.81210462e-01 7.90885985e-17]\n",
            "   [1.49957052e-16 6.97651504e-01]]]]\n"
          ],
          "name": "stdout"
        }
      ]
    },
    {
      "cell_type": "markdown",
      "metadata": {
        "id": "h-ImsO3DgOrP",
        "colab_type": "text"
      },
      "source": [
        "## Hamiltonian"
      ]
    },
    {
      "cell_type": "code",
      "metadata": {
        "id": "CQ1U2rMpgSEH",
        "colab_type": "code",
        "colab": {
          "base_uri": "https://localhost:8080/",
          "height": 638
        },
        "outputId": "5269858d-6944-4550-e5f8-6482137fda6a"
      },
      "source": [
        "# InteractionOperator\n",
        "hamiltonian = ofpyscf.generate_molecular_hamiltonian(geometry, basis, multiplicity, charge)\n",
        "\n",
        "# Convert to a FermionOperator\n",
        "hamiltonian_ferm_op = of.get_fermion_operator(hamiltonian)\n",
        "print(hamiltonian_ferm_op)"
      ],
      "execution_count": 11,
      "outputs": [
        {
          "output_type": "stream",
          "text": [
            "0.7151043390810812 [] +\n",
            "-1.2533097866459773 [0^ 0] +\n",
            "0.3373779634072241 [0^ 0^ 0 0] +\n",
            "0.09060523100759854 [0^ 0^ 2 2] +\n",
            "0.3373779634072241 [0^ 1^ 1 0] +\n",
            "0.09060523100759854 [0^ 1^ 3 2] +\n",
            "0.09060523100759854 [0^ 2^ 0 2] +\n",
            "0.3318557006754069 [0^ 2^ 2 0] +\n",
            "0.09060523100759854 [0^ 3^ 1 2] +\n",
            "0.3318557006754069 [0^ 3^ 3 0] +\n",
            "0.3373779634072241 [1^ 0^ 0 1] +\n",
            "0.09060523100759854 [1^ 0^ 2 3] +\n",
            "-1.2533097866459773 [1^ 1] +\n",
            "0.3373779634072241 [1^ 1^ 1 1] +\n",
            "0.09060523100759854 [1^ 1^ 3 3] +\n",
            "0.09060523100759854 [1^ 2^ 0 3] +\n",
            "0.3318557006754069 [1^ 2^ 2 1] +\n",
            "0.09060523100759854 [1^ 3^ 1 3] +\n",
            "0.3318557006754069 [1^ 3^ 3 1] +\n",
            "0.3318557006754069 [2^ 0^ 0 2] +\n",
            "0.09060523100759854 [2^ 0^ 2 0] +\n",
            "0.3318557006754069 [2^ 1^ 1 2] +\n",
            "0.09060523100759854 [2^ 1^ 3 0] +\n",
            "-0.47506884877217576 [2^ 2] +\n",
            "0.09060523100759854 [2^ 2^ 0 0] +\n",
            "0.348825752245232 [2^ 2^ 2 2] +\n",
            "0.09060523100759854 [2^ 3^ 1 0] +\n",
            "0.348825752245232 [2^ 3^ 3 2] +\n",
            "0.3318557006754069 [3^ 0^ 0 3] +\n",
            "0.09060523100759854 [3^ 0^ 2 1] +\n",
            "0.3318557006754069 [3^ 1^ 1 3] +\n",
            "0.09060523100759854 [3^ 1^ 3 1] +\n",
            "0.09060523100759854 [3^ 2^ 0 1] +\n",
            "0.348825752245232 [3^ 2^ 2 3] +\n",
            "-0.47506884877217576 [3^ 3] +\n",
            "0.09060523100759854 [3^ 3^ 1 1] +\n",
            "0.348825752245232 [3^ 3^ 3 3]\n"
          ],
          "name": "stdout"
        }
      ]
    },
    {
      "cell_type": "code",
      "metadata": {
        "id": "RaKVm_eJiu93",
        "colab_type": "code",
        "colab": {}
      },
      "source": [
        "import openfermion.transforms\n",
        "from openfermion.transforms import get_fermion_operator, jordan_wigner, get_sparse_operator"
      ],
      "execution_count": 12,
      "outputs": []
    },
    {
      "cell_type": "code",
      "metadata": {
        "id": "Grk1JxUQi4NJ",
        "colab_type": "code",
        "colab": {}
      },
      "source": [
        "h2_qubit_hamiltonian = jordan_wigner(get_fermion_operator(h2_molecule.get_molecular_hamiltonian())) #mapping"
      ],
      "execution_count": 13,
      "outputs": []
    },
    {
      "cell_type": "code",
      "metadata": {
        "id": "FPJ4dstwjej3",
        "colab_type": "code",
        "colab": {
          "base_uri": "https://localhost:8080/",
          "height": 269
        },
        "outputId": "8802364c-1daf-4968-8c21-710379c64dcd"
      },
      "source": [
        "print(h2_qubit_hamiltonian)"
      ],
      "execution_count": 14,
      "outputs": [
        {
          "output_type": "stream",
          "text": [
            "(-0.0970662681676283+0j) [] +\n",
            "(-0.04530261550379927+0j) [X0 X1 Y2 Y3] +\n",
            "(0.04530261550379927+0j) [X0 Y1 Y2 X3] +\n",
            "(0.04530261550379927+0j) [Y0 X1 X2 Y3] +\n",
            "(-0.04530261550379927+0j) [Y0 Y1 X2 X3] +\n",
            "(0.17141282644776895+0j) [Z0] +\n",
            "(0.16868898170361205+0j) [Z0 Z1] +\n",
            "(0.12062523483390417+0j) [Z0 Z2] +\n",
            "(0.16592785033770344+0j) [Z0 Z3] +\n",
            "(0.17141282644776898+0j) [Z1] +\n",
            "(0.16592785033770344+0j) [Z1 Z2] +\n",
            "(0.12062523483390417+0j) [Z1 Z3] +\n",
            "(-0.22343153690813572+0j) [Z2] +\n",
            "(0.174412876122616+0j) [Z2 Z3] +\n",
            "(-0.22343153690813572+0j) [Z3]\n"
          ],
          "name": "stdout"
        }
      ]
    },
    {
      "cell_type": "markdown",
      "metadata": {
        "id": "6ISQWQQM_YNU",
        "colab_type": "text"
      },
      "source": [
        "## Energy calculation"
      ]
    },
    {
      "cell_type": "code",
      "metadata": {
        "id": "PpUoLIqD_My7",
        "colab_type": "code",
        "colab": {}
      },
      "source": [
        "import scipy.sparse"
      ],
      "execution_count": 16,
      "outputs": []
    },
    {
      "cell_type": "code",
      "metadata": {
        "id": "O8mHG7T4_KHM",
        "colab_type": "code",
        "colab": {
          "base_uri": "https://localhost:8080/",
          "height": 34
        },
        "outputId": "c1de61eb-ab0a-421f-e2ce-4186054cd358"
      },
      "source": [
        "# Convert to Scipy sparse matrix\n",
        "hamiltonian_jw_sparse = of.get_sparse_operator(h2_qubit_hamiltonian)\n",
        "\n",
        "# Compute ground energy\n",
        "eigs, _ = scipy.sparse.linalg.eigsh(hamiltonian_jw_sparse, k=1, which='SA')\n",
        "ground_energy = eigs[0]\n",
        "\n",
        "print('Ground_energy: {}'.format(ground_energy))"
      ],
      "execution_count": 17,
      "outputs": [
        {
          "output_type": "stream",
          "text": [
            "Ground_energy: -1.1372838344885028\n"
          ],
          "name": "stdout"
        }
      ]
    },
    {
      "cell_type": "markdown",
      "metadata": {
        "id": "aFx4U5JS_6QV",
        "colab_type": "text"
      },
      "source": [
        "## Bond lenght calculation"
      ]
    },
    {
      "cell_type": "code",
      "metadata": {
        "id": "7qTog5kl_net",
        "colab_type": "code",
        "colab": {
          "base_uri": "https://localhost:8080/",
          "height": 279
        },
        "outputId": "6acc8dae-3e8f-40ab-e09d-997b730a8d21"
      },
      "source": [
        "# Set molecule parameters.\n",
        "basis = 'sto-3g'\n",
        "multiplicity = 1\n",
        "bond_length_interval = 0.05\n",
        "n_points = 40\n",
        "\n",
        "# Set calculation parameters.\n",
        "run_scf = 1\n",
        "run_mp2 = 1\n",
        "run_cisd = 0\n",
        "run_ccsd = 0\n",
        "run_fci = 1\n",
        "delete_input = True\n",
        "delete_output = True\n",
        "\n",
        "# Generate molecule at different bond lengths.\n",
        "hf_energies = []\n",
        "fci_energies = []\n",
        "bond_lengths = []\n",
        "for point in range(1, n_points + 1):\n",
        "    bond_length = bond_length_interval * float(point)\n",
        "    bond_lengths += [bond_length]\n",
        "    geometry = [('H', (0., 0., 0.)), ('H', (0., 0., bond_length))]\n",
        "    molecule = MolecularData(\n",
        "        geometry, basis, multiplicity,\n",
        "        description=str(round(bond_length, 2)))\n",
        "    \n",
        "    # Run pyscf.\n",
        "    molecule = ofpyscf.run_pyscf(molecule,\n",
        "                        run_scf=run_scf,\n",
        "                        run_mp2=run_mp2,\n",
        "                        run_cisd=run_cisd,\n",
        "                        run_ccsd=run_ccsd,\n",
        "                        run_fci=run_fci)\n",
        "    hf_energies += [molecule.hf_energy]\n",
        "    fci_energies += [molecule.fci_energy]\n",
        "\n",
        "# Plot.\n",
        "import matplotlib.pyplot as plt\n",
        "%matplotlib inline\n",
        "\n",
        "plt.figure(0)\n",
        "plt.plot(bond_lengths, fci_energies, 'x-')\n",
        "plt.plot(bond_lengths, hf_energies, 'o-')\n",
        "plt.ylabel('Energy in Hartree')\n",
        "plt.xlabel('Bond length in angstrom')\n",
        "plt.show()\n"
      ],
      "execution_count": 18,
      "outputs": [
        {
          "output_type": "display_data",
          "data": {
            "image/png": "[encoded data removed]",
            "text/plain": [
              "<Figure size 432x288 with 1 Axes>"
            ]
          },
          "metadata": {
            "tags": [],
            "needs_background": "light"
          }
        }
      ]
    },
    {
      "cell_type": "markdown",
      "metadata": {
        "id": "aepBDDFp4TpO",
        "colab_type": "text"
      },
      "source": [
        "## Resources\n",
        "<ul>\n",
        "  <li>[Original](https://colab.research.google.com/drive/1Mh_gMkAWXlEK-jk1jPAPH-v-Zun7DJ2W#scrollTo=61RGlD_rhw5t)</li>\n",
        "  <li>[Tutorial](https://colab.research.google.com/drive/1Mh_gMkAWXlEK-jk1jPAPH-v-Zun7DJ2W#scrollTo=babE3T61S-yd)</li>\n",
        "  <li>[arXiv:1710.07629](https://arxiv.org/abs/1710.07629)</li>\n",
        "</ul>"
      ]
    }
  ]
}