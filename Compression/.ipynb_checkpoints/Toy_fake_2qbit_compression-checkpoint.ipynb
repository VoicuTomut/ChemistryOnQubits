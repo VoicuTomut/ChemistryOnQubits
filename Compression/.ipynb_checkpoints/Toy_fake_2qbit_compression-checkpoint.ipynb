{
 "cells": [
  {
   "cell_type": "code",
   "execution_count": 1,
   "metadata": {},
   "outputs": [],
   "source": [
    "import  numpy as np\n",
    "import matplotlib as plt\n"
   ]
  },
  {
   "cell_type": "code",
   "execution_count": 2,
   "metadata": {},
   "outputs": [],
   "source": [
    "from qiskit import BasicAer, Aer\n",
    "from qiskit import QuantumRegister ,ClassicalRegister,QuantumCircuit\n"
   ]
  },
  {
   "cell_type": "code",
   "execution_count": 3,
   "metadata": {},
   "outputs": [],
   "source": [
    "import itertools \n",
    "from scipy.optimize import minimize\n",
    "from scipy.linalg import expm,logm, sinm, cosm\n"
   ]
  },
  {
   "cell_type": "code",
   "execution_count": 4,
   "metadata": {},
   "outputs": [],
   "source": [
    "from lib.math_sh import decompose,print_decompose\n",
    "from lib.const import *\n",
    "from lib.matchgate_02 import *\n",
    "from lib.expected import expected"
   ]
  },
  {
   "cell_type": "code",
   "execution_count": 5,
   "metadata": {},
   "outputs": [],
   "source": [
    "backend=Aer.get_backend('qasm_simulator')"
   ]
  },
  {
   "cell_type": "code",
   "execution_count": 6,
   "metadata": {},
   "outputs": [],
   "source": [
    "# So in these situation we onlie have two qbit\n",
    "# Initial state: S1=00 , S2=10,\n",
    "# Initial Gate: G(\\theta)"
   ]
  },
  {
   "cell_type": "code",
   "execution_count": 7,
   "metadata": {},
   "outputs": [],
   "source": [
    "class G_t():\n",
    "    def __init__(self,t,q):\n",
    "        #q-neighboring qubits q=(q_0,q_1) q_0<q_1\n",
    "        #t-gate parameter\n",
    "    \n",
    "        self.t=t\n",
    "        self.mat=np.array([[1,0,0,0],\n",
    "                           [0,np.sin(self.t),np.cos(self.t),0],\n",
    "                           [0,np.cos(self.t),-1*np.sin(self.t),0],\n",
    "                           [0,0,0,-1]])\n",
    "        self.qbits=q\n",
    "        \n",
    "    def gate(self):\n",
    "        # create a gate from unitary self.mat \n",
    "        # this gate must be added to the circuit on q:\n",
    "        #A=G_t(t)\n",
    "        #qc.append(gate(A),[q_0,q_1])\n",
    "        \n",
    "        qc=QuantumCircuit(2,name='G_t('+str(t)+')')\n",
    "        qc.unitary(self.mat,[0,1])\n",
    "        return qc.to_gate()"
   ]
  },
  {
   "cell_type": "code",
   "execution_count": 8,
   "metadata": {},
   "outputs": [
    {
     "data": {
      "text/plain": [
       "'\\n#Example:\\n\\nt=np.pi/3\\nA=G_t(t,[1,2])\\nprint(\"theta:\",A.t)\\nprint(\"q_0:{};q_1:{}\".format(A.qbits[0],A.qbits[1]))\\nprint(\"A matrix:\\n\",A.mat)\\nprint_decompose(A.mat)\\n\\nqr=QuantumRegister(7,\\'qr\\')\\nqc=QuantumCircuit(qr)\\nqc.append(A.gate(),[qr[A.qbits[0]],qr[A.qbits[1]]])\\nqc.draw(\\'mpl\\')\\n'"
      ]
     },
     "execution_count": 8,
     "metadata": {},
     "output_type": "execute_result"
    }
   ],
   "source": [
    "'''\n",
    "#Example:\n",
    "\n",
    "t=np.pi/3\n",
    "A=G_t(t,[1,2])\n",
    "print(\"theta:\",A.t)\n",
    "print(\"q_0:{};q_1:{}\".format(A.qbits[0],A.qbits[1]))\n",
    "print(\"A matrix:\\n\",A.mat)\n",
    "print_decompose(A.mat)\n",
    "\n",
    "qr=QuantumRegister(7,'qr')\n",
    "qc=QuantumCircuit(qr)\n",
    "qc.append(A.gate(),[qr[A.qbits[0]],qr[A.qbits[1]]])\n",
    "qc.draw('mpl')\n",
    "'''"
   ]
  },
  {
   "cell_type": "code",
   "execution_count": 9,
   "metadata": {},
   "outputs": [],
   "source": [
    "class init_xo():\n",
    "    #class for initalial states of the form: 000, 100, 110, 111\n",
    "    def __init__(self,nrq,x):\n",
    "        #nrq-total number of qbits \n",
    "        #x-nr of qubits in state 1\n",
    "        self.nrq=nrq\n",
    "        self.x=x\n",
    "        self.dens=self.densit(nrq,x)\n",
    "        \n",
    "    def densit(self,nrq,x):\n",
    "        D=np.zeros((2**nrq,2**nrq))\n",
    "        s=0\n",
    "        for i in range (x):\n",
    "            s=s+2**i\n",
    "        D[s][s]=1\n",
    "        return D\n",
    "\n",
    "def circ_xo(xo,qc,qr):\n",
    "    #xo-initial state\n",
    "    #qc-quantum circuit with a regiter- \n",
    "    #qr-with at least nrq qbits\n",
    "    for i in range(xo.x):\n",
    "        qc.x(qr[i])"
   ]
  },
  {
   "cell_type": "code",
   "execution_count": 10,
   "metadata": {},
   "outputs": [
    {
     "data": {
      "text/plain": [
       "\"\\n# Example:\\n\\nInit=init_xo(3,2)\\nprint(Init.dens)\\n\\nqr=QuantumRegister(7,'qr')\\nqc=QuantumCircuit(qr)\\ncirc_xo(Init,qc,qr)\\nqc.draw('mpl')\\n\\n\""
      ]
     },
     "execution_count": 10,
     "metadata": {},
     "output_type": "execute_result"
    }
   ],
   "source": [
    "'''\n",
    "# Example:\n",
    "\n",
    "Init=init_xo(3,2)\n",
    "print(Init.dens)\n",
    "\n",
    "qr=QuantumRegister(7,'qr')\n",
    "qc=QuantumCircuit(qr)\n",
    "circ_xo(Init,qc,qr)\n",
    "qc.draw('mpl')\n",
    "\n",
    "'''"
   ]
  },
  {
   "cell_type": "code",
   "execution_count": 11,
   "metadata": {},
   "outputs": [],
   "source": [
    "# Operators for Jordan-Wigner mapping\n",
    "def get_c(nrq):\n",
    "    x=[]\n",
    "    for i in range (nrq):\n",
    "        x2=X\n",
    "        x21=Y\n",
    "        for k in range(i):\n",
    "            x2=np.kron(Z,x2)\n",
    "            x21=np.kron(Z,x21)\n",
    "        for k in range(i+1,nrq):\n",
    "            x2=np.kron(x2,I)\n",
    "            x21=np.kron(x21,I)\n",
    "        x.append(x2)\n",
    "        x.append(x21)\n",
    "    return x\n",
    "\n",
    "class c_op():\n",
    "    def __init__(self,size):\n",
    "        self.size=size\n",
    "        self.elements=get_c(size)\n",
    "        self.label,self.coef=self.labels()\n",
    "        self.etichet=self.et()\n",
    "    def et(self):\n",
    "        et=[]\n",
    "        for i in range(self.size*2):\n",
    "            et.append('c_'+str(i))\n",
    "        return et\n",
    "    def labels(self):\n",
    "        labels=[]\n",
    "        coef=[]\n",
    "        for j in self.elements:\n",
    "            l=[]\n",
    "            c=[]\n",
    "            x_j,x_label=decompose(j)\n",
    "            for i in range(len(x_j)):\n",
    "                if(abs(x_j[i])!=0):\n",
    "                    l.append(x_label[i])\n",
    "                    c.append(x_j[i])\n",
    "            labels.append(l)\n",
    "            coef.append(c)\n",
    "        return labels, coef\n",
    "    def info(self):\n",
    "        print('size:',self.size)\n",
    "        label=self.label\n",
    "        coef=self.coef\n",
    "        print('nr. elements:',len(label))\n",
    "        for i in range(len(label)):\n",
    "            print(self.etichet[i])\n",
    "            print('labels:',label[i])\n",
    "            print('coef:',coef[i])\n",
    "            print('matrix: \\n',self.elements[i])\n",
    "            print(\"#################################################\")"
   ]
  },
  {
   "cell_type": "code",
   "execution_count": 12,
   "metadata": {},
   "outputs": [
    {
     "data": {
      "text/plain": [
       "'\\n# Example:\\n\\nC=c_op(2)\\nC.info()\\n\\n'"
      ]
     },
     "execution_count": 12,
     "metadata": {},
     "output_type": "execute_result"
    }
   ],
   "source": [
    "'''\n",
    "# Example:\n",
    "\n",
    "C=c_op(2)\n",
    "C.info()\n",
    "\n",
    "'''"
   ]
  },
  {
   "cell_type": "code",
   "execution_count": 13,
   "metadata": {},
   "outputs": [],
   "source": [
    "class obs_2c():\n",
    "    def __init__(self,a,C):\n",
    "        self.a=a\n",
    "        self.C=C\n",
    "        self.mat=\"Not calculate yet use self.matrix() to fix the problem\"\n",
    "    \n",
    "    def matrix(self):\n",
    "        s=np.zeros((2**C.size,2**C.size))\n",
    "        for i in range(len(a)):\n",
    "            for j in range(len(a)):\n",
    "                if (a[i][j]!=0):\n",
    "                    s=s+a[i][j]*np.matmul(C.elements[i],C.elements[j])\n",
    "        self.mat=1j/2*s"
   ]
  },
  {
   "cell_type": "code",
   "execution_count": 14,
   "metadata": {},
   "outputs": [
    {
     "data": {
      "text/plain": [
       "'\\na= np.array([[0,1,0,0],\\n             [-1,0,0,0],\\n             [0,0,0,0],\\n             [0,0,0,0] ])\\nC=c_op(2)\\n\\nOBS=obs_2c(a,C)\\n\\nOBS.matrix()\\nprint(OBS.mat)\\n\\nprint_decompose(OBS.mat)\\n\\nh,h_label=decompose(OBS.mat)\\n'"
      ]
     },
     "execution_count": 14,
     "metadata": {},
     "output_type": "execute_result"
    }
   ],
   "source": [
    "'''\n",
    "a= np.array([[0,1,0,0],\n",
    "             [-1,0,0,0],\n",
    "             [0,0,0,0],\n",
    "             [0,0,0,0] ])\n",
    "C=c_op(2)\n",
    "\n",
    "OBS=obs_2c(a,C)\n",
    "\n",
    "OBS.matrix()\n",
    "print(OBS.mat)\n",
    "\n",
    "print_decompose(OBS.mat)\n",
    "\n",
    "h,h_label=decompose(OBS.mat)\n",
    "'''"
   ]
  },
  {
   "cell_type": "code",
   "execution_count": 15,
   "metadata": {},
   "outputs": [
    {
     "name": "stdout",
     "output_type": "stream",
     "text": [
      "XX:(1+0j)\n",
      "ZI:(-1+0j)\n"
     ]
    }
   ],
   "source": [
    "nrq=2\n",
    "C=c_op(nrq)\n",
    "\n",
    "#Initial state\n",
    "Init=init_xo(2,1)\n",
    "\n",
    "#Gate \n",
    "t=2*np.pi/3\n",
    "A=G_t(t,[0,1])\n",
    "\n",
    "#Observable\n",
    "a= np.array([[0, 1, 0,  0],\n",
    "             [-1,0, -1, 0],\n",
    "             [0, 1, 0,  0],\n",
    "             [0, 0, 0,  0] ])\n",
    "\n",
    "OBS=obs_2c(a,C)\n",
    "OBS.matrix()\n",
    "h,h_label=decompose(OBS.mat)\n",
    "\n",
    "print_decompose(OBS.mat)"
   ]
  },
  {
   "cell_type": "code",
   "execution_count": 16,
   "metadata": {},
   "outputs": [
    {
     "data": {
      "image/png": "[encoded data removed]",
      "text/plain": [
       "<Figure size 456.306x204.68 with 1 Axes>"
      ]
     },
     "execution_count": 16,
     "metadata": {},
     "output_type": "execute_result"
    }
   ],
   "source": [
    "qr=QuantumRegister(nrq,'qr')\n",
    "cr=ClassicalRegister(nrq,'cr')\n",
    "qc=QuantumCircuit(qr,cr)\n",
    "\n",
    "circ_xo(Init,qc,qr)\n",
    "qc.append(A.gate(),[qr[A.qbits[0]],qr[A.qbits[1]]])\n",
    "\n",
    "qc.draw('mpl')"
   ]
  },
  {
   "cell_type": "code",
   "execution_count": 17,
   "metadata": {},
   "outputs": [
    {
     "name": "stdout",
     "output_type": "stream",
     "text": [
      "exp for XX =-0.86332\n",
      "exp for ZI =-0.50078\n",
      "val: (-0.36254+0j)\n"
     ]
    }
   ],
   "source": [
    "val=0\n",
    "for i in range(len(h)):\n",
    "    if h[i]!=0:\n",
    "        exp=expected(qc,h_label[i],shots=100000,backend=backend)\n",
    "        val=val+h[i]*exp\n",
    "        print('exp for {} ={}'.format(h_label[i],exp))\n",
    "print(\"val:\",val)"
   ]
  },
  {
   "cell_type": "code",
   "execution_count": 18,
   "metadata": {},
   "outputs": [],
   "source": [
    "#Compression"
   ]
  },
  {
   "cell_type": "code",
   "execution_count": 19,
   "metadata": {},
   "outputs": [],
   "source": [
    "def comutation(mat1,mat2):\n",
    "    return np.matmul(mat1,mat2)-np.matmul(mat2,mat1)\n",
    "\n",
    "\n",
    "def corelation(dens,op):\n",
    "    nrq=int(np.log2(len(dens)))\n",
    "    x=op.elements\n",
    "    #print(x)\n",
    "    Co=[]\n",
    "    for  i in range(2*nrq):\n",
    "        li=[]\n",
    "        for j in range(2*nrq):\n",
    "            li.append(-1*(1.0j/2)*np.matmul(comutation(x[i],x[j]),dens).trace())\n",
    "        Co.append(li)\n",
    "    return Co\n",
    "\n",
    "#Creat density matrix for the compress state  from initial density \n",
    "def new_state(dens,op):\n",
    "    nrq=int(np.log2(len(dens)))\n",
    "    ide=np.identity(2*nrq,dtype=np.complex128)\n",
    "    Co=corelation(dens,op)\n",
    "    for i in range(len(Co)):\n",
    "        for j in range(len(Co)):\n",
    "            Co[i][j]=1j*(Co[i][j])\n",
    "    return (1/(2*nrq))*(ide+Co)\n",
    "\n"
   ]
  },
  {
   "cell_type": "code",
   "execution_count": 39,
   "metadata": {},
   "outputs": [],
   "source": [
    "class R_gate:\n",
    "    def __init__(self,gate,size):\n",
    "        #gate=deasire G_t; size= total nr of qbits\n",
    "        self.k_1=gate.qbits[0]\n",
    "        self.k_2=gate.qbits[1]\n",
    "        self.g_t=gate\n",
    "        self.t=gate.t\n",
    "        self.size=size\n",
    "        self.mat=\"Not calculate yet. Solve these problem usig self.get_R_mat()\"\n",
    "        \n",
    "    def get_R_h(self):\n",
    "        a=self.t\n",
    "        h=np.zeros((2*self.size,2*self.size))\n",
    "        k_1=self.k_1\n",
    "        k_2=self.k_2\n",
    "        h[2*k_1+1][2*k_1]=(np.cos(a*2)+1)/4\n",
    "        h[2*k_1][2*k_1+1]=-(np.cos(a*2)+1)/4\n",
    "        h[2*k_2][2*k_1+1]=np.sin(a*2)/4\n",
    "        h[2*k_1+1][2*k_2]=-np.sin(a*2)/4\n",
    "        h[2*k_2+1][2*k_2]=(1-np.cos(a*2))/4\n",
    "        h[2*k_2][2*k_2+1]=-(1-np.cos(a*2))/4\n",
    "        h[2*k_2+1][2*k_1]=-np.sin(a*2)/4\n",
    "        h[2*k_1][2*k_2+1]=np.sin(a*2)/4\n",
    "           \n",
    "        return h\n",
    "        \n",
    "    def get_R_mat(self):\n",
    "        self.mat=expm(-4*np.pi/2*self.get_R_h())\n",
    "        \n",
    "    def gate(self):\n",
    "        # create a gate from unitary self.mat     \n",
    "        qc=QuantumCircuit(2,name='R_t_t')\n",
    "        qc.unitary(self.mat,[0,1])\n",
    "        return qc.to_gate()"
   ]
  },
  {
   "cell_type": "code",
   "execution_count": 40,
   "metadata": {},
   "outputs": [],
   "source": [
    "def dec_vec(nr,nrq):\n",
    "    r=np.zeros(2**nrq) \n",
    "    r[nr]=1\n",
    "    return r\n",
    "\n",
    "#A=1j/2(\\sum_0^(2n-1)a_{j,k}c_jc_k)\n",
    "def compress_obs(obs):\n",
    "    s=np.zeros((len(obs.C.elements),len(obs.C.elements)))\n",
    "    for i in range(len(obs.a)):\n",
    "        for j in range(len(obs.a)):\n",
    "            s=s+a[i][j]*np.outer(dec_vec(i,obs.C.size),dec_vec(j,obs.C.size))\n",
    "    return 1j/2*s"
   ]
  },
  {
   "cell_type": "code",
   "execution_count": 41,
   "metadata": {},
   "outputs": [
    {
     "name": "stdout",
     "output_type": "stream",
     "text": [
      "ZY:1j\n"
     ]
    }
   ],
   "source": [
    "co=corelation(init_d,C)\n",
    "print_decompose(co)"
   ]
  },
  {
   "cell_type": "code",
   "execution_count": 42,
   "metadata": {},
   "outputs": [
    {
     "name": "stdout",
     "output_type": "stream",
     "text": [
      "Initial density:\n",
      "[0. 0. 0. 0.]\n",
      "[0. 1. 0. 0.]\n",
      "[0. 0. 0. 0.]\n",
      "[0. 0. 0. 0.]\n",
      "\n",
      " New density:\n",
      "[0.25+0.j   0.  +0.25j 0.  +0.j   0.  +0.j  ]\n",
      "[0.  -0.25j 0.25+0.j   0.  +0.j   0.  +0.j  ]\n",
      "[0.  +0.j   0.  +0.j   0.25+0.j   0.  -0.25j]\n",
      "[0.  +0.j   0.  +0.j   0.  +0.25j 0.25+0.j  ]\n",
      "II:(0.25+0j)\n",
      "ZY:(-0.25+0j)\n"
     ]
    }
   ],
   "source": [
    "#Compress Initial state:\n",
    "\n",
    "init_d=Init.dens\n",
    "\n",
    "print(\"Initial density:\")\n",
    "for i in init_d:\n",
    "    print(i)\n",
    "    \n",
    "new=new_state(init_d,C)\n",
    "print(\"\\n New density:\")\n",
    "for i in new:\n",
    "    print(i)\n",
    "    \n",
    "print_decompose(new)"
   ]
  },
  {
   "cell_type": "code",
   "execution_count": 43,
   "metadata": {},
   "outputs": [
    {
     "data": {
      "text/plain": [
       "array([[ 0.12379089, -0.81068444, -0.40463969,  0.40463969],\n",
       "       [ 0.81068444,  0.12379089, -0.40463969, -0.40463969],\n",
       "       [-0.40463969,  0.40463969, -0.81068444,  0.12379089],\n",
       "       [-0.40463969, -0.40463969, -0.12379089, -0.81068444]])"
      ]
     },
     "execution_count": 43,
     "metadata": {},
     "output_type": "execute_result"
    }
   ],
   "source": [
    "#Compress Gate:\n",
    "R=R_gate(A,2)\n",
    "R.get_R_mat()\n",
    "R.mat"
   ]
  },
  {
   "cell_type": "code",
   "execution_count": 44,
   "metadata": {},
   "outputs": [
    {
     "data": {
      "text/plain": [
       "array([[ 0.        ,  0.125     ,  0.        , -0.21650635],\n",
       "       [-0.125     ,  0.        ,  0.21650635,  0.        ],\n",
       "       [ 0.        , -0.21650635,  0.        , -0.375     ],\n",
       "       [ 0.21650635,  0.        ,  0.375     ,  0.        ]])"
      ]
     },
     "execution_count": 44,
     "metadata": {},
     "output_type": "execute_result"
    }
   ],
   "source": [
    "R.get_R_h()"
   ]
  },
  {
   "cell_type": "code",
   "execution_count": 45,
   "metadata": {},
   "outputs": [
    {
     "name": "stdout",
     "output_type": "stream",
     "text": [
      "[[ 0.+0.j   0.+0.5j  0.+0.j   0.+0.j ]\n",
      " [-0.-0.5j  0.+0.j  -0.-0.5j  0.+0.j ]\n",
      " [ 0.+0.j   0.+0.5j  0.+0.j   0.+0.j ]\n",
      " [ 0.+0.j   0.+0.j   0.+0.j   0.+0.j ]]\n",
      "IY:(-0.25+0j)\n",
      "XY:(-0.25+0j)\n",
      "YX:(0.25+0j)\n",
      "ZY:(-0.25+0j)\n"
     ]
    }
   ],
   "source": [
    "#Compres Observable\n",
    "OBS_compress=compress_obs(OBS)\n",
    "hc,hc_label=decompose(OBS_compress)\n",
    "\n",
    "print(OBS_compress)\n",
    "print_decompose(OBS_compress)"
   ]
  },
  {
   "cell_type": "code",
   "execution_count": 46,
   "metadata": {},
   "outputs": [
    {
     "data": {
      "image/png": "[encoded data removed]",
      "text/plain": [
       "<Figure size 287.101x204.68 with 1 Axes>"
      ]
     },
     "execution_count": 46,
     "metadata": {},
     "output_type": "execute_result"
    }
   ],
   "source": [
    "#Compress Circuit\n",
    "\n",
    "nrq=2\n",
    "\n",
    "qr_c=QuantumRegister(nrq,'qr_c')\n",
    "cr_c=ClassicalRegister(nrq,'cr_c')\n",
    "qc_c=QuantumCircuit(qr_c,cr_c)\n",
    "\n",
    "qc_c.z(qr_c[0])\n",
    "qc_c.y(qr_c[1])\n",
    "\n",
    "\n",
    "#compress gates \n",
    "qc_c.append(R.gate(),qr_c)\n",
    "\n",
    "\n",
    "qc_c.draw('mpl')"
   ]
  },
  {
   "cell_type": "code",
   "execution_count": 50,
   "metadata": {},
   "outputs": [
    {
     "name": "stdout",
     "output_type": "stream",
     "text": [
      "exp for IY =0.0014199999999999768\n",
      "(-0.25+0j)\n",
      "exp for XY =-0.0006599999999999662\n",
      "(-0.25+0j)\n",
      "exp for YX =0.0018599999999999728\n",
      "(0.25+0j)\n",
      "exp for ZY =0.007020000000000012\n",
      "(-0.25+0j)\n",
      "(-0.0014800000000000126+0j)\n"
     ]
    }
   ],
   "source": [
    "val=0\n",
    "for i in range(len(hc)):\n",
    "    if hc[i]!=0:\n",
    "        exp=expected(qc_c,hc_label[i],shots=100000,backend=backend)\n",
    "        val=val+hc[i]*exp\n",
    "        print('exp for {} ={}'.format(hc_label[i],exp))\n",
    "        print(hc[i])\n",
    "val_1=val\n",
    "print(val_1)"
   ]
  },
  {
   "cell_type": "code",
   "execution_count": 51,
   "metadata": {},
   "outputs": [
    {
     "name": "stdout",
     "output_type": "stream",
     "text": [
      "exp for XX =0.7541399999999999\n",
      "(1+0j)\n",
      "exp for ZI =0.63794\n",
      "(-1+0j)\n",
      "(0.11619999999999997+0j)\n"
     ]
    }
   ],
   "source": [
    "val=0\n",
    "for i in range(len(h)):\n",
    "    if h[i]!=0:\n",
    "        exp=expected(qc_c,h_label[i],shots=100000,backend=backend)\n",
    "        val=val+h[i]*exp\n",
    "        print('exp for {} ={}'.format(h_label[i],exp))\n",
    "        print(h[i])\n",
    "val_2=val\n",
    "print(val_2)"
   ]
  },
  {
   "cell_type": "code",
   "execution_count": 52,
   "metadata": {},
   "outputs": [
    {
     "name": "stdout",
     "output_type": "stream",
     "text": [
      "exp for XX =-0.86724\n",
      "(1+0j)\n",
      "exp for ZI =-0.50254\n",
      "(-1+0j)\n",
      "(-0.3647+0j)\n"
     ]
    }
   ],
   "source": [
    "val=0\n",
    "for i in range(len(h)):\n",
    "    if h[i]!=0:\n",
    "        exp=expected(qc,h_label[i],shots=100000,backend=backend)\n",
    "        val=val+h[i]*exp\n",
    "        print('exp for {} ={}'.format(h_label[i],exp))\n",
    "        print(h[i])\n",
    "        \n",
    "print(val)"
   ]
  },
  {
   "cell_type": "code",
   "execution_count": null,
   "metadata": {},
   "outputs": [],
   "source": [
    "-1.00048"
   ]
  },
  {
   "cell_type": "code",
   "execution_count": null,
   "metadata": {},
   "outputs": [],
   "source": [
    "-0.361"
   ]
  }
 ],
 "metadata": {
  "kernelspec": {
   "display_name": "Python 3",
   "language": "python",
   "name": "python3"
  },
  "language_info": {
   "codemirror_mode": {
    "name": "ipython",
    "version": 3
   },
   "file_extension": ".py",
   "mimetype": "text/x-python",
   "name": "python",
   "nbconvert_exporter": "python",
   "pygments_lexer": "ipython3",
   "version": "3.8.5"
  }
 },
 "nbformat": 4,
 "nbformat_minor": 4
}
